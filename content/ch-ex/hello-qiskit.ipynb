{
 "cells": [
  {
   "cell_type": "markdown",
   "metadata": {
    "tags": [
     "remove_cell"
    ]
   },
   "source": [
    "# こんにちはQiskitゲーム"
   ]
  },
  {
   "cell_type": "markdown",
   "metadata": {},
   "source": [
    "量子ビットと量子ゲートを使い始めるための簡単なパズル。\n",
    "\n",
    "# レベル 1: ビットで始めましょう\n",
    "\n",
    "すべての教科書と同様に、このドキュメントはJupyter notebookです。 ただし、ほとんどの教科書とは異なり、実際に実行して機能させる必要があります。\n",
    "\n",
    "これまでJupyterノートブックを使用したことがなくても心配しないでください。 これは、以下のように、コードが入った灰色のボックスがたくさん表示されることを意味します。 これらはセルとして知られています。"
   ]
  },
  {
   "cell_type": "code",
   "execution_count": 1,
   "metadata": {},
   "outputs": [
    {
     "name": "stdout",
     "output_type": "stream",
     "text": [
      "Hello! I'm a code cell\n"
     ]
    }
   ],
   "source": [
    "print(\"Hello! I'm a code cell\")"
   ]
  },
  {
   "cell_type": "markdown",
   "metadata": {},
   "source": [
    "セル内でコードを実行する方法は、使用しているデバイスと入力方法によって異なります。 ほとんどの場合、セルをクリックして**ShiftとEnterキー**を押す必要があります。 ただし、Qiskit教科書のWebサイトでこれを実行している場合は、下の`RUN`ボタンをクリックするだけです。\n",
    "\n",
    "以下のセルに対してこれを実行することから始めます（実行には1〜2秒かかります）。"
   ]
  },
  {
   "cell_type": "markdown",
   "metadata": {},
   "source": [
    "このNotebookの残りのセルには、解くためのパズルを設定するコードが含まれています。 パズルを解くには、セルを実行するだけです。 パズルを再開するには、パズルを再実行するだけです。"
   ]
  },
  {
   "cell_type": "code",
   "execution_count": 3,
   "metadata": {},
   "outputs": [
    {
     "name": "stdout",
     "output_type": "stream",
     "text": [
      "Set up started...\n"
     ]
    },
    {
     "ename": "ModuleNotFoundError",
     "evalue": "No module named 'qiskit_textbook'",
     "output_type": "error",
     "traceback": [
      "\u001b[0;31m---------------------------------------------------------------------------\u001b[0m",
      "\u001b[0;31mModuleNotFoundError\u001b[0m                       Traceback (most recent call last)",
      "\u001b[0;32m<ipython-input-3-31647c13bde3>\u001b[0m in \u001b[0;36m<module>\u001b[0;34m\u001b[0m\n\u001b[1;32m      1\u001b[0m \u001b[0mprint\u001b[0m\u001b[0;34m(\u001b[0m\u001b[0;34m'Set up started...'\u001b[0m\u001b[0;34m)\u001b[0m\u001b[0;34m\u001b[0m\u001b[0;34m\u001b[0m\u001b[0m\n\u001b[0;32m----> 2\u001b[0;31m \u001b[0;32mfrom\u001b[0m \u001b[0mqiskit_textbook\u001b[0m\u001b[0;34m.\u001b[0m\u001b[0mgames\u001b[0m \u001b[0;32mimport\u001b[0m \u001b[0mhello_quantum\u001b[0m\u001b[0;34m\u001b[0m\u001b[0;34m\u001b[0m\u001b[0m\n\u001b[0m\u001b[1;32m      3\u001b[0m \u001b[0mprint\u001b[0m\u001b[0;34m(\u001b[0m\u001b[0;34m'Set up complete!'\u001b[0m\u001b[0;34m)\u001b[0m\u001b[0;34m\u001b[0m\u001b[0;34m\u001b[0m\u001b[0m\n",
      "\u001b[0;31mModuleNotFoundError\u001b[0m: No module named 'qiskit_textbook'"
     ]
    }
   ],
   "source": [
    "print('Set up started...')\n",
    "from qiskit_textbook.games import hello_quantum\n",
    "print('Set up complete!')"
   ]
  },
  {
   "cell_type": "markdown",
   "metadata": {},
   "source": [
    "## パズル 1\n",
    "\n",
    "### イントロダクション・導入\n",
    "量子コンピューターは*量子ビット*に基づいています：ビットの量子力学のルールに従います。 しかし、正確には何ですか？ そして、それらはコンピューターでどのように使用されていますか？\n",
    "\n",
    "ビットの特徴は、2つの可能な出力値があることです。 これらは、`1`と`0`、または「オン」と「オフ」、または「真」と「偽」と呼ぶことができます。 私たちが使用する名前は重要ではありません。 重要な点は、2つあるということです。\n",
    "\n",
    "ビットに慣れるために、ビットで遊んでみましょう。 ビットでできる最も簡単なことは（そのままにしておく以外に）、その値を反転することです。 この単純な操作に派手な名前を付けます。これは`NOT`ゲートと呼ばれます。\n",
    "\n",
    "以下で試してみてください。\n",
    "\n",
    "### 練習問題\n",
    "*  `NOT`ゲートを3回使用してみましょう。"
   ]
  },
  {
   "cell_type": "code",
   "execution_count": 4,
   "metadata": {
    "scrolled": false
   },
   "outputs": [
    {
     "ename": "NameError",
     "evalue": "name 'hello_quantum' is not defined",
     "output_type": "error",
     "traceback": [
      "\u001b[0;31m---------------------------------------------------------------------------\u001b[0m",
      "\u001b[0;31mNameError\u001b[0m                                 Traceback (most recent call last)",
      "\u001b[0;32m<ipython-input-4-00c822a4f2f5>\u001b[0m in \u001b[0;36m<module>\u001b[0;34m\u001b[0m\n\u001b[1;32m      4\u001b[0m \u001b[0mvi\u001b[0m \u001b[0;34m=\u001b[0m \u001b[0;34m[\u001b[0m\u001b[0;34m[\u001b[0m\u001b[0;36m1\u001b[0m\u001b[0;34m]\u001b[0m\u001b[0;34m,\u001b[0m \u001b[0;32mFalse\u001b[0m\u001b[0;34m,\u001b[0m \u001b[0;32mFalse\u001b[0m\u001b[0;34m]\u001b[0m\u001b[0;34m\u001b[0m\u001b[0;34m\u001b[0m\u001b[0m\n\u001b[1;32m      5\u001b[0m \u001b[0mqubit_names\u001b[0m \u001b[0;34m=\u001b[0m \u001b[0;34m{\u001b[0m\u001b[0;34m'0'\u001b[0m\u001b[0;34m:\u001b[0m\u001b[0;34m'the only bit'\u001b[0m\u001b[0;34m,\u001b[0m \u001b[0;34m'1'\u001b[0m\u001b[0;34m:\u001b[0m\u001b[0;32mNone\u001b[0m\u001b[0;34m}\u001b[0m\u001b[0;34m\u001b[0m\u001b[0;34m\u001b[0m\u001b[0m\n\u001b[0;32m----> 6\u001b[0;31m \u001b[0mpuzzle\u001b[0m \u001b[0;34m=\u001b[0m \u001b[0mhello_quantum\u001b[0m\u001b[0;34m.\u001b[0m\u001b[0mrun_game\u001b[0m\u001b[0;34m(\u001b[0m\u001b[0minitialize\u001b[0m\u001b[0;34m,\u001b[0m \u001b[0msuccess_condition\u001b[0m\u001b[0;34m,\u001b[0m \u001b[0mallowed_gates\u001b[0m\u001b[0;34m,\u001b[0m \u001b[0mvi\u001b[0m\u001b[0;34m,\u001b[0m \u001b[0mqubit_names\u001b[0m\u001b[0;34m)\u001b[0m\u001b[0;34m\u001b[0m\u001b[0;34m\u001b[0m\u001b[0m\n\u001b[0m",
      "\u001b[0;31mNameError\u001b[0m: name 'hello_quantum' is not defined"
     ]
    }
   ],
   "source": [
    "initialize = []\n",
    "success_condition = {}\n",
    "allowed_gates = {'0': {'NOT': 3}, '1': {}, 'both': {}}\n",
    "vi = [[1], False, False]\n",
    "qubit_names = {'0':'the only bit', '1':None}\n",
    "puzzle = hello_quantum.run_game(initialize, success_condition, allowed_gates, vi, qubit_names)"
   ]
  },
  {
   "cell_type": "markdown",
   "metadata": {},
   "source": [
    "### 終結\n",
    "ここでは、オン（白）またはオフ（黒）の円を使用してビットを視覚化しました。 `NOT`ゲートの効果は、ビットの2つの状態を切り替えて、オンとオフを切り替えることでした。"
   ]
  },
  {
   "cell_type": "markdown",
   "metadata": {},
   "source": [
    "## パズル 2\n",
    "\n",
    "### イントロダクション\n",
    "1つだけではなく2つのビットで遊ぶ方が面白いです。 だからここに遊ぶための別のものがあります。 以前と同じように見えます。 しかし、それは別のビットなので、別の場所にあります。\n",
    "\n",
    "### 練習問題\n",
    "* もう一方のビットをオンにします。"
   ]
  },
  {
   "cell_type": "code",
   "execution_count": 4,
   "metadata": {},
   "outputs": [
    {
     "data": {
      "application/vnd.jupyter.widget-view+json": {
       "model_id": "f346d3aebc894286b8d73daddf0aab54",
       "version_major": 2,
       "version_minor": 0
      },
      "text/plain": [
       "Image(value=b'\\x89PNG\\r\\n\\x1a\\n\\x00\\x00\\x00\\rIHDR\\x00\\x00\\x01\\xb0\\x00\\x00\\x01\\xb0\\x08\\x06\\x00\\x00\\x00\\xc8N0*\\x…"
      ]
     },
     "metadata": {},
     "output_type": "display_data"
    },
    {
     "data": {
      "application/vnd.jupyter.widget-view+json": {
       "model_id": "95a1443d2ad84309acd00b912488f510",
       "version_major": 2,
       "version_minor": 0
      },
      "text/plain": [
       "VBox(children=(ToggleButtons(options=('Choose gate', 'NOT'), value='Choose gate'), ToggleButtons(options=('',)…"
      ]
     },
     "metadata": {},
     "output_type": "display_data"
    }
   ],
   "source": [
    "initialize = []\n",
    "success_condition = {}\n",
    "allowed_gates = {'0': {}, '1': {'NOT': 0}, 'both': {}}\n",
    "vi = [[], False, False]\n",
    "qubit_names = {'0':'the bit on the left', '1':'the bit on the right'}\n",
    "puzzle = hello_quantum.run_game(initialize, success_condition, allowed_gates, vi, qubit_names)"
   ]
  },
  {
   "cell_type": "markdown",
   "metadata": {},
   "source": [
    "### 終結\n",
    "これで、コンピューティングの最も基本的な構成要素である`NOT`ゲートをマスターしました。"
   ]
  },
  {
   "cell_type": "markdown",
   "metadata": {},
   "source": [
    "### パズル 3\n",
    "\n",
    "### イントロダクション・導入\n",
    "「ゲート」という言葉を使用して、量子ビットを操作するために使用できる簡単なツールを説明します。 `NOT`ゲートは最も単純な例です。しかし、ビットを使って面白いことをするためには、単にオンとオフを切り替える以上のことをする必要があります。\n",
    "\n",
    "もう少し洗練されたゲートは`CNOT`と呼ばれ、「controled-NOT」の略です。 これはビットのペアで使用されます。\n",
    "\n",
    "「コントロール」となるビットの1つを選択します。これにより、CNOTが実際に何かを実行するかどうかが決まります。もう1つのビットは「ターゲット」です。 簡単に言えば、CNOTはターゲットビットに対して`NOT`を実行しますが、制御ビットがオンの場合に限ります。\n",
    "\n",
    "これを理解する最良の方法は、試してみることです。\n",
    "\n",
    "### 練習問題\n",
    "\n",
    "* CNOTを使用して、右側のビットをオンにします。\n",
    "* **注**：ビットを選択するように求められた場合は、どちらをターゲットビットにするかを選択しています。"
   ]
  },
  {
   "cell_type": "code",
   "execution_count": 9,
   "metadata": {},
   "outputs": [
    {
     "data": {
      "application/vnd.jupyter.widget-view+json": {
       "model_id": "ee1d2a14c16346c1b61fd403f91e4eb8",
       "version_major": 2,
       "version_minor": 0
      },
      "text/plain": [
       "Image(value=b'\\x89PNG\\r\\n\\x1a\\n\\x00\\x00\\x00\\rIHDR\\x00\\x00\\x01\\xb0\\x00\\x00\\x01\\xb0\\x08\\x06\\x00\\x00\\x00\\xc8N0*\\x…"
      ]
     },
     "metadata": {},
     "output_type": "display_data"
    },
    {
     "data": {
      "application/vnd.jupyter.widget-view+json": {
       "model_id": "9f5521cc64764556bab627899cb61cec",
       "version_major": 2,
       "version_minor": 0
      },
      "text/plain": [
       "VBox(children=(ToggleButtons(options=('Choose gate', 'CNOT'), value='Choose gate'), ToggleButtons(options=('',…"
      ]
     },
     "metadata": {},
     "output_type": "display_data"
    }
   ],
   "source": [
    "initialize = [['x', '0']]\n",
    "success_condition = {'IZ': -1.0}\n",
    "allowed_gates = {'0': {'CNOT': 0}, '1': {'CNOT': 0}, 'both': {}}\n",
    "vi = [[], False, False]\n",
    "qubit_names = {'0':'the bit on the left', '1':'the bit on the right'}\n",
    "puzzle = hello_quantum.run_game(initialize, success_condition, allowed_gates, vi, qubit_names)"
   ]
  },
  {
   "cell_type": "markdown",
   "metadata": {},
   "source": [
    "## パズル 4\n",
    "\n",
    "### イントロダクション・導入\n",
    "私たちが実行するプログラムはすべて、多くの量子ビット上の多くのゲートで構成されています。 これに向けたステップとして、いくつかの`CNOT`を使用する必要があるものを試してみましょう。\n",
    "\n",
    "### 練習問題\n",
    "\n",
    "* いくつかのCNOTを使用して、左ビットをオフにし、右ビットをオンにします。"
   ]
  },
  {
   "cell_type": "code",
   "execution_count": 10,
   "metadata": {},
   "outputs": [
    {
     "data": {
      "application/vnd.jupyter.widget-view+json": {
       "model_id": "d685d08daac04c628a143cb6844b6d62",
       "version_major": 2,
       "version_minor": 0
      },
      "text/plain": [
       "Image(value=b'\\x89PNG\\r\\n\\x1a\\n\\x00\\x00\\x00\\rIHDR\\x00\\x00\\x01\\xb0\\x00\\x00\\x01\\xb0\\x08\\x06\\x00\\x00\\x00\\xc8N0*\\x…"
      ]
     },
     "metadata": {},
     "output_type": "display_data"
    },
    {
     "data": {
      "application/vnd.jupyter.widget-view+json": {
       "model_id": "2d7b5bd03a3d4074acd14038fbeedc38",
       "version_major": 2,
       "version_minor": 0
      },
      "text/plain": [
       "VBox(children=(ToggleButtons(options=('Choose gate', 'CNOT'), value='Choose gate'), ToggleButtons(options=('',…"
      ]
     },
     "metadata": {},
     "output_type": "display_data"
    }
   ],
   "source": [
    "initialize = [['x', '0']]\n",
    "success_condition = {'ZI': 1.0, 'IZ': -1.0}\n",
    "allowed_gates = {'0': {'CNOT': 0}, '1': {'CNOT': 0}, 'both': {}}\n",
    "vi = [[], False, False]\n",
    "qubit_names = {'0':'the bit on the left', '1':'the bit on the right'}\n",
    "puzzle = hello_quantum.run_game(initialize, success_condition, allowed_gates, vi, qubit_names)"
   ]
  },
  {
   "cell_type": "markdown",
   "metadata": {},
   "source": [
    "### 終結\n",
    "素晴らしい！\n",
    "\n",
    "これらの種類の操作は、すべてのコンピューティングがコンパイルするものです。 より多くのビットと制御された制御された`NOT`ゲートがあれば、テトリスから自動運転車まですべてを構築できます。"
   ]
  },
  {
   "cell_type": "markdown",
   "metadata": {},
   "source": [
    "## パズル 5\n",
    "\n",
    "### 導入\n",
    "お気づきかもしれませんが、パズルボードにはたくさんの空きスペースがあります。 これは、ビットに関するより多くの情報を視覚化するために使用できるためです。 たとえば、ビット値がランダムなプロセスによって生成された場合はどうなるでしょうか？\n",
    "\n",
    "0または1のビット値を表すために黒と白の円を使用しました。したがって、等確率で0または1が得られるランダムビットの場合、灰色の円を使用します。\n",
    "\n",
    "これで、ゲートがこのランダム性をどのように操作するかを見ることができます。\n",
    "\n",
    "### 練習問題\n",
    "* CNOTを使用して、右側のビットをランダムにします。"
   ]
  },
  {
   "cell_type": "code",
   "execution_count": 10,
   "metadata": {},
   "outputs": [
    {
     "data": {
      "application/vnd.jupyter.widget-view+json": {
       "model_id": "c51ac25837e94a90bcb9447e4e2070eb",
       "version_major": 2,
       "version_minor": 0
      },
      "text/plain": [
       "Image(value=b'\\x89PNG\\r\\n\\x1a\\n\\x00\\x00\\x00\\rIHDR\\x00\\x00\\x01\\xb0\\x00\\x00\\x01\\xb0\\x08\\x06\\x00\\x00\\x00\\xc8N0*\\x…"
      ]
     },
     "metadata": {},
     "output_type": "display_data"
    },
    {
     "data": {
      "application/vnd.jupyter.widget-view+json": {
       "model_id": "a1515ddc25ab444e924797b63ada3691",
       "version_major": 2,
       "version_minor": 0
      },
      "text/plain": [
       "VBox(children=(ToggleButtons(options=('Choose gate', 'CNOT'), value='Choose gate'), ToggleButtons(options=('',…"
      ]
     },
     "metadata": {},
     "output_type": "display_data"
    }
   ],
   "source": [
    "initialize = [['h', '0']]\n",
    "success_condition = {'IZ': 0.0}\n",
    "allowed_gates = {'0': {'CNOT': 0}, '1': {'CNOT': 0}, 'both': {}}\n",
    "vi = [[], False, False]\n",
    "qubit_names = {'0':'the bit on the left', '1':'the bit on the right'}\n",
    "puzzle = hello_quantum.run_game(initialize, success_condition, allowed_gates, vi, qubit_names)"
   ]
  },
  {
   "cell_type": "markdown",
   "metadata": {},
   "source": [
    "### 終結\n",
    "\n",
    "\n",
    "素晴らしいでしょう！\n",
    "\n",
    "ここで何が起こったのか考えてみましょう。 ランダムにオンまたはオフのいずれかであるビットによって制御される`CNOT`を実行しました。 オフの場合、`CNOT`は何もせず、右ビットはオフのままです。 左側のビットがオンの場合、`CNOT`は右側のビットでも`NOT`を実行してオンにします。\n",
    "\n",
    "このプロセスは、左ビットのランダム値を右に効果的にコピーします。 したがって、両方からの出力はランダムに見えますが、重要な特性があります。それらは常に互いに同じランダムな結果を出力します。\n",
    "\n",
    "上記のパズルの終わりに、2つのビットは2つの灰色の円で表されました。 これは、両方がランダムであることを示していますが、常に一致しているという事実については何も教えてくれません。 ビットが独立してランダムである場合、またはランダムであるが常に一致しない場合にも、同じ2つの灰色の円が使用されます。 \n",
    "この違いを見分けるために，問題ボードに何かを追加する必要があります。"
   ]
  },
  {
   "cell_type": "markdown",
   "metadata": {},
   "source": [
    "## パズル 6\n",
    "\n",
    "### 導入\n",
    "下のパズルでは、新しい円が表示されます。\n",
    "\n",
    "これまでに見た円とは異なり、新しいビットを表すものではありません。 代わりに、2ビットが一致するかどうかを示します。\n",
    "\n",
    "それらが一致することが確実であるとき、それはオフになります。 それらが一致しないことが確実な場合、それはオンになります。 彼らの一致と不一致がランダムである場合、それは灰色になります。\n",
    "\n",
    "### 練習問題\n",
    "\n",
    "*  2つのビットを常に一致させないようにします（つまり、真ん中の円を白にします）。"
   ]
  },
  {
   "cell_type": "code",
   "execution_count": 11,
   "metadata": {
    "scrolled": false
   },
   "outputs": [
    {
     "data": {
      "application/vnd.jupyter.widget-view+json": {
       "model_id": "4d9547b8be8c4a0baa32083be1fd47bf",
       "version_major": 2,
       "version_minor": 0
      },
      "text/plain": [
       "Image(value=b'\\x89PNG\\r\\n\\x1a\\n\\x00\\x00\\x00\\rIHDR\\x00\\x00\\x01\\xb0\\x00\\x00\\x01\\xb0\\x08\\x06\\x00\\x00\\x00\\xc8N0*\\x…"
      ]
     },
     "metadata": {},
     "output_type": "display_data"
    },
    {
     "data": {
      "application/vnd.jupyter.widget-view+json": {
       "model_id": "9f5e903165924de29e1f5309f27b6740",
       "version_major": 2,
       "version_minor": 0
      },
      "text/plain": [
       "VBox(children=(ToggleButtons(options=('Choose gate', 'NOT', 'CNOT'), value='Choose gate'), ToggleButtons(optio…"
      ]
     },
     "metadata": {},
     "output_type": "display_data"
    }
   ],
   "source": [
    "initialize = [['h', '0']]\n",
    "success_condition = {'ZZ': -1.0}\n",
    "allowed_gates = {'0': {'NOT': 0, 'CNOT': 0}, '1': {'NOT': 0, 'CNOT': 0}, 'both': {}}\n",
    "vi = [[], False, True]\n",
    "qubit_names = {'0':'the bit on the left', '1':'the bit on the right'}\n",
    "puzzle = hello_quantum.run_game(initialize, success_condition, allowed_gates, vi, qubit_names)"
   ]
  },
  {
   "cell_type": "markdown",
   "metadata": {},
   "source": [
    "## パズル 7\n",
    "\n",
    "### 導入\n",
    "これで、ビットについて知る必要があるすべてがほぼ必要であることがわかりました。 先に進む前に、もう1つ演習を行いましょう。\n",
    "\n",
    "### 練習問題\n",
    "* 右側のビットをオンにします。"
   ]
  },
  {
   "cell_type": "code",
   "execution_count": 6,
   "metadata": {},
   "outputs": [
    {
     "data": {
      "application/vnd.jupyter.widget-view+json": {
       "model_id": "bbc0986b5cf24bc18f1d24bf4200ac2c",
       "version_major": 2,
       "version_minor": 0
      },
      "text/plain": [
       "Image(value=b'\\x89PNG\\r\\n\\x1a\\n\\x00\\x00\\x00\\rIHDR\\x00\\x00\\x01\\xb0\\x00\\x00\\x01\\xb0\\x08\\x06\\x00\\x00\\x00\\xc8N0*\\x…"
      ]
     },
     "metadata": {},
     "output_type": "display_data"
    },
    {
     "data": {
      "application/vnd.jupyter.widget-view+json": {
       "model_id": "f282ac0829a5458f8ea9bc02c5ae5604",
       "version_major": 2,
       "version_minor": 0
      },
      "text/plain": [
       "VBox(children=(ToggleButtons(options=('Choose gate', 'NOT', 'CNOT'), value='Choose gate'), ToggleButtons(optio…"
      ]
     },
     "metadata": {},
     "output_type": "display_data"
    }
   ],
   "source": [
    "initialize = [['h', '1']]\n",
    "success_condition = {'IZ': -1.0}\n",
    "allowed_gates = {'0': {'NOT': 0, 'CNOT': 0}, '1': {'NOT': 0, 'CNOT': 0}, 'both': {}}\n",
    "vi = [[], False, True]\n",
    "qubit_names = {'0':'the bit on the left', '1':'the bit on the right'}\n",
    "puzzle = hello_quantum.run_game(initialize, success_condition, allowed_gates, vi, qubit_names)"
   ]
  },
  {
   "cell_type": "markdown",
   "metadata": {},
   "source": [
    "### 終結\n",
    "次に、ビットが量子になったときに何が起こるかを見てみましょう。 量子ビットの時間です！"
   ]
  },
  {
   "cell_type": "markdown",
   "metadata": {},
   "source": [
    "# レベル 2: 基本的な単一量子ビットゲート"
   ]
  },
  {
   "cell_type": "markdown",
   "metadata": {},
   "source": [
    "## パズル 1\n",
    "\n",
    "### 導入\n",
    "量子力学の講義から始める代わりに、ここで遊ぶための量子ビットがあります。 `X`と呼ばれる最も単純な量子ビットゲートを試してみてください。\n",
    "\n",
    "###  練習問題\n",
    "* `X`ゲートを3回使用して、何が起こるかを確認します。"
   ]
  },
  {
   "cell_type": "code",
   "execution_count": 7,
   "metadata": {
    "scrolled": false
   },
   "outputs": [
    {
     "data": {
      "application/vnd.jupyter.widget-view+json": {
       "model_id": "89d8c99af4e34fe98e0384e13979400d",
       "version_major": 2,
       "version_minor": 0
      },
      "text/plain": [
       "Image(value=b'\\x89PNG\\r\\n\\x1a\\n\\x00\\x00\\x00\\rIHDR\\x00\\x00\\x01\\xb0\\x00\\x00\\x01\\xb0\\x08\\x06\\x00\\x00\\x00\\xc8N0*\\x…"
      ]
     },
     "metadata": {},
     "output_type": "display_data"
    },
    {
     "data": {
      "application/vnd.jupyter.widget-view+json": {
       "model_id": "1c9c9d4dc9fb446f852586c8e6d6866f",
       "version_major": 2,
       "version_minor": 0
      },
      "text/plain": [
       "VBox(children=(ToggleButtons(options=('Choose gate', 'x'), value='Choose gate'), ToggleButtons(options=('',), …"
      ]
     },
     "metadata": {},
     "output_type": "display_data"
    }
   ],
   "source": [
    "initialize = [ [\"x\",\"0\"] ]\n",
    "success_condition = {\"ZI\":1.0}\n",
    "allowed_gates = { \"0\":{\"x\":3}, \"1\":{}, \"both\":{} }\n",
    "vi = [[1],True,True]\n",
    "qubit_names = {'0':'the only qubit', '1':None}\n",
    "puzzle = hello_quantum.run_game(initialize, success_condition, allowed_gates, vi, qubit_names)"
   ]
  },
  {
   "cell_type": "markdown",
   "metadata": {},
   "source": [
    "### 終結\n",
    "このパズルはとてもなじみのあるものに思えたはずです。 何もしなかった余分な円があったことを除いて、それは少しの間最初のものとまったく同じでした。 それ以外は、`X`ゲートは`NOT`ゲートとまったく同じ効果がありました。"
   ]
  },
  {
   "cell_type": "markdown",
   "metadata": {},
   "source": [
    "## パズル 2\n",
    "\n",
    "### 導入\n",
    "最後のパズルには2つの円がありました。これらは異なるビットを表していませんでした。代わりに、それらは両方とも同じ量子ビットを表しています。\n",
    "\n",
    "量子ビットはビットの量子バージョンです。 それらはビットと同じプロパティのいくつかを持っていますが、いくつかの追加機能も持っています。\n",
    "\n",
    "ビットが2つの可能な値に制限されているのと同じように、量子ビットも同様です。量子ビットから出力を抽出すると、`0`または`1`の単純なビット値が得られます。ただし、量子ビットでは、このビットを抽出するために使用できる方法が複数あります。得られる結果は、使用する方法によって異なります。\n",
    "\n",
    "最後のパズルの2つの円は、同じ量子ビットから少し抜け出すことができる2つの異なる方法を表しています。それらはXおよびZ測定と呼ばれます。下の円はZ測定の出力を表し、上の円はX出力を表します。\n",
    "\n",
    "円の色は以前とまったく同じように使用されます。円が黒の場合、対応する出力は値`0`になります。白い円は`1`を取得することを意味します。\n",
    "\n",
    "### 練習問題\n",
    "* Z出力をオフにします。"
   ]
  },
  {
   "cell_type": "code",
   "execution_count": 8,
   "metadata": {},
   "outputs": [
    {
     "data": {
      "application/vnd.jupyter.widget-view+json": {
       "model_id": "f3a6a8ee643846b68c4237a5820e5281",
       "version_major": 2,
       "version_minor": 0
      },
      "text/plain": [
       "Image(value=b'\\x89PNG\\r\\n\\x1a\\n\\x00\\x00\\x00\\rIHDR\\x00\\x00\\x01\\xb0\\x00\\x00\\x01\\xb0\\x08\\x06\\x00\\x00\\x00\\xc8N0*\\x…"
      ]
     },
     "metadata": {},
     "output_type": "display_data"
    },
    {
     "data": {
      "application/vnd.jupyter.widget-view+json": {
       "model_id": "d698773bcafa4d02ab9c60a321657497",
       "version_major": 2,
       "version_minor": 0
      },
      "text/plain": [
       "VBox(children=(ToggleButtons(options=('Choose gate', 'x'), value='Choose gate'), ToggleButtons(options=('',), …"
      ]
     },
     "metadata": {},
     "output_type": "display_data"
    }
   ],
   "source": [
    "initialize = [['x', '0']]\n",
    "success_condition = {'ZI': 1.0}\n",
    "allowed_gates = {'0': {'x': 0}, '1': {}, 'both': {}}\n",
    "vi = [[1], True, True]\n",
    "qubit_names = {'0':'the only qubit', '1':None}\n",
    "puzzle = hello_quantum.run_game(initialize, success_condition, allowed_gates, vi, qubit_names)"
   ]
  },
  {
   "cell_type": "markdown",
   "metadata": {},
   "source": [
    "### 終結\n",
    "量子ビットからビットを抽出するプロセスは、「測定」と呼ばれます。\n",
    "\n",
    "X出力とZ出力の両方を個別に抽出することはできません。 1つだけ選択する必要があります。"
   ]
  },
  {
   "cell_type": "markdown",
   "metadata": {},
   "source": [
    "## パズル 3\n",
    "\n",
    "### 導入\n",
    "このパズルでは、別の量子ビットが表示されます。これもまた、2つの円で表される内部動作を持ちます。この量子ビットの場合、これらの円はパズルボードの右側にあります。\n",
    "\n",
    "### 練習問題\n",
    "* 他の量子ビットのZ出力をオフにします。"
   ]
  },
  {
   "cell_type": "code",
   "execution_count": 9,
   "metadata": {},
   "outputs": [
    {
     "data": {
      "application/vnd.jupyter.widget-view+json": {
       "model_id": "1520a77eb4e54729939bfaf47d2e24e5",
       "version_major": 2,
       "version_minor": 0
      },
      "text/plain": [
       "Image(value=b'\\x89PNG\\r\\n\\x1a\\n\\x00\\x00\\x00\\rIHDR\\x00\\x00\\x01\\xb0\\x00\\x00\\x01\\xb0\\x08\\x06\\x00\\x00\\x00\\xc8N0*\\x…"
      ]
     },
     "metadata": {},
     "output_type": "display_data"
    },
    {
     "data": {
      "application/vnd.jupyter.widget-view+json": {
       "model_id": "796aab635cbb461aa1341a2e05df2345",
       "version_major": 2,
       "version_minor": 0
      },
      "text/plain": [
       "VBox(children=(ToggleButtons(options=('Choose gate', 'x'), value='Choose gate'), ToggleButtons(options=('',), …"
      ]
     },
     "metadata": {},
     "output_type": "display_data"
    }
   ],
   "source": [
    "initialize = [['x', '1']]\n",
    "success_condition = {'IZ': 1.0}\n",
    "allowed_gates = {'0': {}, '1': {'x': 0}, 'both': {}}\n",
    "vi = [[0], True, True]\n",
    "qubit_names = {'0':None, '1':'the other qubit'}\n",
    "puzzle = hello_quantum.run_game(initialize, success_condition, allowed_gates, vi, qubit_names)"
   ]
  },
  {
   "cell_type": "markdown",
   "metadata": {},
   "source": [
    "### 終結\n",
    "これから、プログラムで使用される名前で量子ビットの呼び出しを開始します。左側の量子ビットは`q[0]`になり、右側の量子ビットは`q[1]`になります。\n",
    "\n",
    "また、Z出力およびX出力という用語は広く使用されていないことに注意してください。「Z測定値の出力」などと言うのがより一般的です。しかし、それはこれらのパズルにとって少し長い表現です。"
   ]
  },
  {
   "cell_type": "markdown",
   "metadata": {},
   "source": [
    "## パズル 4\n",
    "\n",
    "### 導入\n",
    "次に、新しいゲートであるHゲートを試してみましょう。\n",
    "\n",
    "これは、単純なビットでは不可能なことです。 それは、それが適用される量子ビットの2つの円を交換する効果があります。\n",
    "\n",
    "これを素敵なアニメーション形式で見たい場合は、[Hello Quantumアプリ](https://helloquantum.mybluemix.net/)をチェックしてください。しかし、あなたがここにいる間に、3回繰り返すという古いトリックでそれをテストしてください。\n",
    "\n",
    "### 練習問題\n",
    "* `H`ゲートを3回使用します。"
   ]
  },
  {
   "cell_type": "code",
   "execution_count": 10,
   "metadata": {},
   "outputs": [
    {
     "data": {
      "application/vnd.jupyter.widget-view+json": {
       "model_id": "3d19778bce7545ce96e593d82b6ede27",
       "version_major": 2,
       "version_minor": 0
      },
      "text/plain": [
       "Image(value=b'\\x89PNG\\r\\n\\x1a\\n\\x00\\x00\\x00\\rIHDR\\x00\\x00\\x01\\xb0\\x00\\x00\\x01\\xb0\\x08\\x06\\x00\\x00\\x00\\xc8N0*\\x…"
      ]
     },
     "metadata": {},
     "output_type": "display_data"
    },
    {
     "data": {
      "application/vnd.jupyter.widget-view+json": {
       "model_id": "0d8279c8a6694cb3a6b8494b15314287",
       "version_major": 2,
       "version_minor": 0
      },
      "text/plain": [
       "VBox(children=(ToggleButtons(options=('Choose gate', 'h'), value='Choose gate'), ToggleButtons(options=('',), …"
      ]
     },
     "metadata": {},
     "output_type": "display_data"
    },
    {
     "name": "stdout",
     "output_type": "stream",
     "text": [
      "\n",
      "Your quantum program so far:\n",
      "\n",
      "    q = QuantumRegister(2)\n",
      "    b = ClassicalRegister(2)\n",
      "    qc = QuantumCircuit(q,b)\n",
      "\n"
     ]
    }
   ],
   "source": [
    "initialize = []\n",
    "success_condition = {'ZI': 0.0}\n",
    "allowed_gates = {'0': {'h': 3}, '1': {}, 'both': {}}\n",
    "vi = [[1], True, True]\n",
    "qubit_names = {'0':'q[0]', '1':'q[1]'}\n",
    "puzzle = hello_quantum.run_game(initialize, success_condition, allowed_gates, vi, qubit_names)"
   ]
  },
  {
   "cell_type": "markdown",
   "metadata": {},
   "source": [
    "### 終結\n",
    "これで量子プログラムの作成が開始され、パズルの下に表示されます。\n",
    "\n",
    "これらは、実際の量子コンピューターで実行できる実際のQiskitプログラムです。 それらは、いわゆる回路図で表すこともできます。 量子プログラムの回路図を表示するには、以下のコードセルを実行します。"
   ]
  },
  {
   "cell_type": "code",
   "execution_count": 1,
   "metadata": {},
   "outputs": [
    {
     "ename": "NameError",
     "evalue": "name 'puzzle' is not defined",
     "output_type": "error",
     "traceback": [
      "\u001b[0;31m---------------------------------------------------------------------------\u001b[0m",
      "\u001b[0;31mNameError\u001b[0m                                 Traceback (most recent call last)",
      "\u001b[0;32m<ipython-input-1-5b54ae8ceea9>\u001b[0m in \u001b[0;36m<module>\u001b[0;34m\u001b[0m\n\u001b[0;32m----> 1\u001b[0;31m \u001b[0mpuzzle\u001b[0m\u001b[0;34m.\u001b[0m\u001b[0mget_circuit\u001b[0m\u001b[0;34m(\u001b[0m\u001b[0;34m)\u001b[0m\u001b[0;34m.\u001b[0m\u001b[0mdraw\u001b[0m\u001b[0;34m(\u001b[0m\u001b[0moutput\u001b[0m\u001b[0;34m=\u001b[0m\u001b[0;34m'mpl'\u001b[0m\u001b[0;34m)\u001b[0m\u001b[0;34m\u001b[0m\u001b[0;34m\u001b[0m\u001b[0m\n\u001b[0m",
      "\u001b[0;31mNameError\u001b[0m: name 'puzzle' is not defined"
     ]
    }
   ],
   "source": [
    "puzzle.get_circuit().draw(output='mpl')"
   ]
  },
  {
   "cell_type": "markdown",
   "metadata": {},
   "source": [
    "## パズル 5\n",
    "\n",
    "### 導入\n",
    "Z出力が確実な場合（完全にオフまたはオン）、`X`ゲートは単に値を反転します。 しかし、最後のパズルで見たように、Z出力がランダムである場合はどうなりますか？ この練習問題で、見つけるでしょう。\n",
    "\n",
    "### 練習問題\n",
    "* Z出力を完全にオフにします。 `h`ゲートはいくつでも使用できますが、`x`は正確に3回使用します。"
   ]
  },
  {
   "cell_type": "code",
   "execution_count": 12,
   "metadata": {},
   "outputs": [
    {
     "data": {
      "application/vnd.jupyter.widget-view+json": {
       "model_id": "63c288ad95214a1db0c49fc04f6c582a",
       "version_major": 2,
       "version_minor": 0
      },
      "text/plain": [
       "Image(value=b'\\x89PNG\\r\\n\\x1a\\n\\x00\\x00\\x00\\rIHDR\\x00\\x00\\x01\\xb0\\x00\\x00\\x01\\xb0\\x08\\x06\\x00\\x00\\x00\\xc8N0*\\x…"
      ]
     },
     "metadata": {},
     "output_type": "display_data"
    },
    {
     "data": {
      "application/vnd.jupyter.widget-view+json": {
       "model_id": "ac19e8356ef84843a36d9c74fda107c8",
       "version_major": 2,
       "version_minor": 0
      },
      "text/plain": [
       "VBox(children=(ToggleButtons(options=('Choose gate', 'x', 'h'), value='Choose gate'), ToggleButtons(options=('…"
      ]
     },
     "metadata": {},
     "output_type": "display_data"
    },
    {
     "name": "stdout",
     "output_type": "stream",
     "text": [
      "\n",
      "Your quantum program so far:\n",
      "\n",
      "    q = QuantumRegister(2)\n",
      "    b = ClassicalRegister(2)\n",
      "    qc = QuantumCircuit(q,b)\n",
      "\n"
     ]
    }
   ],
   "source": [
    "initialize = [['h', '1']]\n",
    "success_condition = {'IZ': 1.0}\n",
    "allowed_gates = {'0': {}, '1': {'x': 3, 'h': 0}, 'both': {}}\n",
    "vi = [[0], True, True]\n",
    "qubit_names = {'0':'q[0]', '1':'q[1]'}\n",
    "puzzle = hello_quantum.run_game(initialize, success_condition, allowed_gates, vi, qubit_names)"
   ]
  },
  {
   "cell_type": "code",
   "execution_count": 13,
   "metadata": {},
   "outputs": [
    {
     "data": {
      "image/png": "[encoded data removed]",
      "text/plain": [
       "<Figure size 86.452x204.68 with 1 Axes>"
      ]
     },
     "execution_count": 13,
     "metadata": {},
     "output_type": "execute_result"
    }
   ],
   "source": [
    "puzzle.get_circuit().draw(output='mpl')"
   ]
  },
  {
   "cell_type": "markdown",
   "metadata": {},
   "source": [
    "### 終結\n",
    "たとえそれをひっくり返したとしても、ランダムな結果はただのランダムな結果であることがわかります。"
   ]
  },
  {
   "cell_type": "markdown",
   "metadata": {},
   "source": [
    "## パズル 6\n",
    "\n",
    "### 導入\n",
    "`x`ゲートがZ出力を反転することを確認しましたが、X出力には影響しません。 そのためには、新しいゲート、`z`ゲートが必要です。\n",
    "\n",
    "### 練習問題\n",
    "* X出力をオフにします。"
   ]
  },
  {
   "cell_type": "code",
   "execution_count": 14,
   "metadata": {},
   "outputs": [
    {
     "data": {
      "application/vnd.jupyter.widget-view+json": {
       "model_id": "c5b1728cf2684c9fa0c33eee84c64195",
       "version_major": 2,
       "version_minor": 0
      },
      "text/plain": [
       "Image(value=b'\\x89PNG\\r\\n\\x1a\\n\\x00\\x00\\x00\\rIHDR\\x00\\x00\\x01\\xb0\\x00\\x00\\x01\\xb0\\x08\\x06\\x00\\x00\\x00\\xc8N0*\\x…"
      ]
     },
     "metadata": {},
     "output_type": "display_data"
    },
    {
     "data": {
      "application/vnd.jupyter.widget-view+json": {
       "model_id": "7a78c9fad833413ea1453fd5aaddf1c7",
       "version_major": 2,
       "version_minor": 0
      },
      "text/plain": [
       "VBox(children=(ToggleButtons(options=('Choose gate', 'z', 'h'), value='Choose gate'), ToggleButtons(options=('…"
      ]
     },
     "metadata": {},
     "output_type": "display_data"
    },
    {
     "name": "stdout",
     "output_type": "stream",
     "text": [
      "\n",
      "Your quantum program so far:\n",
      "\n",
      "    q = QuantumRegister(2)\n",
      "    b = ClassicalRegister(2)\n",
      "    qc = QuantumCircuit(q,b)\n",
      "\n"
     ]
    }
   ],
   "source": [
    "initialize = [['h', '0'], ['z', '0']]\n",
    "success_condition = {'XI': 1.0}\n",
    "allowed_gates = {'0': {'z': 0, 'h': 0}, '1': {}, 'both': {}}\n",
    "vi = [[1], True, True]\n",
    "qubit_names = {'0':'q[0]', '1':'q[1]'}\n",
    "puzzle = hello_quantum.run_game(initialize, success_condition, allowed_gates, vi, qubit_names)"
   ]
  },
  {
   "cell_type": "code",
   "execution_count": 15,
   "metadata": {},
   "outputs": [
    {
     "data": {
      "image/png": "[encoded data removed]",
      "text/plain": [
       "<Figure size 86.452x204.68 with 1 Axes>"
      ]
     },
     "execution_count": 15,
     "metadata": {},
     "output_type": "execute_result"
    }
   ],
   "source": [
    "puzzle.get_circuit().draw(output='mpl')"
   ]
  },
  {
   "cell_type": "markdown",
   "metadata": {},
   "source": [
    "### 終結\n",
    "`x`ゲートはZ出力を反転し、`z`ゲートはx出力を反転します。 今のところ、これは物事に名前を付ける奇妙な方法のように思えるかもしれません。 しかし、量子コンピューティングについてさらに学ぶにつれて、それはある程度意味を持つようになるでしょう。"
   ]
  },
  {
   "cell_type": "markdown",
   "metadata": {},
   "source": [
    "## パズル 7\n",
    "\n",
    "### 導入\n",
    "ゲートを組み合わせることで、新しい効果を得ることができます。 簡単な例として、`z`と`h`を組み合わせることで、`x`の作用をすることができます。\n",
    "\n",
    "### 練習問題\n",
    "* `x`ゲートを使用せずにZ出力をオンにします"
   ]
  },
  {
   "cell_type": "code",
   "execution_count": 16,
   "metadata": {},
   "outputs": [
    {
     "data": {
      "application/vnd.jupyter.widget-view+json": {
       "model_id": "54565330cb6448aeb4a0fb33dc975764",
       "version_major": 2,
       "version_minor": 0
      },
      "text/plain": [
       "Image(value=b'\\x89PNG\\r\\n\\x1a\\n\\x00\\x00\\x00\\rIHDR\\x00\\x00\\x01\\xb0\\x00\\x00\\x01\\xb0\\x08\\x06\\x00\\x00\\x00\\xc8N0*\\x…"
      ]
     },
     "metadata": {},
     "output_type": "display_data"
    },
    {
     "data": {
      "application/vnd.jupyter.widget-view+json": {
       "model_id": "6edd2074b43842c88c95a0799e87fcb1",
       "version_major": 2,
       "version_minor": 0
      },
      "text/plain": [
       "VBox(children=(ToggleButtons(options=('Choose gate', 'z', 'h'), value='Choose gate'), ToggleButtons(options=('…"
      ]
     },
     "metadata": {},
     "output_type": "display_data"
    },
    {
     "name": "stdout",
     "output_type": "stream",
     "text": [
      "\n",
      "Your quantum program so far:\n",
      "\n",
      "    q = QuantumRegister(2)\n",
      "    b = ClassicalRegister(2)\n",
      "    qc = QuantumCircuit(q,b)\n",
      "\n"
     ]
    }
   ],
   "source": [
    "initialize = []\n",
    "success_condition = {'ZI': -1.0}\n",
    "allowed_gates = {'0': {'z': 0, 'h': 0}, '1': {}, 'both': {}}\n",
    "vi = [[1], True, True]\n",
    "qubit_names = {'0':'q[0]', '1':'q[1]'}\n",
    "puzzle = hello_quantum.run_game(initialize, success_condition, allowed_gates, vi, qubit_names)"
   ]
  },
  {
   "cell_type": "code",
   "execution_count": 17,
   "metadata": {},
   "outputs": [
    {
     "data": {
      "image/png": "[encoded data removed]",
      "text/plain": [
       "<Figure size 86.452x204.68 with 1 Axes>"
      ]
     },
     "execution_count": 17,
     "metadata": {},
     "output_type": "execute_result"
    }
   ],
   "source": [
    "puzzle.get_circuit().draw(output='mpl')"
   ]
  },
  {
   "cell_type": "markdown",
   "metadata": {},
   "source": [
    "## パズル 8\n",
    "\n",
    "### 導入\n",
    "Z出力が完全にオンまたはオフの場合、X出力は常にランダムであることに気付くかもしれません。 これは、量子ビットが各種類の出力について同時に確実になることは決してないためです。 それらが一方について確信している場合、もう一方はランダムでなければなりません。\n",
    "\n",
    "これが当てはまらない場合は、Z出力とX出力を使用して2ビットを格納できます。 これは、量子ビットよりも多くのメモリです。 複数の方法で出力を抽出できるという事実にもかかわらず、それでも、量子ビットにビット以上を格納することは許可されていません。\n",
    "\n",
    "### 練習問題\n",
    "* X出力をオフにし、Z出力をランダムにします。"
   ]
  },
  {
   "cell_type": "code",
   "execution_count": 18,
   "metadata": {},
   "outputs": [
    {
     "data": {
      "application/vnd.jupyter.widget-view+json": {
       "model_id": "3419fa0b44cb49d1940d18ffe6b7bfd0",
       "version_major": 2,
       "version_minor": 0
      },
      "text/plain": [
       "Image(value=b'\\x89PNG\\r\\n\\x1a\\n\\x00\\x00\\x00\\rIHDR\\x00\\x00\\x01\\xb0\\x00\\x00\\x01\\xb0\\x08\\x06\\x00\\x00\\x00\\xc8N0*\\x…"
      ]
     },
     "metadata": {},
     "output_type": "display_data"
    },
    {
     "data": {
      "application/vnd.jupyter.widget-view+json": {
       "model_id": "806cc4f6c09149b3907bd04ff46302b6",
       "version_major": 2,
       "version_minor": 0
      },
      "text/plain": [
       "VBox(children=(ToggleButtons(options=('Choose gate', 'z', 'h'), value='Choose gate'), ToggleButtons(options=('…"
      ]
     },
     "metadata": {},
     "output_type": "display_data"
    },
    {
     "name": "stdout",
     "output_type": "stream",
     "text": [
      "\n",
      "Your quantum program so far:\n",
      "\n",
      "    q = QuantumRegister(2)\n",
      "    b = ClassicalRegister(2)\n",
      "    qc = QuantumCircuit(q,b)\n",
      "\n"
     ]
    }
   ],
   "source": [
    "initialize = [['h', '0']]\n",
    "success_condition = {'IX': 1.0}\n",
    "allowed_gates = {'0': {}, '1': {'z': 0, 'h': 0}, 'both': {}}\n",
    "vi = [[0], True, True]\n",
    "qubit_names = {'0':'q[0]', '1':'q[1]'}\n",
    "puzzle = hello_quantum.run_game(initialize, success_condition, allowed_gates, vi, qubit_names)"
   ]
  },
  {
   "cell_type": "code",
   "execution_count": 19,
   "metadata": {
    "scrolled": true
   },
   "outputs": [
    {
     "data": {
      "image/png": "[encoded data removed]",
      "text/plain": [
       "<Figure size 86.452x204.68 with 1 Axes>"
      ]
     },
     "execution_count": 19,
     "metadata": {},
     "output_type": "execute_result"
    }
   ],
   "source": [
    "puzzle.get_circuit().draw(output='mpl')"
   ]
  },
  {
   "cell_type": "markdown",
   "metadata": {},
   "source": [
    "## パズル 9\n",
    "\n",
    "### イントロダクション・導入\n",
    "量子ビットの限られた確実性は、2つの出力間で共有することもできます。 たとえば、両方の出力を、それらが提供する出力についてほぼ確実（完全に確実ではない）にすることで妥協することができます。\n",
    "\n",
    "さまざまなグレーの色合いを使用して、これを視覚化します。 円が暗いほど、出力は`0`になる可能性が高くなります。円が明るいほど、出力は`1`になる可能性が高くなります。\n",
    "\n",
    "\n",
    "### 練習問題\n",
    "* `q[1]`の2つの円を両方とも明るい灰色にします。 これは、`1`を出力する可能性が高いことを意味しますが、確実ではありません。"
   ]
  },
  {
   "cell_type": "code",
   "execution_count": 2,
   "metadata": {},
   "outputs": [
    {
     "ename": "NameError",
     "evalue": "name 'hello_quantum' is not defined",
     "output_type": "error",
     "traceback": [
      "\u001b[0;31m---------------------------------------------------------------------------\u001b[0m",
      "\u001b[0;31mNameError\u001b[0m                                 Traceback (most recent call last)",
      "\u001b[0;32m<ipython-input-2-7cf495074ad9>\u001b[0m in \u001b[0;36m<module>\u001b[0;34m\u001b[0m\n\u001b[1;32m      4\u001b[0m \u001b[0mvi\u001b[0m \u001b[0;34m=\u001b[0m \u001b[0;34m[\u001b[0m\u001b[0;34m[\u001b[0m\u001b[0;36m0\u001b[0m\u001b[0;34m]\u001b[0m\u001b[0;34m,\u001b[0m \u001b[0;32mTrue\u001b[0m\u001b[0;34m,\u001b[0m \u001b[0;32mTrue\u001b[0m\u001b[0;34m]\u001b[0m\u001b[0;34m\u001b[0m\u001b[0;34m\u001b[0m\u001b[0m\n\u001b[1;32m      5\u001b[0m \u001b[0mqubit_names\u001b[0m \u001b[0;34m=\u001b[0m \u001b[0;34m{\u001b[0m\u001b[0;34m'0'\u001b[0m\u001b[0;34m:\u001b[0m\u001b[0;34m'q[0]'\u001b[0m\u001b[0;34m,\u001b[0m \u001b[0;34m'1'\u001b[0m\u001b[0;34m:\u001b[0m\u001b[0;34m'q[1]'\u001b[0m\u001b[0;34m}\u001b[0m\u001b[0;34m\u001b[0m\u001b[0;34m\u001b[0m\u001b[0m\n\u001b[0;32m----> 6\u001b[0;31m \u001b[0mpuzzle\u001b[0m \u001b[0;34m=\u001b[0m \u001b[0mhello_quantum\u001b[0m\u001b[0;34m.\u001b[0m\u001b[0mrun_game\u001b[0m\u001b[0;34m(\u001b[0m\u001b[0minitialize\u001b[0m\u001b[0;34m,\u001b[0m \u001b[0msuccess_condition\u001b[0m\u001b[0;34m,\u001b[0m \u001b[0mallowed_gates\u001b[0m\u001b[0;34m,\u001b[0m \u001b[0mvi\u001b[0m\u001b[0;34m,\u001b[0m \u001b[0mqubit_names\u001b[0m\u001b[0;34m)\u001b[0m\u001b[0;34m\u001b[0m\u001b[0;34m\u001b[0m\u001b[0m\n\u001b[0m",
      "\u001b[0;31mNameError\u001b[0m: name 'hello_quantum' is not defined"
     ]
    }
   ],
   "source": [
    "initialize = [['ry(pi/4)', '1']]\n",
    "success_condition = {'IZ': -0.7071, 'IX': -0.7071}\n",
    "allowed_gates = {'0': {}, '1': {'z': 0, 'h': 0}, 'both': {}}\n",
    "vi = [[0], True, True]\n",
    "qubit_names = {'0':'q[0]', '1':'q[1]'}\n",
    "puzzle = hello_quantum.run_game(initialize, success_condition, allowed_gates, vi, qubit_names)"
   ]
  },
  {
   "cell_type": "code",
   "execution_count": 21,
   "metadata": {},
   "outputs": [
    {
     "data": {
      "image/png": "[encoded data removed]",
      "text/plain": [
       "<Figure size 86.452x204.68 with 1 Axes>"
      ]
     },
     "execution_count": 21,
     "metadata": {},
     "output_type": "execute_result"
    }
   ],
   "source": [
    "puzzle.get_circuit().draw(output='mpl')"
   ]
  },
  {
   "cell_type": "markdown",
   "metadata": {},
   "source": [
    "## パズル 10\n",
    "\n",
    "### イントロダクション・導入\n",
    "これで基本的なツールがわかったので、両方の量子ビットに同時に取り組むことができます。\n",
    "\n",
    "### 練習問題\n",
    "*  両方のZ出力をランダムにします。"
   ]
  },
  {
   "cell_type": "code",
   "execution_count": 22,
   "metadata": {},
   "outputs": [
    {
     "data": {
      "application/vnd.jupyter.widget-view+json": {
       "model_id": "75b1a219ea5f41a38a120e174c004590",
       "version_major": 2,
       "version_minor": 0
      },
      "text/plain": [
       "Image(value=b'\\x89PNG\\r\\n\\x1a\\n\\x00\\x00\\x00\\rIHDR\\x00\\x00\\x01\\xb0\\x00\\x00\\x01\\xb0\\x08\\x06\\x00\\x00\\x00\\xc8N0*\\x…"
      ]
     },
     "metadata": {},
     "output_type": "display_data"
    },
    {
     "data": {
      "application/vnd.jupyter.widget-view+json": {
       "model_id": "5fba73a94aaf433ab5249bea62ab0824",
       "version_major": 2,
       "version_minor": 0
      },
      "text/plain": [
       "VBox(children=(ToggleButtons(options=('Choose gate', 'x', 'z', 'h'), value='Choose gate'), ToggleButtons(optio…"
      ]
     },
     "metadata": {},
     "output_type": "display_data"
    },
    {
     "name": "stdout",
     "output_type": "stream",
     "text": [
      "\n",
      "Your quantum program so far:\n",
      "\n",
      "    q = QuantumRegister(2)\n",
      "    b = ClassicalRegister(2)\n",
      "    qc = QuantumCircuit(q,b)\n",
      "\n"
     ]
    }
   ],
   "source": [
    "initialize = [['x', '1']]\n",
    "success_condition = {'ZI': 0.0, 'IZ': 0.0}\n",
    "allowed_gates = {'0': {'x': 0, 'z': 0, 'h': 0}, '1': {'x': 0, 'z': 0, 'h': 0}, 'both': {}}\n",
    "vi = [[], True, False]\n",
    "qubit_names = {'0':'q[0]', '1':'q[1]'}\n",
    "puzzle = hello_quantum.run_game(initialize, success_condition, allowed_gates, vi, qubit_names)"
   ]
  },
  {
   "cell_type": "code",
   "execution_count": 23,
   "metadata": {},
   "outputs": [
    {
     "data": {
      "image/png": "[encoded data removed]",
      "text/plain": [
       "<Figure size 86.452x204.68 with 1 Axes>"
      ]
     },
     "execution_count": 23,
     "metadata": {},
     "output_type": "execute_result"
    }
   ],
   "source": [
    "puzzle.get_circuit().draw(output='mpl')"
   ]
  },
  {
   "cell_type": "markdown",
   "metadata": {},
   "source": [
    "### 終結\n",
    "ここでの各Z出力は、ランダムに`0`または`1`を出力します。しかし、それらの出力は相関しますか？ 反相関？ 完全に無関係ですか？\n",
    "\n",
    "ビットで行ったように、いくつかの追加の円を使用してこの情報を追跡します。"
   ]
  },
  {
   "cell_type": "markdown",
   "metadata": {},
   "source": [
    "### パズル 11\n",
    "\n",
    "### イントロダクション・導入\n",
    "このパズルでは、4つの新しい円が表示されます。 そのうちの1つは、レベル1ですでに見たものです。そこでは、2つのビット値が確実に一致するか（黒）、一致しないか（白）を追跡していました。 ここでは、両方の量子ビットのZ出力に対して同じ作用をします。\n",
    "\n",
    "### 練習問題\n",
    "* Z出力が確実に一致しないようにします。"
   ]
  },
  {
   "cell_type": "code",
   "execution_count": 24,
   "metadata": {},
   "outputs": [
    {
     "data": {
      "application/vnd.jupyter.widget-view+json": {
       "model_id": "3009e0f5bdc0419bb09481b22db7d70b",
       "version_major": 2,
       "version_minor": 0
      },
      "text/plain": [
       "Image(value=b'\\x89PNG\\r\\n\\x1a\\n\\x00\\x00\\x00\\rIHDR\\x00\\x00\\x01\\xb0\\x00\\x00\\x01\\xb0\\x08\\x06\\x00\\x00\\x00\\xc8N0*\\x…"
      ]
     },
     "metadata": {},
     "output_type": "display_data"
    },
    {
     "data": {
      "application/vnd.jupyter.widget-view+json": {
       "model_id": "88b2356df80a479cb0d8de908622b9de",
       "version_major": 2,
       "version_minor": 0
      },
      "text/plain": [
       "VBox(children=(ToggleButtons(options=('Choose gate', 'x', 'z', 'h'), value='Choose gate'), ToggleButtons(optio…"
      ]
     },
     "metadata": {},
     "output_type": "display_data"
    },
    {
     "name": "stdout",
     "output_type": "stream",
     "text": [
      "\n",
      "Your quantum program so far:\n",
      "\n",
      "    q = QuantumRegister(2)\n",
      "    b = ClassicalRegister(2)\n",
      "    qc = QuantumCircuit(q,b)\n",
      "\n"
     ]
    }
   ],
   "source": [
    "initialize = [['h','0'],['h','1']]\n",
    "success_condition = {'ZZ': -1.0}\n",
    "allowed_gates = {'0': {'x': 0, 'z': 0, 'h': 0}, '1': {'x': 0, 'z': 0, 'h': 0}, 'both': {}}\n",
    "vi = [[], True, True]\n",
    "qubit_names = {'0':'q[0]', '1':'q[1]'}\n",
    "puzzle = hello_quantum.run_game(initialize, success_condition, allowed_gates, vi, qubit_names)"
   ]
  },
  {
   "cell_type": "code",
   "execution_count": 25,
   "metadata": {},
   "outputs": [
    {
     "data": {
      "image/png": "[encoded data removed]",
      "text/plain": [
       "<Figure size 86.452x204.68 with 1 Axes>"
      ]
     },
     "execution_count": 25,
     "metadata": {},
     "output_type": "execute_result"
    }
   ],
   "source": [
    "puzzle.get_circuit().draw(output='mpl')"
   ]
  },
  {
   "cell_type": "markdown",
   "metadata": {},
   "source": [
    "## パズル 12\n",
    "\n",
    "### 導入\n",
    "一番上の新しいサークルにも同様の作用があります。 この場合、両方の量子ビットのX出力について一致する確率と一致しない確率を追跡します。\n",
    "\n",
    "### 練習問題\n",
    "* X出力が確実に一致するようにします。"
   ]
  },
  {
   "cell_type": "code",
   "execution_count": 26,
   "metadata": {},
   "outputs": [
    {
     "data": {
      "application/vnd.jupyter.widget-view+json": {
       "model_id": "bda236f2a3a9441e93d00caa3f6a4407",
       "version_major": 2,
       "version_minor": 0
      },
      "text/plain": [
       "Image(value=b'\\x89PNG\\r\\n\\x1a\\n\\x00\\x00\\x00\\rIHDR\\x00\\x00\\x01\\xb0\\x00\\x00\\x01\\xb0\\x08\\x06\\x00\\x00\\x00\\xc8N0*\\x…"
      ]
     },
     "metadata": {},
     "output_type": "display_data"
    },
    {
     "data": {
      "application/vnd.jupyter.widget-view+json": {
       "model_id": "47ec0d1ae62f40778d630c095635fbae",
       "version_major": 2,
       "version_minor": 0
      },
      "text/plain": [
       "VBox(children=(ToggleButtons(options=('Choose gate', 'x', 'z', 'h'), value='Choose gate'), ToggleButtons(optio…"
      ]
     },
     "metadata": {},
     "output_type": "display_data"
    },
    {
     "name": "stdout",
     "output_type": "stream",
     "text": [
      "\n",
      "Your quantum program so far:\n",
      "\n",
      "    q = QuantumRegister(2)\n",
      "    b = ClassicalRegister(2)\n",
      "    qc = QuantumCircuit(q,b)\n",
      "\n"
     ]
    }
   ],
   "source": [
    "initialize = [['x','0']]\n",
    "success_condition = {'XX': 1.0}\n",
    "allowed_gates = {'0': {'x': 0, 'z': 0, 'h': 0}, '1': {'x': 0, 'z': 0, 'h': 0}, 'both': {}}\n",
    "vi = [[], True, True]\n",
    "qubit_names = {'0':'q[0]', '1':'q[1]'}\n",
    "puzzle = hello_quantum.run_game(initialize, success_condition, allowed_gates, vi, qubit_names)"
   ]
  },
  {
   "cell_type": "code",
   "execution_count": 27,
   "metadata": {},
   "outputs": [
    {
     "data": {
      "image/png": "[encoded data removed]",
      "text/plain": [
       "<Figure size 86.452x204.68 with 1 Axes>"
      ]
     },
     "execution_count": 27,
     "metadata": {},
     "output_type": "execute_result"
    }
   ],
   "source": [
    "puzzle.get_circuit().draw(output='mpl')"
   ]
  },
  {
   "cell_type": "markdown",
   "metadata": {},
   "source": [
    "### 終結\n",
    "この情報を表すのがこの新しい円である理由がわからない場合は、一方の量子ビットのX出力から伸びる行と、もう一方の量子ビットのX出力から伸びる別の行について考えてみてください。 最上部の円は、これら2つの行が交わる場所にあります。 これが、2つのX出力間の一致を表す理由です。"
   ]
  },
  {
   "cell_type": "markdown",
   "metadata": {},
   "source": [
    "### パズル13\n",
    "\n",
    "### 導入\n",
    "説明する新しいサークルがまだ2つあります。 1つは、`q[0]`からのZ出力行が`q[1]`からのX出力行と交わる場所です。 これは、`q[0]`のZ出力が`q[1]`からのX出力と一致するかどうかを示します。 もう1つは同じですが、`q[0]`にX出力と`q[1]`にZ出力があります。\n",
    "\n",
    "### 練習問題\n",
    "* `q[0]`のX出力が`q[1]`のZ出力と一致しないことを確認します。"
   ]
  },
  {
   "cell_type": "code",
   "execution_count": 28,
   "metadata": {},
   "outputs": [
    {
     "data": {
      "application/vnd.jupyter.widget-view+json": {
       "model_id": "6b8469117cb24df8b77b2e6468c8bd74",
       "version_major": 2,
       "version_minor": 0
      },
      "text/plain": [
       "Image(value=b'\\x89PNG\\r\\n\\x1a\\n\\x00\\x00\\x00\\rIHDR\\x00\\x00\\x01\\xb0\\x00\\x00\\x01\\xb0\\x08\\x06\\x00\\x00\\x00\\xc8N0*\\x…"
      ]
     },
     "metadata": {},
     "output_type": "display_data"
    },
    {
     "data": {
      "application/vnd.jupyter.widget-view+json": {
       "model_id": "9d9d32bf7e2e4227b102211c4ebd950e",
       "version_major": 2,
       "version_minor": 0
      },
      "text/plain": [
       "VBox(children=(ToggleButtons(options=('Choose gate', 'x', 'z', 'h'), value='Choose gate'), ToggleButtons(optio…"
      ]
     },
     "metadata": {},
     "output_type": "display_data"
    },
    {
     "name": "stdout",
     "output_type": "stream",
     "text": [
      "\n",
      "Your quantum program so far:\n",
      "\n",
      "    q = QuantumRegister(2)\n",
      "    b = ClassicalRegister(2)\n",
      "    qc = QuantumCircuit(q,b)\n",
      "\n"
     ]
    }
   ],
   "source": [
    "initialize = []\n",
    "success_condition = {'XZ': -1.0}\n",
    "allowed_gates = {'0': {'x': 0, 'z': 0, 'h': 0}, '1': {'x': 0, 'z': 0, 'h': 0}, 'both': {}}\n",
    "vi = [[], True, True]\n",
    "qubit_names = {'0':'q[0]', '1':'q[1]'}\n",
    "puzzle = hello_quantum.run_game(initialize, success_condition, allowed_gates, vi, qubit_names)"
   ]
  },
  {
   "cell_type": "code",
   "execution_count": 29,
   "metadata": {},
   "outputs": [
    {
     "data": {
      "image/png": "[encoded data removed]",
      "text/plain": [
       "<Figure size 86.452x204.68 with 1 Axes>"
      ]
     },
     "execution_count": 29,
     "metadata": {},
     "output_type": "execute_result"
    }
   ],
   "source": [
    "puzzle.get_circuit().draw(output='mpl')"
   ]
  },
  {
   "cell_type": "markdown",
   "metadata": {},
   "source": [
    "### パズル 14\n",
    "\n",
    "### 導入\n",
    "`x`、`z`、`h`ゲートが新しい円にどのように影響するかに注目してください。 具体的には、xゲートは、単一のZ出力だけでなく、それらの行全体に影響を与えます。つまり、各円を黒から白（または暗い色から明るい色）に、またはその逆に反転します。\n",
    "\n",
    "\n",
    "### 練習問題\n",
    "*  次のパズルでわかるように、zゲートはX出力行に同じように影響します。"
   ]
  },
  {
   "cell_type": "code",
   "execution_count": 30,
   "metadata": {},
   "outputs": [
    {
     "data": {
      "application/vnd.jupyter.widget-view+json": {
       "model_id": "9d2c4b10b6604c11ace9990352fb9dc0",
       "version_major": 2,
       "version_minor": 0
      },
      "text/plain": [
       "Image(value=b'\\x89PNG\\r\\n\\x1a\\n\\x00\\x00\\x00\\rIHDR\\x00\\x00\\x01\\xb0\\x00\\x00\\x01\\xb0\\x08\\x06\\x00\\x00\\x00\\xc8N0*\\x…"
      ]
     },
     "metadata": {},
     "output_type": "display_data"
    },
    {
     "data": {
      "application/vnd.jupyter.widget-view+json": {
       "model_id": "55f122fc51ab4ac8bbfa3b7a92bf3bd2",
       "version_major": 2,
       "version_minor": 0
      },
      "text/plain": [
       "VBox(children=(ToggleButtons(options=('Choose gate', 'x'), value='Choose gate'), ToggleButtons(options=('',), …"
      ]
     },
     "metadata": {},
     "output_type": "display_data"
    },
    {
     "name": "stdout",
     "output_type": "stream",
     "text": [
      "\n",
      "Your quantum program so far:\n",
      "\n",
      "    q = QuantumRegister(2)\n",
      "    b = ClassicalRegister(2)\n",
      "    qc = QuantumCircuit(q,b)\n",
      "\n"
     ]
    }
   ],
   "source": [
    "initialize = [['ry(-pi/4)', '1'], ['ry(-pi/4)','0']]\n",
    "success_condition = {'ZI': -0.7071, 'IZ': -0.7071}\n",
    "allowed_gates = {'0': {'x': 0}, '1': {'x': 0}, 'both': {}}\n",
    "vi = [[], True, True]\n",
    "qubit_names = {'0':'q[0]', '1':'q[1]'}\n",
    "puzzle = hello_quantum.run_game(initialize, success_condition, allowed_gates, vi, qubit_names)"
   ]
  },
  {
   "cell_type": "code",
   "execution_count": 31,
   "metadata": {},
   "outputs": [
    {
     "data": {
      "image/png": "[encoded data removed]",
      "text/plain": [
       "<Figure size 86.452x204.68 with 1 Axes>"
      ]
     },
     "execution_count": 31,
     "metadata": {},
     "output_type": "execute_result"
    }
   ],
   "source": [
    "puzzle.get_circuit().draw(output='mpl')"
   ]
  },
  {
   "cell_type": "markdown",
   "metadata": {},
   "source": [
    "### 終結\n",
    "次のパズルを見ていきながら、`Z`ゲートは同じような方法でX出力の列に影響します。"
   ]
  },
  {
   "cell_type": "markdown",
   "metadata": {},
   "source": [
    "## パズル 15\n",
    "\n",
    "### 導入\n",
    "以前、`h`ゲートが円のペアを交換する方法を見てきました。 これで、同じように行のペアに影響します。行全体が反転されるまで、円の各ペアを反転します。 再度、[Hello Quantumアプリ](https://helloquantum.mybluemix.net/)で素敵なアニメーションをチェックすることをお勧めします。\n",
    "\n",
    "### 練習問題\n",
    "*   X出力をオフにします。"
   ]
  },
  {
   "cell_type": "code",
   "execution_count": 32,
   "metadata": {},
   "outputs": [
    {
     "data": {
      "application/vnd.jupyter.widget-view+json": {
       "model_id": "2213d21ccf2e40d2961416a04cf8b371",
       "version_major": 2,
       "version_minor": 0
      },
      "text/plain": [
       "Image(value=b'\\x89PNG\\r\\n\\x1a\\n\\x00\\x00\\x00\\rIHDR\\x00\\x00\\x01\\xb0\\x00\\x00\\x01\\xb0\\x08\\x06\\x00\\x00\\x00\\xc8N0*\\x…"
      ]
     },
     "metadata": {},
     "output_type": "display_data"
    },
    {
     "data": {
      "application/vnd.jupyter.widget-view+json": {
       "model_id": "c1f75586e88f41a3bb5434f814baaa79",
       "version_major": 2,
       "version_minor": 0
      },
      "text/plain": [
       "VBox(children=(ToggleButtons(options=('Choose gate', 'z', 'h'), value='Choose gate'), ToggleButtons(options=('…"
      ]
     },
     "metadata": {},
     "output_type": "display_data"
    },
    {
     "name": "stdout",
     "output_type": "stream",
     "text": [
      "\n",
      "Your quantum program so far:\n",
      "\n",
      "    q = QuantumRegister(2)\n",
      "    b = ClassicalRegister(2)\n",
      "    qc = QuantumCircuit(q,b)\n",
      "\n"
     ]
    }
   ],
   "source": [
    "initialize = [['x', '1'], ['x','0']]\n",
    "success_condition = {'XI':1, 'IX':1}\n",
    "allowed_gates = {'0': {'z': 0, 'h': 0}, '1': {'z': 0, 'h': 0}, 'both': {}}\n",
    "vi = [[], True, True]\n",
    "qubit_names = {'0':'q[0]', '1':'q[1]'}\n",
    "puzzle = hello_quantum.run_game(initialize, success_condition, allowed_gates, vi, qubit_names)"
   ]
  },
  {
   "cell_type": "code",
   "execution_count": 33,
   "metadata": {},
   "outputs": [
    {
     "data": {
      "image/png": "[encoded data removed]",
      "text/plain": [
       "<Figure size 86.452x204.68 with 1 Axes>"
      ]
     },
     "execution_count": 33,
     "metadata": {},
     "output_type": "execute_result"
    }
   ],
   "source": [
    "puzzle.get_circuit().draw(output='mpl')"
   ]
  },
  {
   "cell_type": "markdown",
   "metadata": {},
   "source": [
    "### 結果\n",
    "これで、2つの量子ビットがどのように見えるか、およびそれらを個別に操作する方法の基本を理解しました。 しかし、2つの量子ビットゲートを使い始めると、本当の楽しみが出てきます。"
   ]
  },
  {
   "cell_type": "markdown",
   "metadata": {},
   "source": [
    "# レベル 3: ２つの量子ビットのゲート"
   ]
  },
  {
   "cell_type": "markdown",
   "metadata": {},
   "source": [
    "### パズル 1\n",
    "\n",
    "### 導入\n",
    "ビットの演習では、`CNOT`ゲートを使用しました。 キュービットの場合、NOTの量子バージョンとしてxを使用して、同様のゲートがあります。 このため、Qiskitプログラムでは`cx`と呼びます。\n",
    "\n",
    "従来の`CNOT`と同様に、`cx`ゲートには「コントロール」と「ターゲット」があります。 コントロールのZ出力がどのようになるかを効果的に調べ、それを使用してxがターゲットキュービットに適用されるかどうかを決定します。\n",
    "\n",
    "このゲートを適用すると、選択したキュービットがターゲットとして機能します。 その場合、他のキュービットがコントロールになります。\n",
    "\n",
    "###  練習問題\n",
    "* `cx`または2を使用して、q[1]のZ出力をオンにし、q[0]のZ出力をオフにします。"
   ]
  },
  {
   "cell_type": "code",
   "execution_count": 34,
   "metadata": {
    "scrolled": false
   },
   "outputs": [
    {
     "data": {
      "application/vnd.jupyter.widget-view+json": {
       "model_id": "be58827bcbe34586b2b3d561bbbc7402",
       "version_major": 2,
       "version_minor": 0
      },
      "text/plain": [
       "Image(value=b'\\x89PNG\\r\\n\\x1a\\n\\x00\\x00\\x00\\rIHDR\\x00\\x00\\x01\\xb0\\x00\\x00\\x01\\xb0\\x08\\x06\\x00\\x00\\x00\\xc8N0*\\x…"
      ]
     },
     "metadata": {},
     "output_type": "display_data"
    },
    {
     "data": {
      "application/vnd.jupyter.widget-view+json": {
       "model_id": "8331decde5734350ae0585ba1b8977db",
       "version_major": 2,
       "version_minor": 0
      },
      "text/plain": [
       "VBox(children=(ToggleButtons(options=('Choose gate', 'cx'), value='Choose gate'), ToggleButtons(options=('',),…"
      ]
     },
     "metadata": {},
     "output_type": "display_data"
    },
    {
     "name": "stdout",
     "output_type": "stream",
     "text": [
      "\n",
      "Your quantum program so far:\n",
      "\n",
      "    q = QuantumRegister(2)\n",
      "    b = ClassicalRegister(2)\n",
      "    qc = QuantumCircuit(q,b)\n",
      "\n"
     ]
    }
   ],
   "source": [
    "initialize = [['x', '0']]\n",
    "success_condition = {'ZI': 1.0, 'IZ': -1.0}\n",
    "allowed_gates = {'0': {'cx': 0}, '1': {'cx': 0}, 'both': {}}\n",
    "vi = [[], True, True]\n",
    "qubit_names = {'0':'q[0]', '1':'q[1]'}\n",
    "puzzle = hello_quantum.run_game(initialize, success_condition, allowed_gates, vi, qubit_names)"
   ]
  },
  {
   "cell_type": "code",
   "execution_count": 35,
   "metadata": {},
   "outputs": [
    {
     "data": {
      "image/png": "[encoded data removed]",
      "text/plain": [
       "<Figure size 86.452x204.68 with 1 Axes>"
      ]
     },
     "execution_count": 35,
     "metadata": {},
     "output_type": "execute_result"
    }
   ],
   "source": [
    "puzzle.get_circuit().draw(output='mpl')"
   ]
  },
  {
   "cell_type": "markdown",
   "metadata": {},
   "source": [
    "## Puzzle 2\n",
    "\n",
    "### 導入\n",
    "`cx`ゲートだけでなく、`cz`もあります。 これは同じことを行いますが、`x`ではなく`z`をターゲットに適用する可能性がある点が異なります。\n",
    "\n",
    "###  練習問題\n",
    "* q [0]のX出力をオンにします。"
   ]
  },
  {
   "cell_type": "code",
   "execution_count": 36,
   "metadata": {},
   "outputs": [
    {
     "data": {
      "application/vnd.jupyter.widget-view+json": {
       "model_id": "8b5a36304f484026a254a146454c29f2",
       "version_major": 2,
       "version_minor": 0
      },
      "text/plain": [
       "Image(value=b'\\x89PNG\\r\\n\\x1a\\n\\x00\\x00\\x00\\rIHDR\\x00\\x00\\x01\\xb0\\x00\\x00\\x01\\xb0\\x08\\x06\\x00\\x00\\x00\\xc8N0*\\x…"
      ]
     },
     "metadata": {},
     "output_type": "display_data"
    },
    {
     "data": {
      "application/vnd.jupyter.widget-view+json": {
       "model_id": "2ce412a013ef4f9fa73a0a6905db3193",
       "version_major": 2,
       "version_minor": 0
      },
      "text/plain": [
       "VBox(children=(ToggleButtons(options=('Choose gate', 'cz'), value='Choose gate'), ToggleButtons(options=('',),…"
      ]
     },
     "metadata": {},
     "output_type": "display_data"
    },
    {
     "name": "stdout",
     "output_type": "stream",
     "text": [
      "\n",
      "Your quantum program so far:\n",
      "\n",
      "    q = QuantumRegister(2)\n",
      "    b = ClassicalRegister(2)\n",
      "    qc = QuantumCircuit(q,b)\n",
      "\n"
     ]
    }
   ],
   "source": [
    "initialize = [['h', '0'],['x', '1']]\n",
    "success_condition = {'XI': -1.0, 'IZ': 1.0}\n",
    "allowed_gates = {'0': {'cz': 0}, '1': {}, 'both': {}}\n",
    "vi = [[], True, True]\n",
    "qubit_names = {'0':'q[0]', '1':'q[1]'}\n",
    "puzzle = hello_quantum.run_game(initialize, success_condition, allowed_gates, vi, qubit_names)"
   ]
  },
  {
   "cell_type": "code",
   "execution_count": 37,
   "metadata": {},
   "outputs": [
    {
     "data": {
      "image/png": "[encoded data removed]",
      "text/plain": [
       "<Figure size 86.452x204.68 with 1 Axes>"
      ]
     },
     "execution_count": 37,
     "metadata": {},
     "output_type": "execute_result"
    }
   ],
   "source": [
    "puzzle.get_circuit().draw(output='mpl')"
   ]
  },
  {
   "cell_type": "markdown",
   "metadata": {},
   "source": [
    "## パズル 2b\n",
    "\n",
    "### 導入\n",
    "量子ゲートの興味深い点は、量子ゲートが何をしているのかを説明する方法が複数あることが多いということです。 これらの説明は完全に互換性がないように見える場合がありますが、同様に当てはまります。\n",
    "\n",
    "たとえば、`cz`は、*ターゲット*の潜在的なZ出力に応じて、*制御*量子ビットにzを適用するゲートとして説明することもできます。 以前とまったく同じ説明ですが、キュービットの役割が逆になっています。 それにもかかわらず、それは等しく真実です。\n",
    "\n",
    "###  練習問題\n",
    "* 前回の練習問題と同じですが、量子ビットが逆になっています。 ただし、czは以前と同じ方法です。"
   ]
  },
  {
   "cell_type": "code",
   "execution_count": 38,
   "metadata": {},
   "outputs": [
    {
     "data": {
      "application/vnd.jupyter.widget-view+json": {
       "model_id": "6d99673019d04e9dbc849bef9ad437d5",
       "version_major": 2,
       "version_minor": 0
      },
      "text/plain": [
       "Image(value=b'\\x89PNG\\r\\n\\x1a\\n\\x00\\x00\\x00\\rIHDR\\x00\\x00\\x01\\xb0\\x00\\x00\\x01\\xb0\\x08\\x06\\x00\\x00\\x00\\xc8N0*\\x…"
      ]
     },
     "metadata": {},
     "output_type": "display_data"
    },
    {
     "data": {
      "application/vnd.jupyter.widget-view+json": {
       "model_id": "517536ef34f4490ca1f3cc78e9103ae6",
       "version_major": 2,
       "version_minor": 0
      },
      "text/plain": [
       "VBox(children=(ToggleButtons(options=('Choose gate', 'cz'), value='Choose gate'), ToggleButtons(options=('',),…"
      ]
     },
     "metadata": {},
     "output_type": "display_data"
    },
    {
     "name": "stdout",
     "output_type": "stream",
     "text": [
      "\n",
      "Your quantum program so far:\n",
      "\n",
      "    q = QuantumRegister(2)\n",
      "    b = ClassicalRegister(2)\n",
      "    qc = QuantumCircuit(q,b)\n",
      "\n"
     ]
    }
   ],
   "source": [
    "initialize = [['h', '1'],['x', '0']]\n",
    "success_condition = {'IX': -1.0, 'ZI': 1.0}\n",
    "allowed_gates = {'0': {}, '1': {'cz': 0}, 'both': {}}\n",
    "vi = [[], True, True]\n",
    "qubit_names = {'0':'q[0]', '1':'q[1]'}\n",
    "puzzle = hello_quantum.run_game(initialize, success_condition, allowed_gates, vi, qubit_names)"
   ]
  },
  {
   "cell_type": "code",
   "execution_count": 39,
   "metadata": {},
   "outputs": [
    {
     "data": {
      "image/png": "[encoded data removed]",
      "text/plain": [
       "<Figure size 86.452x204.68 with 1 Axes>"
      ]
     },
     "execution_count": 39,
     "metadata": {},
     "output_type": "execute_result"
    }
   ],
   "source": [
    "puzzle.get_circuit().draw(output='mpl')"
   ]
  },
  {
   "cell_type": "markdown",
   "metadata": {},
   "source": [
    "## パズル 3\n",
    "\n",
    "### 導入\n",
    "ここで、全く別の説明をしますが、同じように正しい説明をします 。`h`ゲートと同様に、円が入れ替わっていると考えることができます。czの作用は以下のようなものです。\n",
    "\n",
    "- q[0]のX出力を右上の隣接する円と交換します。\n",
    "- q[1]のX出力（左上の隣の場合）でも同じことを行います。 czはまた、グリッドの上部にある円で何か奇妙なことをしますが、それは後で解決される謎です！\n",
    "再度、[Hello Quantumアプリ](https://helloquantum.mybluemix.net/)はいくつかの素晴らしいアニメーションを提供します。\n",
    "\n",
    "\n",
    "###  練習問題\n",
    "* コントロールとして各量子ビットで2回`cz`を実行し、何が起こるかを確認します。"
   ]
  },
  {
   "cell_type": "code",
   "execution_count": 40,
   "metadata": {
    "scrolled": false
   },
   "outputs": [
    {
     "data": {
      "application/vnd.jupyter.widget-view+json": {
       "model_id": "d2d3949c52b543fca54d931861642855",
       "version_major": 2,
       "version_minor": 0
      },
      "text/plain": [
       "Image(value=b'\\x89PNG\\r\\n\\x1a\\n\\x00\\x00\\x00\\rIHDR\\x00\\x00\\x01\\xb0\\x00\\x00\\x01\\xb0\\x08\\x06\\x00\\x00\\x00\\xc8N0*\\x…"
      ]
     },
     "metadata": {},
     "output_type": "display_data"
    },
    {
     "data": {
      "application/vnd.jupyter.widget-view+json": {
       "model_id": "4b4221ee33a64cf8a14daf4f842c660f",
       "version_major": 2,
       "version_minor": 0
      },
      "text/plain": [
       "VBox(children=(ToggleButtons(options=('Choose gate', 'cz'), value='Choose gate'), ToggleButtons(options=('',),…"
      ]
     },
     "metadata": {},
     "output_type": "display_data"
    },
    {
     "name": "stdout",
     "output_type": "stream",
     "text": [
      "\n",
      "Your quantum program so far:\n",
      "\n",
      "    q = QuantumRegister(2)\n",
      "    b = ClassicalRegister(2)\n",
      "    qc = QuantumCircuit(q,b)\n",
      "\n"
     ]
    }
   ],
   "source": [
    "initialize = [['h', '0'],['x', '1'],['h', '1']]\n",
    "success_condition = { }\n",
    "allowed_gates = {'0':{'cz': 2}, '1':{'cz': 2}, 'both': {}}\n",
    "vi = [[], True, True]\n",
    "qubit_names = {'0':'q[0]', '1':'q[1]'}\n",
    "puzzle = hello_quantum.run_game(initialize, success_condition, allowed_gates, vi, qubit_names)"
   ]
  },
  {
   "cell_type": "code",
   "execution_count": 41,
   "metadata": {},
   "outputs": [
    {
     "data": {
      "image/png": "[encoded data removed]",
      "text/plain": [
       "<Figure size 86.452x204.68 with 1 Axes>"
      ]
     },
     "execution_count": 41,
     "metadata": {},
     "output_type": "execute_result"
    }
   ],
   "source": [
    "puzzle.get_circuit().draw(output='mpl')"
   ]
  },
  {
   "cell_type": "markdown",
   "metadata": {},
   "source": [
    "###  終結\n",
    "これで、`cz`について非常に役立つことがわかりました。コントロールとしてどの量子ビットを選択しても、`cz`はどちらの場合も同じことを行います。 このため、これからは`cz`の制御量子ビットを選択する必要はありません。"
   ]
  },
  {
   "cell_type": "markdown",
   "metadata": {},
   "source": [
    "## パズル 3b\n",
    "\n",
    "### 導入\n",
    "前述のように、XおよびZ出力は、量子ビットから出力を取得する2つの方法に対応します。XおよびZ測定です。 これらの名前が示すように、Y測定として知られる3番目の方法もあります。\n",
    "\n",
    "これらのパズルでは、物事を少し簡単にするために、Y測定をほとんど無視します。 ただし、量子ビットの完全な説明については、Y出力がどのように見えるかを追跡する必要があります。 これは、各量子ビットのY出力に対して、さらに2、3行の円を追加することを意味します。\n",
    "\n",
    "次の演習は、Y出力行が表示されることを除いて、前回とまったく同じです。 これらを使用すると、最後のパズルで見られた奇妙な効果はまったく奇妙になりません。 ご自分の目で確かめてみてください!\n",
    "\n",
    "###  練習問題\n",
    "* `cz`を2回実行して、何が起こるかを確認します。"
   ]
  },
  {
   "cell_type": "code",
   "execution_count": 42,
   "metadata": {},
   "outputs": [
    {
     "data": {
      "application/vnd.jupyter.widget-view+json": {
       "model_id": "f01f6ed4651d4082a614bb8da99edf3b",
       "version_major": 2,
       "version_minor": 0
      },
      "text/plain": [
       "Image(value=b'\\x89PNG\\r\\n\\x1a\\n\\x00\\x00\\x00\\rIHDR\\x00\\x00\\x01\\xb0\\x00\\x00\\x01\\xb0\\x08\\x06\\x00\\x00\\x00\\xc8N0*\\x…"
      ]
     },
     "metadata": {},
     "output_type": "display_data"
    },
    {
     "data": {
      "application/vnd.jupyter.widget-view+json": {
       "model_id": "aa043207fae24a4bb83a728e917564bf",
       "version_major": 2,
       "version_minor": 0
      },
      "text/plain": [
       "VBox(children=(ToggleButtons(options=('Choose gate', 'cz'), value='Choose gate'), ToggleButtons(options=('',),…"
      ]
     },
     "metadata": {},
     "output_type": "display_data"
    },
    {
     "name": "stdout",
     "output_type": "stream",
     "text": [
      "\n",
      "Your quantum program so far:\n",
      "\n",
      "    q = QuantumRegister(2)\n",
      "    b = ClassicalRegister(2)\n",
      "    qc = QuantumCircuit(q,b)\n",
      "\n"
     ]
    }
   ],
   "source": [
    "initialize = [['h', '0'],['x', '1'],['h', '1']]\n",
    "success_condition = { }\n",
    "allowed_gates = {'0': {}, '1': {}, 'both': {'cz': 2}}\n",
    "vi = [[], True, True]\n",
    "qubit_names = {'0':'q[0]', '1':'q[1]'}\n",
    "puzzle = hello_quantum.run_game(initialize, success_condition, allowed_gates, vi, qubit_names, mode='y')"
   ]
  },
  {
   "cell_type": "code",
   "execution_count": 43,
   "metadata": {},
   "outputs": [
    {
     "data": {
      "image/png": "[encoded data removed]",
      "text/plain": [
       "<Figure size 86.452x204.68 with 1 Axes>"
      ]
     },
     "execution_count": 43,
     "metadata": {},
     "output_type": "execute_result"
    }
   ],
   "source": [
    "puzzle.get_circuit().draw(output='mpl')"
   ]
  },
  {
   "cell_type": "markdown",
   "metadata": {},
   "source": [
    "### 終結\n",
    "ここでは、`cz`によって行われた3番目の円の交換が表示されます。 上部の円（両方の量子ビットのX出力の相関を表す）が中央の円（両方の量子ビットのY出力の相関を表す）と交換されます。\n",
    "\n",
    "量子ビットの説明が完全ではなかったという理由だけで、中央の行が欠落しているとき、これは奇妙に見えました。 それでも、Y出力のない単純なグリッドを引き続き使用します。 それらを自分で追加する場合は、`hello_quantum.run_game（）`で`mode = 'y'`引数を使用するだけです。"
   ]
  },
  {
   "cell_type": "markdown",
   "metadata": {},
   "source": [
    "## パズル 4\n",
    "\n",
    "### 導入\n",
    "前の練習問題では、`z`ゲートといくつかの`h`ゲートから`x`を作成しました。 同様に、`cz`といくつかの`h`から`cx`を構築することも可能です。\n",
    "\n",
    "###  練習問題\n",
    "* q[1]のZ出力をオンにします。"
   ]
  },
  {
   "cell_type": "code",
   "execution_count": 44,
   "metadata": {},
   "outputs": [
    {
     "data": {
      "application/vnd.jupyter.widget-view+json": {
       "model_id": "1c789792b68b412c98ed366a7de36a23",
       "version_major": 2,
       "version_minor": 0
      },
      "text/plain": [
       "Image(value=b'\\x89PNG\\r\\n\\x1a\\n\\x00\\x00\\x00\\rIHDR\\x00\\x00\\x01\\xb0\\x00\\x00\\x01\\xb0\\x08\\x06\\x00\\x00\\x00\\xc8N0*\\x…"
      ]
     },
     "metadata": {},
     "output_type": "display_data"
    },
    {
     "data": {
      "application/vnd.jupyter.widget-view+json": {
       "model_id": "a9b01024390e453c90f2707c80a7ce3d",
       "version_major": 2,
       "version_minor": 0
      },
      "text/plain": [
       "VBox(children=(ToggleButtons(options=('Choose gate', 'h', 'cz'), value='Choose gate'), ToggleButtons(options=(…"
      ]
     },
     "metadata": {},
     "output_type": "display_data"
    },
    {
     "name": "stdout",
     "output_type": "stream",
     "text": [
      "\n",
      "Your quantum program so far:\n",
      "\n",
      "    q = QuantumRegister(2)\n",
      "    b = ClassicalRegister(2)\n",
      "    qc = QuantumCircuit(q,b)\n",
      "\n"
     ]
    }
   ],
   "source": [
    "initialize = [['x', '0']]\n",
    "success_condition = {'IZ': -1.0}\n",
    "allowed_gates = {'0': {'h':0}, '1': {'h':0}, 'both': {'cz': 0}}\n",
    "vi = [[], True, True]\n",
    "qubit_names = {'0':'q[0]', '1':'q[1]'}\n",
    "puzzle = hello_quantum.run_game(initialize, success_condition, allowed_gates, vi, qubit_names)"
   ]
  },
  {
   "cell_type": "code",
   "execution_count": 45,
   "metadata": {},
   "outputs": [
    {
     "data": {
      "image/png": "[encoded data removed]",
      "text/plain": [
       "<Figure size 86.452x204.68 with 1 Axes>"
      ]
     },
     "execution_count": 45,
     "metadata": {},
     "output_type": "execute_result"
    }
   ],
   "source": [
    "puzzle.get_circuit().draw(output='mpl')"
   ]
  },
  {
   "cell_type": "markdown",
   "metadata": {},
   "source": [
    "### 終結\n",
    "`cz`とは異なり、`cx`は対称ではありません。 代わりに、ターゲットがq[0]であるcxを作成したい場合は、代わりにq[0]で`h`を実行する必要があります。"
   ]
  },
  {
   "cell_type": "markdown",
   "metadata": {},
   "source": [
    "### パズル 5\n",
    "\n",
    "### 導入\n",
    "`cz`「逆方向」を解釈することができました：ターゲット量子ビットが制御の役割を果たした別の説明、およびその逆。`cx`でも同じことをします。 ただし、このゲートには対称効果がないため、これはもう少し注意が必要です。\n",
    "\n",
    "具体的には、コントロールのZ出力の実行内容に応じてターゲットに対してxを実行すると考えるのではなく、ターゲットのX出力の実行内容に応じてコントロールに対してzを実行すると考えることができます。\n",
    "\n",
    "この演習では、ターゲットが制御を行っているように見え、制御がターゲットであることがわかります。\n",
    "\n",
    "###  練習問題\n",
    "* `q[0]`のX出力をオンにします。"
   ]
  },
  {
   "cell_type": "code",
   "execution_count": 46,
   "metadata": {},
   "outputs": [
    {
     "data": {
      "application/vnd.jupyter.widget-view+json": {
       "model_id": "fae4e29074a2430e946213b042d65517",
       "version_major": 2,
       "version_minor": 0
      },
      "text/plain": [
       "Image(value=b'\\x89PNG\\r\\n\\x1a\\n\\x00\\x00\\x00\\rIHDR\\x00\\x00\\x01\\xb0\\x00\\x00\\x01\\xb0\\x08\\x06\\x00\\x00\\x00\\xc8N0*\\x…"
      ]
     },
     "metadata": {},
     "output_type": "display_data"
    },
    {
     "data": {
      "application/vnd.jupyter.widget-view+json": {
       "model_id": "fd2b227747db432eb2afe78d4196ab78",
       "version_major": 2,
       "version_minor": 0
      },
      "text/plain": [
       "VBox(children=(ToggleButtons(options=('Choose gate', 'z', 'cx'), value='Choose gate'), ToggleButtons(options=(…"
      ]
     },
     "metadata": {},
     "output_type": "display_data"
    },
    {
     "name": "stdout",
     "output_type": "stream",
     "text": [
      "\n",
      "Your quantum program so far:\n",
      "\n",
      "    q = QuantumRegister(2)\n",
      "    b = ClassicalRegister(2)\n",
      "    qc = QuantumCircuit(q,b)\n",
      "\n"
     ]
    }
   ],
   "source": [
    "initialize = [['h', '0'],['h', '1']]\n",
    "success_condition = {'XI': -1.0, 'IX': -1.0}\n",
    "allowed_gates = {'0': {}, '1': {'z':0,'cx': 0}, 'both': {}}\n",
    "vi = [[], True, True]\n",
    "qubit_names = {'0':'q[0]', '1':'q[1]'}\n",
    "puzzle = hello_quantum.run_game(initialize, success_condition, allowed_gates, vi, qubit_names)"
   ]
  },
  {
   "cell_type": "code",
   "execution_count": 47,
   "metadata": {},
   "outputs": [
    {
     "data": {
      "image/png": "[encoded data removed]",
      "text/plain": [
       "<Figure size 86.452x204.68 with 1 Axes>"
      ]
     },
     "execution_count": 47,
     "metadata": {},
     "output_type": "execute_result"
    }
   ],
   "source": [
    "puzzle.get_circuit().draw(output='mpl')"
   ]
  },
  {
   "cell_type": "markdown",
   "metadata": {},
   "source": [
    "### 終結\n",
    "`cx`がどのように機能するかについてのこれらの2つの異なる話は矛盾しているように見えるかもしれませんが、それらは等しく有効な説明です。 量子ゲートの奇妙で素晴らしい性質の素晴らしい例です。"
   ]
  },
  {
   "cell_type": "markdown",
   "metadata": {},
   "source": [
    "### パズル 6\n",
    "\n",
    "### イントロダクション・導入\n",
    "これで、`cx`のこれら2つの解釈がわかったので、非常に便利なことを行うことができます。\n",
    "\n",
    "このパズルでは、`q[1]`をターゲットとして`cx`を取得しますが、`q[0]`をターゲットとして`cx`が必要になります。 いくつかの`h`ゲートのヘルプを使用して同じ効果を得る方法を理解できるかどうかを確認してください。\n",
    "\n",
    "###  練習問題\n",
    "* `q[1]`のZ出力を維持しますが、`q[0]`のZ出力をオフにします。"
   ]
  },
  {
   "cell_type": "code",
   "execution_count": 48,
   "metadata": {},
   "outputs": [
    {
     "data": {
      "application/vnd.jupyter.widget-view+json": {
       "model_id": "c8fb729c40a04b40b22ab48af3d4c9c6",
       "version_major": 2,
       "version_minor": 0
      },
      "text/plain": [
       "Image(value=b'\\x89PNG\\r\\n\\x1a\\n\\x00\\x00\\x00\\rIHDR\\x00\\x00\\x01\\xb0\\x00\\x00\\x01\\xb0\\x08\\x06\\x00\\x00\\x00\\xc8N0*\\x…"
      ]
     },
     "metadata": {},
     "output_type": "display_data"
    },
    {
     "data": {
      "application/vnd.jupyter.widget-view+json": {
       "model_id": "d6cb071b7ecb46ff84a2dd2581b65dad",
       "version_major": 2,
       "version_minor": 0
      },
      "text/plain": [
       "VBox(children=(ToggleButtons(options=('Choose gate', 'h', 'cx'), value='Choose gate'), ToggleButtons(options=(…"
      ]
     },
     "metadata": {},
     "output_type": "display_data"
    },
    {
     "name": "stdout",
     "output_type": "stream",
     "text": [
      "\n",
      "Your quantum program so far:\n",
      "\n",
      "    q = QuantumRegister(2)\n",
      "    b = ClassicalRegister(2)\n",
      "    qc = QuantumCircuit(q,b)\n",
      "\n"
     ]
    }
   ],
   "source": [
    "initialize = [('x','0'),('x','1')]\n",
    "success_condition = {'ZI': 1.0,'IZ': -1.0}\n",
    "allowed_gates = {'0': {'h':0}, '1': {'h':0,'cx':0}, 'both': {}}\n",
    "vi = [[], True, True]\n",
    "qubit_names = {'0':'q[0]', '1':'q[1]'}\n",
    "puzzle = hello_quantum.run_game(initialize, success_condition, allowed_gates, vi, qubit_names)"
   ]
  },
  {
   "cell_type": "code",
   "execution_count": 49,
   "metadata": {},
   "outputs": [
    {
     "data": {
      "image/png": "[encoded data removed]",
      "text/plain": [
       "<Figure size 86.452x204.68 with 1 Axes>"
      ]
     },
     "execution_count": 49,
     "metadata": {},
     "output_type": "execute_result"
    }
   ],
   "source": [
    "puzzle.get_circuit().draw(output='mpl')"
   ]
  },
  {
   "cell_type": "markdown",
   "metadata": {},
   "source": [
    "### 終結\n",
    "これらの練習問題から何かを覚えているなら、それはおそらくこれであるはずです。 実際の量子ビットデバイスでは、`cx`を実行できる方法を制限するのが一般的であるため、それらを方向転換する機能は非常に便利です。"
   ]
  },
  {
   "cell_type": "markdown",
   "metadata": {},
   "source": [
    "### パズル  7\n",
    "\n",
    "### 導入\n",
    "もう1つの有用な量子ゲートは`swap`です。 これは、名前が示すとおり、2つの量子ビットの状態を交換します。 Qiskitでは単に`swap`コマンドを呼び出すことができますが、このゲートを`cz`または`cx`ゲートから作成する方が興味深いです。\n",
    "\n",
    "###  練習問題\n",
    "* 2つの量子ビットを交換します。\n",
    " - q[0]のZ出力を白、X出力を灰色にします。\n",
    " - q[1]のZ出力を濃い灰色にし、X出力を薄い灰色にします。"
   ]
  },
  {
   "cell_type": "code",
   "execution_count": 50,
   "metadata": {},
   "outputs": [
    {
     "data": {
      "application/vnd.jupyter.widget-view+json": {
       "model_id": "3dc225e7fbeb4c61b307f464be1ca081",
       "version_major": 2,
       "version_minor": 0
      },
      "text/plain": [
       "Image(value=b'\\x89PNG\\r\\n\\x1a\\n\\x00\\x00\\x00\\rIHDR\\x00\\x00\\x01\\xb0\\x00\\x00\\x01\\xb0\\x08\\x06\\x00\\x00\\x00\\xc8N0*\\x…"
      ]
     },
     "metadata": {},
     "output_type": "display_data"
    },
    {
     "data": {
      "application/vnd.jupyter.widget-view+json": {
       "model_id": "48b62ce8fcb64bfea5d58e53b2faf9f5",
       "version_major": 2,
       "version_minor": 0
      },
      "text/plain": [
       "VBox(children=(ToggleButtons(options=('Choose gate', 'h', 'cz'), value='Choose gate'), ToggleButtons(options=(…"
      ]
     },
     "metadata": {},
     "output_type": "display_data"
    },
    {
     "name": "stdout",
     "output_type": "stream",
     "text": [
      "\n",
      "Your quantum program so far:\n",
      "\n",
      "    q = QuantumRegister(2)\n",
      "    b = ClassicalRegister(2)\n",
      "    qc = QuantumCircuit(q,b)\n",
      "\n"
     ]
    }
   ],
   "source": [
    "initialize = [['ry(-pi/4)','0'],['ry(-pi/4)','0'],['ry(-pi/4)','0'],['x','0'],['x','1']]\n",
    "success_condition = {'ZI': -1.0,'XI':0,'IZ':0.7071,'IX':-0.7071}\n",
    "allowed_gates = {'0': {'h':0}, '1': {'h':0}, 'both': {'cz': 0}}\n",
    "vi = [[], True, True]\n",
    "qubit_names = {'0':'q[0]', '1':'q[1]'}\n",
    "puzzle = hello_quantum.run_game(initialize, success_condition, allowed_gates, vi, qubit_names)"
   ]
  },
  {
   "cell_type": "code",
   "execution_count": 51,
   "metadata": {},
   "outputs": [
    {
     "data": {
      "image/png": "[encoded data removed]",
      "text/plain": [
       "<Figure size 86.452x204.68 with 1 Axes>"
      ]
     },
     "execution_count": 51,
     "metadata": {},
     "output_type": "execute_result"
    }
   ],
   "source": [
    "puzzle.get_circuit().draw(output='mpl')"
   ]
  },
  {
   "cell_type": "markdown",
   "metadata": {},
   "source": [
    "### 終結\n",
    "このパズルの解決策は、汎用の交換ではなかった可能性があることに注意してください。 ソリューションを、スワップも実装する次のいくつかのパズルのソリューションと比較してください。"
   ]
  },
  {
   "cell_type": "markdown",
   "metadata": {},
   "source": [
    "## パズル 8\n",
    "\n",
    "### 導入\n",
    "これは、`swap`を作成するというアイデアに基づいた別のパズルです。\n",
    "\n",
    "#### 練習問題\n",
    "* 2つの量子ビットを交換します。\n",
    "  * q[0]のX出力を黒にします。\n",
    "  * q[1]のZ出力を白にします。\n",
    "* そして、3つの`cz`ゲートでそれを行います"
   ]
  },
  {
   "cell_type": "code",
   "execution_count": 52,
   "metadata": {},
   "outputs": [
    {
     "data": {
      "application/vnd.jupyter.widget-view+json": {
       "model_id": "48e6ba259dcb4d79bb7632b8f4ea08ea",
       "version_major": 2,
       "version_minor": 0
      },
      "text/plain": [
       "Image(value=b'\\x89PNG\\r\\n\\x1a\\n\\x00\\x00\\x00\\rIHDR\\x00\\x00\\x01\\xb0\\x00\\x00\\x01\\xb0\\x08\\x06\\x00\\x00\\x00\\xc8N0*\\x…"
      ]
     },
     "metadata": {},
     "output_type": "display_data"
    },
    {
     "data": {
      "application/vnd.jupyter.widget-view+json": {
       "model_id": "960d0705a2ed4bcea224a19401de42ff",
       "version_major": 2,
       "version_minor": 0
      },
      "text/plain": [
       "VBox(children=(ToggleButtons(options=('Choose gate', 'h', 'cz'), value='Choose gate'), ToggleButtons(options=(…"
      ]
     },
     "metadata": {},
     "output_type": "display_data"
    },
    {
     "name": "stdout",
     "output_type": "stream",
     "text": [
      "\n",
      "Your quantum program so far:\n",
      "\n",
      "    q = QuantumRegister(2)\n",
      "    b = ClassicalRegister(2)\n",
      "    qc = QuantumCircuit(q,b)\n",
      "\n"
     ]
    }
   ],
   "source": [
    "initialize = [['x','0'],['h','1']]\n",
    "success_condition = {'XI':1,'IZ':-1}\n",
    "allowed_gates = {'0': {'h':0}, '1': {'h':0}, 'both': {'cz':3}}\n",
    "vi = [[], True, True]\n",
    "qubit_names = {'0':'q[0]', '1':'q[1]'}\n",
    "puzzle = hello_quantum.run_game(initialize, success_condition, allowed_gates, vi, qubit_names,shots=2000)"
   ]
  },
  {
   "cell_type": "code",
   "execution_count": 53,
   "metadata": {},
   "outputs": [
    {
     "data": {
      "image/png": "[encoded data removed]",
      "text/plain": [
       "<Figure size 86.452x204.68 with 1 Axes>"
      ]
     },
     "execution_count": 53,
     "metadata": {},
     "output_type": "execute_result"
    }
   ],
   "source": [
    "puzzle.get_circuit().draw(output='mpl')"
   ]
  },
  {
   "cell_type": "markdown",
   "metadata": {},
   "source": [
    "## パズル 9\n",
    "\n",
    "#### 導入\n",
    "そして別の`swap`ベースのパズル。\n",
    "\n",
    "#### 練習問題\n",
    "* 2つの量子ビットを交換します。\n",
    " * q[0]のZ出力をオンにします。\n",
    " * Z出力q[1]をオフにします。"
   ]
  },
  {
   "cell_type": "code",
   "execution_count": 54,
   "metadata": {
    "scrolled": false
   },
   "outputs": [
    {
     "data": {
      "application/vnd.jupyter.widget-view+json": {
       "model_id": "d6b4d61dfe18450eb60f52b7dffda19e",
       "version_major": 2,
       "version_minor": 0
      },
      "text/plain": [
       "Image(value=b'\\x89PNG\\r\\n\\x1a\\n\\x00\\x00\\x00\\rIHDR\\x00\\x00\\x01\\xb0\\x00\\x00\\x01\\xb0\\x08\\x06\\x00\\x00\\x00\\xc8N0*\\x…"
      ]
     },
     "metadata": {},
     "output_type": "display_data"
    },
    {
     "data": {
      "application/vnd.jupyter.widget-view+json": {
       "model_id": "1c1fc831d4904cbfb76a3fde13b04d96",
       "version_major": 2,
       "version_minor": 0
      },
      "text/plain": [
       "VBox(children=(ToggleButtons(options=('Choose gate', 'h', 'cz'), value='Choose gate'), ToggleButtons(options=(…"
      ]
     },
     "metadata": {},
     "output_type": "display_data"
    },
    {
     "name": "stdout",
     "output_type": "stream",
     "text": [
      "\n",
      "Your quantum program so far:\n",
      "\n",
      "    q = QuantumRegister(2)\n",
      "    b = ClassicalRegister(2)\n",
      "    qc = QuantumCircuit(q,b)\n",
      "\n"
     ]
    }
   ],
   "source": [
    "initialize = [['x','1']]\n",
    "success_condition = {'IZ':1.0,'ZI':-1.0}\n",
    "allowed_gates = {'0': {'h':0}, '1': {'h':0}, 'both': {'cz':0}}\n",
    "vi = [[], True, True]\n",
    "qubit_names = {'0':'q[0]', '1':'q[1]'}\n",
    "puzzle = hello_quantum.run_game(initialize, success_condition, allowed_gates, vi, qubit_names,shots=2000)"
   ]
  },
  {
   "cell_type": "code",
   "execution_count": 55,
   "metadata": {},
   "outputs": [
    {
     "data": {
      "image/png": "[encoded data removed]",
      "text/plain": [
       "<Figure size 86.452x204.68 with 1 Axes>"
      ]
     },
     "execution_count": 55,
     "metadata": {},
     "output_type": "execute_result"
    }
   ],
   "source": [
    "puzzle.get_circuit().draw(output='mpl')"
   ]
  },
  {
   "cell_type": "markdown",
   "metadata": {},
   "source": [
    "# レベル 4:クリフォードゲートを越えて"
   ]
  },
  {
   "cell_type": "markdown",
   "metadata": {},
   "source": [
    "## パズル1a\n",
    "\n",
    "### 導入\n",
    "これまでに見たゲートは「クリフォードゲート」と呼ばれています。 それらは、量子コンピューターで情報を移動および操作するために非常に重要です。 ただし、クリフォードゲートのみを使用して標準的なコンピューターよりも優れたパフォーマンスを発揮できるアルゴリズムを作成することはできません。 新しいゲートが必要です。\n",
    "\n",
    "このパズルにはあなたが試すことができるものがあります。 数回実行して、何ができるかを確認してください。\n",
    "\n",
    "###  練習問題\n",
    "* `ry（pi/4）`をq[0]に4回適用します。"
   ]
  },
  {
   "cell_type": "code",
   "execution_count": 56,
   "metadata": {
    "scrolled": false
   },
   "outputs": [
    {
     "data": {
      "application/vnd.jupyter.widget-view+json": {
       "model_id": "74e86daf816c42d6bbeebdef94683815",
       "version_major": 2,
       "version_minor": 0
      },
      "text/plain": [
       "Image(value=b'\\x89PNG\\r\\n\\x1a\\n\\x00\\x00\\x00\\rIHDR\\x00\\x00\\x01\\xb0\\x00\\x00\\x01\\xb0\\x08\\x06\\x00\\x00\\x00\\xc8N0*\\x…"
      ]
     },
     "metadata": {},
     "output_type": "display_data"
    },
    {
     "data": {
      "application/vnd.jupyter.widget-view+json": {
       "model_id": "65327ce4da414c96806347ca03b70505",
       "version_major": 2,
       "version_minor": 0
      },
      "text/plain": [
       "VBox(children=(ToggleButtons(options=('Choose gate', 'ry(pi/4)'), value='Choose gate'), ToggleButtons(options=…"
      ]
     },
     "metadata": {},
     "output_type": "display_data"
    },
    {
     "name": "stdout",
     "output_type": "stream",
     "text": [
      "\n",
      "Your quantum program so far:\n",
      "\n",
      "    q = QuantumRegister(2)\n",
      "    b = ClassicalRegister(2)\n",
      "    qc = QuantumCircuit(q,b)\n",
      "\n"
     ]
    }
   ],
   "source": [
    "initialize = []\n",
    "success_condition = {}\n",
    "allowed_gates = {'0': {'ry(pi/4)': 4}, '1': {}, 'both': {}}\n",
    "vi = [[], True, True]\n",
    "qubit_names = {'0':'q[0]', '1':'q[1]'}\n",
    "puzzle = hello_quantum.run_game(initialize, success_condition, allowed_gates, vi, qubit_names)"
   ]
  },
  {
   "cell_type": "code",
   "execution_count": 57,
   "metadata": {},
   "outputs": [
    {
     "data": {
      "image/png": "[encoded data removed]",
      "text/plain": [
       "<Figure size 86.452x204.68 with 1 Axes>"
      ]
     },
     "execution_count": 57,
     "metadata": {},
     "output_type": "execute_result"
    }
   ],
   "source": [
    "puzzle.get_circuit().draw(output='mpl')"
   ]
  },
  {
   "cell_type": "markdown",
   "metadata": {},
   "source": [
    "###  終結\n",
    "あなたがそれを解決することができたならよくやった！ 残りの問題は、私たちがそれを理解するのを助けるために何か新しいことを試してみましょう。"
   ]
  },
  {
   "cell_type": "markdown",
   "metadata": {},
   "source": [
    "## パズル 1b\n",
    "\n",
    "### イントロダクション・導入\n",
    "今見たゲートをよりよく理解するために、量子ビットを視覚化するために少し異なる方法を使用します。 この場合、確実に`0`になる出力は、白い円ではなく白い線で表されます。`1`を与えることが確実な出力は、黒い円ではなく黒い線になります。 ランダムな出力の場合、灰色の円ではなく、一部が白で一部が黒の線が表示されます。\n",
    "\n",
    "これは、この新しい視覚化に慣れるのに役立つ古い練習問題です。\n",
    "\n",
    "###  練習問題\n",
    "* X出力が確実に一致するようにします。"
   ]
  },
  {
   "cell_type": "code",
   "execution_count": 58,
   "metadata": {},
   "outputs": [
    {
     "data": {
      "application/vnd.jupyter.widget-view+json": {
       "model_id": "59c18bdff1e749fda57f1a142807672e",
       "version_major": 2,
       "version_minor": 0
      },
      "text/plain": [
       "Image(value=b'\\x89PNG\\r\\n\\x1a\\n\\x00\\x00\\x00\\rIHDR\\x00\\x00\\x01\\xb0\\x00\\x00\\x01\\xb0\\x08\\x06\\x00\\x00\\x00\\xc8N0*\\x…"
      ]
     },
     "metadata": {},
     "output_type": "display_data"
    },
    {
     "data": {
      "application/vnd.jupyter.widget-view+json": {
       "model_id": "15b25ce51df84f51abb3bb569c2c3ca8",
       "version_major": 2,
       "version_minor": 0
      },
      "text/plain": [
       "VBox(children=(ToggleButtons(options=('Choose gate', 'x', 'z', 'h'), value='Choose gate'), ToggleButtons(optio…"
      ]
     },
     "metadata": {},
     "output_type": "display_data"
    },
    {
     "name": "stdout",
     "output_type": "stream",
     "text": [
      "\n",
      "Your quantum program so far:\n",
      "\n",
      "    q = QuantumRegister(2)\n",
      "    b = ClassicalRegister(2)\n",
      "    qc = QuantumCircuit(q,b)\n",
      "\n"
     ]
    }
   ],
   "source": [
    "initialize = [['x','0']]\n",
    "success_condition = {'XX': 1.0}\n",
    "allowed_gates = {'0': {'x': 0, 'z': 0, 'h': 0}, '1': {'x': 0, 'z': 0, 'h': 0}, 'both': {}}\n",
    "vi = [[], True, True]\n",
    "qubit_names = {'0':'q[0]', '1':'q[1]'}\n",
    "puzzle = hello_quantum.run_game(initialize, success_condition, allowed_gates, vi, qubit_names, mode='line')"
   ]
  },
  {
   "cell_type": "code",
   "execution_count": 59,
   "metadata": {},
   "outputs": [
    {
     "data": {
      "image/png": "[encoded data removed]",
      "text/plain": [
       "<Figure size 86.452x204.68 with 1 Axes>"
      ]
     },
     "execution_count": 59,
     "metadata": {},
     "output_type": "execute_result"
    }
   ],
   "source": [
    "puzzle.get_circuit().draw(output='mpl')"
   ]
  },
  {
   "cell_type": "markdown",
   "metadata": {},
   "source": [
    "## パズル 1c\n",
    "\n",
    "### 導入\n",
    "このパズルでは、あなたができる新しいことがわかります：`ブロッホ`。 これは実際にはゲートではなく、量子プログラムには表示されません。代わりに、各量子ビットの2本の線を互いに重ねて描画することにより、視覚化を変更するだけです。 また、それらのレベルが交差するポイントを配置します。ブロッホを使用すると、`ry（pi / 4）`がどのように機能するかを理解できるはずです。\n",
    "\n",
    "###  練習問題\n",
    "* `q[0]`の一番下の行を完全にオンにして、`ブロッホ`ゲートを使用します。"
   ]
  },
  {
   "cell_type": "code",
   "execution_count": 60,
   "metadata": {
    "scrolled": false
   },
   "outputs": [
    {
     "data": {
      "application/vnd.jupyter.widget-view+json": {
       "model_id": "961767f7c5f34cb0884379eb99de574f",
       "version_major": 2,
       "version_minor": 0
      },
      "text/plain": [
       "Image(value=b'\\x89PNG\\r\\n\\x1a\\n\\x00\\x00\\x00\\rIHDR\\x00\\x00\\x01\\xb0\\x00\\x00\\x01\\xb0\\x08\\x06\\x00\\x00\\x00\\xc8N0*\\x…"
      ]
     },
     "metadata": {},
     "output_type": "display_data"
    },
    {
     "data": {
      "application/vnd.jupyter.widget-view+json": {
       "model_id": "567def51b8544788b27d2e7b063c05f5",
       "version_major": 2,
       "version_minor": 0
      },
      "text/plain": [
       "VBox(children=(ToggleButtons(options=('Choose gate', 'bloch', 'unbloch', 'ry(pi/4)'), value='Choose gate'), To…"
      ]
     },
     "metadata": {},
     "output_type": "display_data"
    },
    {
     "name": "stdout",
     "output_type": "stream",
     "text": [
      "\n",
      "Your quantum program so far:\n",
      "\n",
      "    q = QuantumRegister(2)\n",
      "    b = ClassicalRegister(2)\n",
      "    qc = QuantumCircuit(q,b)\n",
      "\n"
     ]
    }
   ],
   "source": [
    "initialize = []\n",
    "success_condition = {'ZI': -1.0}\n",
    "allowed_gates = {'0': {'bloch':1, 'ry(pi/4)': 0}, '1':{}, 'both': {'unbloch':0}}\n",
    "vi = [[], True, True]\n",
    "qubit_names = {'0':'q[0]', '1':'q[1]'}\n",
    "puzzle = hello_quantum.run_game(initialize, success_condition, allowed_gates, vi, qubit_names, mode='line')"
   ]
  },
  {
   "cell_type": "code",
   "execution_count": 61,
   "metadata": {},
   "outputs": [
    {
     "data": {
      "image/png": "[encoded data removed]",
      "text/plain": [
       "<Figure size 86.452x204.68 with 1 Axes>"
      ]
     },
     "execution_count": 61,
     "metadata": {},
     "output_type": "execute_result"
    }
   ],
   "source": [
    "puzzle.get_circuit().draw(output='mpl')"
   ]
  },
  {
   "cell_type": "markdown",
   "metadata": {},
   "source": [
    "###  終結\n",
    "ポイントをたどった場合、`ry（pi / 4）`の効果はポイントを次のように回転させることであることに気付くはずです。 $\\\\pi/4$ラジアン(45度)回転するもの。 線のレベルもそれに合わせて変化します。 `ry（-pi/4）`ゲートの効果は、回転が反対方向であることを除いて同じです。\n",
    "\n",
    "おそらくお気づきかもしれませんが、Alaosは、ブロッホを使用すると、各キュービットの2つの線を組み合わせるだけではありません。 行全体を組み合わせます。"
   ]
  },
  {
   "cell_type": "markdown",
   "metadata": {},
   "source": [
    "## パズル 2\n",
    "\n",
    "### 導入\n",
    "では、これらのゲートを他の量子ビットでも使用しましょう。\n",
    "\n",
    "###  練習問題\n",
    "*  ボトムラインを完全にオンにします。"
   ]
  },
  {
   "cell_type": "code",
   "execution_count": 62,
   "metadata": {
    "scrolled": false
   },
   "outputs": [
    {
     "data": {
      "application/vnd.jupyter.widget-view+json": {
       "model_id": "c8a501b48f22432da5d72e0443fc84e0",
       "version_major": 2,
       "version_minor": 0
      },
      "text/plain": [
       "Image(value=b'\\x89PNG\\r\\n\\x1a\\n\\x00\\x00\\x00\\rIHDR\\x00\\x00\\x01\\xb0\\x00\\x00\\x01\\xb0\\x08\\x06\\x00\\x00\\x00\\xc8N0*\\x…"
      ]
     },
     "metadata": {},
     "output_type": "display_data"
    },
    {
     "data": {
      "application/vnd.jupyter.widget-view+json": {
       "model_id": "3f64941fec954bdc9ec230da1c9fdefe",
       "version_major": 2,
       "version_minor": 0
      },
      "text/plain": [
       "VBox(children=(ToggleButtons(options=('Choose gate', 'bloch', 'unbloch', 'ry(-pi/4)', 'ry(pi/4)'), value='Choo…"
      ]
     },
     "metadata": {},
     "output_type": "display_data"
    },
    {
     "name": "stdout",
     "output_type": "stream",
     "text": [
      "\n",
      "Your quantum program so far:\n",
      "\n",
      "    q = QuantumRegister(2)\n",
      "    b = ClassicalRegister(2)\n",
      "    qc = QuantumCircuit(q,b)\n",
      "\n"
     ]
    }
   ],
   "source": [
    "initialize = [['h','0'],['h','1']]\n",
    "success_condition = {'ZI': -1.0,'IZ': -1.0}\n",
    "allowed_gates = {'0': {'bloch':0, 'ry(pi/4)': 0, 'ry(-pi/4)': 0}, '1': {'bloch':0, 'ry(pi/4)': 0, 'ry(-pi/4)': 0}, 'both': {'unbloch':0}}\n",
    "vi = [[], True, True]\n",
    "qubit_names = {'0':'q[0]', '1':'q[1]'}\n",
    "puzzle = hello_quantum.run_game(initialize, success_condition, allowed_gates, vi, qubit_names, mode='line')"
   ]
  },
  {
   "cell_type": "code",
   "execution_count": 63,
   "metadata": {},
   "outputs": [
    {
     "data": {
      "image/png": "[encoded data removed]",
      "text/plain": [
       "<Figure size 86.452x204.68 with 1 Axes>"
      ]
     },
     "execution_count": 63,
     "metadata": {},
     "output_type": "execute_result"
    }
   ],
   "source": [
    "puzzle.get_circuit().draw(output='mpl')"
   ]
  },
  {
   "cell_type": "markdown",
   "metadata": {},
   "source": [
    "## パズル 3\n",
    "\n",
    "### 導入\n",
    "これは、単純な`cx`、または`cz`といくつかの`h`で解くことができるパズルです。 残念ながら、`cx`も`h`もありません。そのため、`cz`と`ry`がどのように機能するかを理解する必要があります。\n",
    "\n",
    "\n",
    "###  練習問題\n",
    "* Z出力を一致させます。"
   ]
  },
  {
   "cell_type": "code",
   "execution_count": 64,
   "metadata": {},
   "outputs": [
    {
     "data": {
      "application/vnd.jupyter.widget-view+json": {
       "model_id": "a193065db6dc4b37ae689d6985a71c59",
       "version_major": 2,
       "version_minor": 0
      },
      "text/plain": [
       "Image(value=b'\\x89PNG\\r\\n\\x1a\\n\\x00\\x00\\x00\\rIHDR\\x00\\x00\\x01\\xb0\\x00\\x00\\x01\\xb0\\x08\\x06\\x00\\x00\\x00\\xc8N0*\\x…"
      ]
     },
     "metadata": {},
     "output_type": "display_data"
    },
    {
     "data": {
      "application/vnd.jupyter.widget-view+json": {
       "model_id": "e54509aca94e42f0b3604a5052dbec0e",
       "version_major": 2,
       "version_minor": 0
      },
      "text/plain": [
       "VBox(children=(ToggleButtons(options=('Choose gate', 'bloch', 'unbloch', 'cz', 'ry(-pi/4)', 'ry(pi/4)'), value…"
      ]
     },
     "metadata": {},
     "output_type": "display_data"
    },
    {
     "name": "stdout",
     "output_type": "stream",
     "text": [
      "\n",
      "Your quantum program so far:\n",
      "\n",
      "    q = QuantumRegister(2)\n",
      "    b = ClassicalRegister(2)\n",
      "    qc = QuantumCircuit(q,b)\n",
      "\n"
     ]
    }
   ],
   "source": [
    "initialize = [['h','0']]\n",
    "success_condition = {'ZZ': 1.0}\n",
    "allowed_gates = {'0': {}, '1': {'bloch':0, 'ry(pi/4)': 0, 'ry(-pi/4)': 0}, 'both': {'unbloch':0,'cz':0}}\n",
    "vi = [[], True, True]\n",
    "qubit_names = {'0':'q[0]', '1':'q[1]'}\n",
    "puzzle = hello_quantum.run_game(initialize, success_condition, allowed_gates, vi, qubit_names, mode='line')"
   ]
  },
  {
   "cell_type": "code",
   "execution_count": 65,
   "metadata": {},
   "outputs": [
    {
     "data": {
      "image/png": "[encoded data removed]",
      "text/plain": [
       "<Figure size 86.452x204.68 with 1 Axes>"
      ]
     },
     "execution_count": 65,
     "metadata": {},
     "output_type": "execute_result"
    }
   ],
   "source": [
    "puzzle.get_circuit().draw(output='mpl')"
   ]
  },
  {
   "cell_type": "markdown",
   "metadata": {},
   "source": [
    "## パズル 4\n",
    "\n",
    "### 導入\n",
    "`x`または`z`を使用すると、`ry`を効果的に*反射*して、反対方向に移動させることができます。\n",
    "\n",
    "###  練習問題\n",
    "* それぞれに1つの`ry（pi/4）`を付けて、Z出力を完全にオフにします。"
   ]
  },
  {
   "cell_type": "code",
   "execution_count": 66,
   "metadata": {},
   "outputs": [
    {
     "data": {
      "application/vnd.jupyter.widget-view+json": {
       "model_id": "867ab627e5b54864861251ba063a0dcc",
       "version_major": 2,
       "version_minor": 0
      },
      "text/plain": [
       "Image(value=b'\\x89PNG\\r\\n\\x1a\\n\\x00\\x00\\x00\\rIHDR\\x00\\x00\\x01\\xb0\\x00\\x00\\x01\\xb0\\x08\\x06\\x00\\x00\\x00\\xc8N0*\\x…"
      ]
     },
     "metadata": {},
     "output_type": "display_data"
    },
    {
     "data": {
      "application/vnd.jupyter.widget-view+json": {
       "model_id": "de933ce6a644464e9da27055dac9b01e",
       "version_major": 2,
       "version_minor": 0
      },
      "text/plain": [
       "VBox(children=(ToggleButtons(options=('Choose gate', 'bloch', 'unbloch', 'x', 'z', 'ry(pi/4)'), value='Choose …"
      ]
     },
     "metadata": {},
     "output_type": "display_data"
    },
    {
     "name": "stdout",
     "output_type": "stream",
     "text": [
      "\n",
      "Your quantum program so far:\n",
      "\n",
      "    q = QuantumRegister(2)\n",
      "    b = ClassicalRegister(2)\n",
      "    qc = QuantumCircuit(q,b)\n",
      "\n"
     ]
    }
   ],
   "source": [
    "initialize = [['ry(pi/4)','0'],['ry(pi/4)','1']]\n",
    "success_condition = {'ZI': 1.0,'IZ': 1.0}\n",
    "allowed_gates = {'0': {'bloch':0, 'z':0, 'ry(pi/4)': 1}, '1': {'bloch':0, 'x':0, 'ry(pi/4)': 1}, 'both': {'unbloch':0}}\n",
    "vi = [[], True, True]\n",
    "qubit_names = {'0':'q[0]', '1':'q[1]'}\n",
    "puzzle = hello_quantum.run_game(initialize, success_condition, allowed_gates, vi, qubit_names, mode='line')"
   ]
  },
  {
   "cell_type": "code",
   "execution_count": 67,
   "metadata": {},
   "outputs": [
    {
     "data": {
      "image/png": "[encoded data removed]",
      "text/plain": [
       "<Figure size 86.452x204.68 with 1 Axes>"
      ]
     },
     "execution_count": 67,
     "metadata": {},
     "output_type": "execute_result"
    }
   ],
   "source": [
    "puzzle.get_circuit().draw(output='mpl')"
   ]
  },
  {
   "cell_type": "markdown",
   "metadata": {},
   "source": [
    "## パズル 5\n",
    "\n",
    "### 導入\n",
    "`ry`を使用すると、`cz`や`cx`よりも興味深い条件付きゲートを作成できます。 たとえば、制御された`h`を作成できます。\n",
    "\n",
    "###  練習問題\n",
    "*  その量子ビットでちょうど1つの`ry（pi/4）`と`ry（-pi/4）`を使用して、q[1]のZ出力をオフにします。"
   ]
  },
  {
   "cell_type": "code",
   "execution_count": 68,
   "metadata": {},
   "outputs": [
    {
     "data": {
      "application/vnd.jupyter.widget-view+json": {
       "model_id": "9781a9e3eabb4cf38b8a8cc0f020b6da",
       "version_major": 2,
       "version_minor": 0
      },
      "text/plain": [
       "Image(value=b'\\x89PNG\\r\\n\\x1a\\n\\x00\\x00\\x00\\rIHDR\\x00\\x00\\x01\\xb0\\x00\\x00\\x01\\xb0\\x08\\x06\\x00\\x00\\x00\\xc8N0*\\x…"
      ]
     },
     "metadata": {},
     "output_type": "display_data"
    },
    {
     "data": {
      "application/vnd.jupyter.widget-view+json": {
       "model_id": "daec6126fd2b41f79cdaec3f8a0df05a",
       "version_major": 2,
       "version_minor": 0
      },
      "text/plain": [
       "VBox(children=(ToggleButtons(options=('Choose gate', 'bloch', 'unbloch', 'cx', 'ry(-pi/4)', 'ry(pi/4)'), value…"
      ]
     },
     "metadata": {},
     "output_type": "display_data"
    },
    {
     "name": "stdout",
     "output_type": "stream",
     "text": [
      "\n",
      "Your quantum program so far:\n",
      "\n",
      "    q = QuantumRegister(2)\n",
      "    b = ClassicalRegister(2)\n",
      "    qc = QuantumCircuit(q,b)\n",
      "\n"
     ]
    }
   ],
   "source": [
    "initialize = [['x','0'],['h','1']]\n",
    "success_condition = {'IZ': 1.0}\n",
    "allowed_gates = {'0': {}, '1': {'bloch':0, 'cx':0, 'ry(pi/4)': 1, 'ry(-pi/4)': 1}, 'both': {'unbloch':0}}\n",
    "vi = [[], True, True]\n",
    "qubit_names = {'0':'q[0]', '1':'q[1]'}\n",
    "puzzle = hello_quantum.run_game(initialize, success_condition, allowed_gates, vi, qubit_names, mode='line')"
   ]
  },
  {
   "cell_type": "code",
   "execution_count": 69,
   "metadata": {},
   "outputs": [
    {
     "data": {
      "image/png": "[encoded data removed]",
      "text/plain": [
       "<Figure size 86.452x204.68 with 1 Axes>"
      ]
     },
     "execution_count": 69,
     "metadata": {},
     "output_type": "execute_result"
    }
   ],
   "source": [
    "puzzle.get_circuit().draw(output='mpl')"
   ]
  },
  {
   "cell_type": "markdown",
   "metadata": {},
   "source": [
    "# ボーナスレベル: Sandbox\n",
    "これで、完全に強力な量子プログラムを構築するのに十分な基本的な量子ゲートを理解できました。 最終レベルでこれを味わうことができます。 しかしその前に、ここにいくつかのボーナスレベルがあります。\n",
    "\n",
    "まず、新しいスキルを試すためのSandboxです。すべてのゲートが有効になっている2つのグリッドなので、遊んでみることができます。\n",
    "\n",
    "これは、クリフォード以外のゲートを支援するための、ラインベースの視覚化を備えたものです。"
   ]
  },
  {
   "cell_type": "code",
   "execution_count": 70,
   "metadata": {},
   "outputs": [
    {
     "data": {
      "application/vnd.jupyter.widget-view+json": {
       "model_id": "80265af41a4d455f8dce79c51d26c72e",
       "version_major": 2,
       "version_minor": 0
      },
      "text/plain": [
       "Image(value=b'\\x89PNG\\r\\n\\x1a\\n\\x00\\x00\\x00\\rIHDR\\x00\\x00\\x01\\xb0\\x00\\x00\\x01\\xb0\\x08\\x06\\x00\\x00\\x00\\xc8N0*\\x…"
      ]
     },
     "metadata": {},
     "output_type": "display_data"
    },
    {
     "data": {
      "application/vnd.jupyter.widget-view+json": {
       "model_id": "06894f0cb1fc4aefb78739816af81bf7",
       "version_major": 2,
       "version_minor": 0
      },
      "text/plain": [
       "VBox(children=(ToggleButtons(options=('Choose gate', 'bloch', 'unbloch', 'x', 'z', 'h', 'cz', 'cx', 'ry(-pi/4)…"
      ]
     },
     "metadata": {},
     "output_type": "display_data"
    },
    {
     "name": "stdout",
     "output_type": "stream",
     "text": [
      "\n",
      "Your quantum program so far:\n",
      "\n",
      "    q = QuantumRegister(2)\n",
      "    b = ClassicalRegister(2)\n",
      "    qc = QuantumCircuit(q,b)\n",
      "\n"
     ]
    }
   ],
   "source": [
    "initialize = []\n",
    "success_condition = {'IZ': 1.0,'IX': 1.0}\n",
    "allowed_gates = {'0': {'bloch':0, 'x':0, 'z':0, 'h':0, 'cx':0, 'ry(pi/4)': 0, 'ry(-pi/4)': 0}, '1': {'bloch':0, 'x':0, 'z':0, 'h':0, 'cx':0, 'ry(pi/4)': 0, 'ry(-pi/4)': 0}, 'both': {'cz':0, 'unbloch':0}}\n",
    "vi = [[], True, True]\n",
    "qubit_names = {'0':'q[0]', '1':'q[1]'}\n",
    "line_sandbox = hello_quantum.run_game(initialize, success_condition, allowed_gates, vi, qubit_names, mode='line')"
   ]
  },
  {
   "cell_type": "code",
   "execution_count": 71,
   "metadata": {},
   "outputs": [
    {
     "data": {
      "image/png": "[encoded data removed]",
      "text/plain": [
       "<Figure size 86.452x204.68 with 1 Axes>"
      ]
     },
     "execution_count": 71,
     "metadata": {},
     "output_type": "execute_result"
    }
   ],
   "source": [
    "line_sandbox.get_circuit().draw(output='mpl')"
   ]
  },
  {
   "cell_type": "markdown",
   "metadata": {},
   "source": [
    "これは、y測定の出力を表す中央の線のあるグリッドです。 これを使用して、いくつかの新しい非クリフォードゲートを試すこともできます：`rx（pi/4)`および`rx（-pi /4）`。"
   ]
  },
  {
   "cell_type": "code",
   "execution_count": 72,
   "metadata": {},
   "outputs": [
    {
     "data": {
      "application/vnd.jupyter.widget-view+json": {
       "model_id": "a526934744454a258f03dd5fb9875c3a",
       "version_major": 2,
       "version_minor": 0
      },
      "text/plain": [
       "Image(value=b'\\x89PNG\\r\\n\\x1a\\n\\x00\\x00\\x00\\rIHDR\\x00\\x00\\x01\\xb0\\x00\\x00\\x01\\xb0\\x08\\x06\\x00\\x00\\x00\\xc8N0*\\x…"
      ]
     },
     "metadata": {},
     "output_type": "display_data"
    },
    {
     "data": {
      "application/vnd.jupyter.widget-view+json": {
       "model_id": "d3c49dad78c5445ea1e7907984ffa274",
       "version_major": 2,
       "version_minor": 0
      },
      "text/plain": [
       "VBox(children=(ToggleButtons(options=('Choose gate', 'x', 'z', 'h', 'cz', 'cx', 'ry(-pi/4)', 'rx(pi/4)', 'rx(-…"
      ]
     },
     "metadata": {},
     "output_type": "display_data"
    },
    {
     "name": "stdout",
     "output_type": "stream",
     "text": [
      "\n",
      "Your quantum program so far:\n",
      "\n",
      "    q = QuantumRegister(2)\n",
      "    b = ClassicalRegister(2)\n",
      "    qc = QuantumCircuit(q,b)\n",
      "\n"
     ]
    }
   ],
   "source": [
    "initialize = []\n",
    "success_condition = {'IZ': 1.0,'IX': 1.0}\n",
    "allowed_gates = {'0': {'x':0, 'z':0, 'h':0, 'cx':0, 'ry(pi/4)': 0, 'rx(pi/4)': 0, 'ry(-pi/4)': 0, 'rx(-pi/4)': 0}, '1': {'x':0, 'z':0, 'h':0, 'cx':0, 'ry(pi/4)': 0, 'rx(pi/4)': 0, 'ry(-pi/4)': 0, 'rx(-pi/4)': 0}, 'both': {'cz':0}}\n",
    "vi = [[], True, True]\n",
    "qubit_names = {'0':'q[0]', '1':'q[1]'}\n",
    "y_sandbox = hello_quantum.run_game(initialize, success_condition, allowed_gates, vi, qubit_names, mode='y')"
   ]
  },
  {
   "cell_type": "code",
   "execution_count": 73,
   "metadata": {},
   "outputs": [
    {
     "data": {
      "image/png": "[encoded data removed]",
      "text/plain": [
       "<Figure size 86.452x204.68 with 1 Axes>"
      ]
     },
     "execution_count": 73,
     "metadata": {},
     "output_type": "execute_result"
    }
   ],
   "source": [
    "y_sandbox.get_circuit().draw(output='mpl')"
   ]
  },
  {
   "cell_type": "markdown",
   "metadata": {},
   "source": [
    "# ボーナスレベル:自分でパズルをつくってみましょう。\n",
    "\n",
    "いくつかのパズルを提供するだけでなく、独自のパズルを作成して共有する機会も提供しました。 Quantum Experienceを使用すると、自分のパズルでたくさんの自分のノートブックを簡単に作成できます。\n",
    "\n",
    "このページの[New Notebookのボタン・参照ページ](https://quantum-computing.ibm.com/jupyter)をクリックして開始します。 次に、インポートのリストに次の行を追加します。それから、importのリストに以下の線を加えてください。\n",
    "```\n",
    "from qiskit_textbook.games import hello_quantum\n",
    "```\n",
    "これにより、パズルを作成するために必要なツールが提供されます。 具体的には、次のフォームを使用して`run_game関数`への独自の呼び出しを作成する必要があります。\n",
    "\n",
    "```\n",
    "puzzle = hello_quantum.run_game(initialize, success_condition, allowed_gates, vi, qubit_names, mode=None)\n",
    "```\n",
    "\n",
    "これのすべての要素を以下に説明します\n",
    "\n",
    "`puzzle`\n",
    " * これは、作成したパズルを含むオブジェクトです。\n",
    " * プレイヤーが作成した量子回路には、`puzzle.get_circuit（）`を使用してアクセスできます。\n",
    "\n",
    "`initialize`\n",
    "* 初期状態を準備するために、パズルが始まる前に適用されたゲートのリスト。\n",
    "* これが空の場合、キュービットのデフォルトの初期状態が使用されます（Z出力は確実に`0`になります）。\n",
    "* サポートされている単一量子ビットゲート（量子ビット「0」または「1」に適用）は、`x`、`y`、`z`、`h`、および`ry（pi/ 4）`です。\n",
    "* サポートされている2つの量子ビットゲートは`cz`と`cx`です。 これらには、ターゲット量子ビットのみを指定します。\n",
    "* 例： `initialize = [['x'、 '0']、['cx'、 '1']]`\n",
    "\n",
    "`success_condition`\n",
    "* パズルが一致を宣言するために取得する必要のあるパウリの観測値。\n",
    "* 次の形式で、キーが円の名前である辞書として表されます。\n",
    "* `ZI`は左側の量子ビットのZ出力を示し、`XI`はそのX出力を示します。\n",
    "* `IZ`と`IX`も同様に、右側のキュービットの出力です。\n",
    "* `ZX`は、左側のキュービットのZ出力と右側のX出力の間の相関関係の円を指します。\n",
    "* 上記以外にも様々です。\n",
    "* 辞書の値は、パズルを完成させるためにこれらの円が保持しなければならない値です。\n",
    "  * 黒の場合は1.0\n",
    "  * 白の場合は1.0\n",
    "  * 灰色の場合は0.0\n",
    "* 上記以外にも様々です。\n",
    "* 条件に含めたいサークルのみをリストする必要があります。\n",
    "* 例：`success_condition = {'IZ'：1.0}` \n",
    "\n",
    "`allowed_gates`\n",
    "* 量子ビットごとに、このパズルで許可される操作を指定します。\n",
    "* 量子ビットを指定する必要のない操作（`cz`および`unbloch`）の場合は、量子ビット`0`または`1`ではなく「両方」に操作を割り当てます。\n",
    "* ゲートは、値が整数の辞書として表されます。\n",
    "  * 整数がゼロ以外の場合、パズルを正常に解くためにゲートを使用する必要がある正確な回数を指定します。 \n",
    "  * ゼロの場合、プレイヤーはゲートを何度でも使用できます。\n",
    "* 例： `allowed_gates = {'0'：{'h'：0}、 '1'：{'h'：0}、 'both'：{'cz'：1}}`\n",
    "\n",
    "`vi`\n",
    "* 3つの要素リストとしてのいくつかの視覚化情報： `vi = [hidden、qubit、corr]`  これらは以下を指定します：\n",
    "* 非表示：非表示の量子ビット（両方が表示されている場合は空のリスト）。\n",
    "* 量子ビット：各量子ビットに両方の円が表示されているかどうか。（量子ビットパズルにはTrueを使用し、ビットパズルにはFalseを使用します）。\n",
    "* corr：相関円（中央の4つ）が表示されているかどうか。\n",
    "例： `vi = [[]、True、True]`\n",
    "\n",
    "`qubit_names`\n",
    "* 2つの量子ビットは常に内部で`0`および`1`と呼ばれます。 ただし、プレーヤーの場合は、別の名前を表示できます。\n",
    "* 例： `qubit_names = {'0'： 'qubit 0'、 '1'： 'qubit 1'}`\n",
    "\n",
    "`mode`\n",
    "*  オプションの引数。これにより、Y出力行を含めるか、行ベースの視覚化を使用するかを選択できます。\n",
    "* `mode = None`を使用するか、mode引数をまったく含めない場合、デフォルトのモードになります。\n",
    "* `mode = 'y'`には、Y個の出力行が含まれます。\n",
    "* `mode = 'line'`は、線ベースの視覚化を提供します。\n",
    "\n",
    "ここに示した例で定義されているパズルは、次のセルで実行できます。"
   ]
  },
  {
   "cell_type": "code",
   "execution_count": 74,
   "metadata": {},
   "outputs": [
    {
     "data": {
      "application/vnd.jupyter.widget-view+json": {
       "model_id": "5f524e64935641a19a869e3cd4024aba",
       "version_major": 2,
       "version_minor": 0
      },
      "text/plain": [
       "Image(value=b'\\x89PNG\\r\\n\\x1a\\n\\x00\\x00\\x00\\rIHDR\\x00\\x00\\x01\\xb0\\x00\\x00\\x01\\xb0\\x08\\x06\\x00\\x00\\x00\\xc8N0*\\x…"
      ]
     },
     "metadata": {},
     "output_type": "display_data"
    },
    {
     "data": {
      "application/vnd.jupyter.widget-view+json": {
       "model_id": "07d89d86cd144be8bfac6cd03ff99a9f",
       "version_major": 2,
       "version_minor": 0
      },
      "text/plain": [
       "VBox(children=(ToggleButtons(options=('Choose gate', 'h', 'cz'), value='Choose gate'), ToggleButtons(options=(…"
      ]
     },
     "metadata": {},
     "output_type": "display_data"
    }
   ],
   "source": [
    "initialize = [['x', '0'],['cx', '1']]\n",
    "success_condition = {'IZ': 1.0}\n",
    "allowed_gates = {'0': {'h':0}, '1': {'h':0}, 'both': {'cz': 1}}\n",
    "vi = [[], True, True]\n",
    "qubit_names = {'0':'qubit 0', '1':'qubit 1'}\n",
    "mode = None\n",
    "puzzle = hello_quantum.run_game(initialize, success_condition, allowed_gates, vi, qubit_names, mode=mode)"
   ]
  },
  {
   "cell_type": "markdown",
   "metadata": {},
   "source": [
    "プレイヤーに何を目指すべきかを伝えることを忘れないでください。 このノートブックのすべてのパズルについて、ターゲットの状態がテキストブックで記述されていました。 ただし、代わりに、次の方法で、プレーヤーへの短いメッセージを含む、ターゲット状態のイメージを作成できます。 これも、上記のパラメータの例を使用しています。"
   ]
  },
  {
   "cell_type": "code",
   "execution_count": 75,
   "metadata": {},
   "outputs": [
    {
     "data": {
      "image/png": "[encoded data removed]",
      "text/plain": [
       "<Figure size 432x432 with 1 Axes>"
      ]
     },
     "metadata": {},
     "output_type": "display_data"
    }
   ],
   "source": [
    "message = '\\nRules:\\n    Use exactly one cz gate.'\n",
    "grid = hello_quantum.pauli_grid(mode=mode)\n",
    "grid.update_grid(rho=success_condition, hidden=vi[0], qubit=vi[1], corr=vi[2], message=message)"
   ]
  },
  {
   "cell_type": "markdown",
   "metadata": {},
   "source": [
    "一致させる必要のある円のみが表示されていることに注意してください。\n",
    "\n",
    "パズルを他の人と共有するには、作成したノートブックを保存して他の人に送信するだけです。 このページの「インポート」ボタンを使用して、[Quantum  Experience](https://quantum-computing.ibm.com/jupyter)でランニングを開くことでプレイできます。"
   ]
  },
  {
   "cell_type": "markdown",
   "metadata": {},
   "source": [
    "# レベル 5: 量子変数の一意性の証明"
   ]
  },
  {
   "cell_type": "markdown",
   "metadata": {},
   "source": [
    "## 古典変数を用いたベルのテスト\n",
    "ここでは、量子変数（量子ビットに基づく）が標準のもの（ビットに基づく）とどのように異なるかを調査します。\n",
    "\n",
    "これを行うには、`A`と`B`と呼ぶ変数のペアを作成します。これらが何であるか、またはどのように初期化されるかについては、条件を設定しません。 したがって、多くの可能性があります。\n",
    "\n",
    "* それらは、次のような任意の種類の変数である可能性があります。\n",
    "  * 整数\n",
    "  * リスト\n",
    "  * 辞書\n",
    "  * ...\n",
    "  \n",
    "* それらは、次のようなあらゆる種類のプロセスによって初期化できます。\n",
    "  * 空のまま\n",
    "  * 与えられた値のセットで満たされます\n",
    "  * 与えられたランダムプロセスによって生成されます\n",
    "    * AとBに独立して適用されます\n",
    "    * AとBに一緒に適用され、それらのランダム性間の相関を可能にします\n",
    "\n",
    "変数がランダムプロセスによって初期化される場合、プログラムを実行するたびに異なる値を持つことを意味します。 これはまったく問題ありません。 従う必要がある唯一のルールは、ランダム性を生成するプロセスがすべての実行で同じであるということです。\n",
    "\n",
    "以下の関数を使用して、これらの変数を設定します。 これには現在、部分的に相関するランダム浮動小数点数として定義された`A`と`B`があります。 しかし、あなたはそれをあなたが望むものに変えることができます。"
   ]
  },
  {
   "cell_type": "code",
   "execution_count": 76,
   "metadata": {},
   "outputs": [],
   "source": [
    "import random\n",
    "def setup_variables ():\n",
    "    \n",
    "    ### Replace this section with anything you want ###\n",
    "    \n",
    "    r = random.random()\n",
    "    \n",
    "    A = r*(2/3)\n",
    "    B = r*(1/3)\n",
    "    \n",
    "    ### End of section ###\n",
    "    \n",
    "    return A, B"
   ]
  },
  {
   "cell_type": "markdown",
   "metadata": {},
   "source": [
    "次の仕事は、ハッシュ関数を定義することです。 これは、変数の1つを入力として受け取り、ビット値を出力として与える必要があります。\n",
    "\n",
    "この関数は、2つの異なるタイプのハッシュを実行できる必要もあります。 したがって、変数をかみ砕いて、さまざまな方法で少し吐き出すことができる必要があります。 したがって、使用するハッシュの種類も関数に指示する必要があります。\n",
    "\n",
    "プログラムの残りの部分と一貫性を保つために、2つの可能なハッシュタイプは`H`および`V`と呼ばれる必要があります。 また、出力は`0`または`1`　のいずれかの単一値ビット文字列の形式である必要があります。\n",
    "\n",
    "与えられた（かなり恣意的な）例では、ビットは`A`と`B`を特定の値と比較することによって作成されました。 その値を下回る場合、出力は`1`であり、それ以外の場合、出力は`0`です。 ハッシュのタイプによって、使用される値が決まります。"
   ]
  },
  {
   "cell_type": "code",
   "execution_count": 77,
   "metadata": {},
   "outputs": [],
   "source": [
    "def hash2bit ( variable, hash ):\n",
    "    \n",
    "    ### Replace this section with anything you want ###\n",
    "    \n",
    "    if hash=='V':\n",
    "        bit = (variable<0.5)\n",
    "    elif hash=='H':\n",
    "        bit = (variable<0.25)\n",
    "        \n",
    "    bit = str(int(bit)) # Turn True or False into '1' and '0'\n",
    "    \n",
    "    ### End of section ###\n",
    "        \n",
    "    return bit"
   ]
  },
  {
   "cell_type": "markdown",
   "metadata": {},
   "source": [
    "これらが定義されたら、計算したい4つの量があります：`P['HH']`、`P['HV']`、`P['VH']`、および`P['VV']`\n",
    "\n",
    "例として`P['HV']`に焦点を当てましょう。 これは、`A`の`H`タイプのハッシュから派生したビット値が`B`の`V`タイプのハッシュから派生したビット値と異なる確率です。この確率は、何度もサンプリングし、サンプルの割合を決定することによって推定します。 対応するビット値が一致しません。\n",
    "\n",
    "他の確率も同様に定義されます。`P['HH']`は`A`と`B`の両方で `H`タイプのハッシュを比較し、`P['VV']`は両方の`V`タイプのハッシュを比較し、`P['VH']`は`V`を比較します。`H`タイプの`A`のタイプハッシュは`B`にあります。\n",
    "\n",
    "これらの確率は、辞書内のPのすべての値を返す次の関数で計算されます。 パラメータショットは、使用するサンプルの数です。"
   ]
  },
  {
   "cell_type": "code",
   "execution_count": 78,
   "metadata": {},
   "outputs": [],
   "source": [
    "shots = 8192\n",
    "def calculate_P ( ):\n",
    "    \n",
    "    P = {}\n",
    "    for hashes in ['VV','VH','HV','HH']:\n",
    "        \n",
    "        # calculate each P[hashes] by sampling over `shots` samples\n",
    "        P[hashes] = 0\n",
    "        for shot in range(shots):\n",
    "\n",
    "            A, B = setup_variables()\n",
    "\n",
    "            a = hash2bit ( A, hashes[0] ) # hash type for variable `A` is the first character of `hashes`\n",
    "            b = hash2bit ( B, hashes[1] ) # hash type for variable `B` is the second character of `hashes`\n",
    "\n",
    "            P[hashes] += (a!=b) / shots\n",
    " \n",
    "    return P"
   ]
  },
  {
   "cell_type": "markdown",
   "metadata": {},
   "source": [
    "次に、変数を設定してハッシュするために選択したメソッドのこれらの値を実際に計算してみましょう。"
   ]
  },
  {
   "cell_type": "code",
   "execution_count": 79,
   "metadata": {},
   "outputs": [
    {
     "name": "stdout",
     "output_type": "stream",
     "text": [
      "{'VV': 0.2569580078125, 'VH': 0.0, 'HV': 0.6253662109375, 'HH': 0.376220703125}\n"
     ]
    }
   ],
   "source": [
    "P = calculate_P()\n",
    "print(P)"
   ]
  },
  {
   "cell_type": "markdown",
   "metadata": {},
   "source": [
    "これらの値は、有限数のショットしか使用しないため、実行ごとにわずかに異なります。 それらを大幅に変更するには、変数の開始方法やハッシュ関数の定義方法を変更する必要があります。\n",
    "\n",
    "これらの関数がどのように定義されていても、Pの値が常に従うという特定の制限があります。\n",
    "\n",
    "たとえば、`P['HV']`、`P['VH']`、および`P['VV']`がすべて`0.0`である場合を考えてみます。 これが可能な唯一の方法は、`P['HH']`も`0.0`にすることです。\n",
    "\n",
    "理由を理解するために、`P['HV'] = 0.0`は、`hash2bit（A、H）`と`hash2bit（B、V）`がどの実行でも決して異ならなかったことを示していることに注意することから始めます。 つまり、これは常にそれらが等しいことを期待できることを意味します。\n",
    "\n",
    "    hash2bit(A, H) = hash2bit(B, V)        (1)\n",
    "    \n",
    "`P['VV'] = 0.0`および`P['VH'] = 0.0`から、同様に取得できます。   \n",
    "\n",
    "    hash2bit(A, V) = hash2bit(B, V)        (2)\n",
    "    \n",
    "    hash2bit(A, V) = hash2bit(B, H)        (3)\n",
    "    \n",
    "(1)と(2)を組み合わせると、\n",
    "\n",
    "    hash2bit(A, H) = hash2bit(A, V)        (4)\n",
    "    \n",
    "これを（3）と組み合わせると、\n",
    "\n",
    "    hash2bit(A, H) = hash2bit(B, H)        (5)\n",
    "\n",
    "そして、これらの値が常に等しい場合、それらが異なる実行は表示されません。 これはまさに私たちが証明しようとしたものです： `P['HH'] = 0.0`\n",
    "\n",
    "より一般的には、`P['HV']`、 `P['VH']`、および`P['VV']`の値を使用して、`P['HH']`の上限を設定できます。 [CHSH不等式](https://en.wikipedia.org/wiki/CHSH_inequality)を適応させることにより、次のことがわかります。\n",
    "\n",
    "$\\,\\,\\,\\,\\,\\,\\,$ `P['HH']` $\\, \\leq \\,$ `P['HV'] + P['VH'] + P['VV']`\n",
    "\n",
    "これは、`P['HH']`の特別なプロパティだけではありません。 他のすべての確率にも当てはまります。これらの確率のそれぞれは、他の確率の合計より大きくすることはできません。\n",
    "\n",
    "この論理が成り立つかどうかをテストするために、確率がこれらの不等式にどれだけよく従うかを確認します。 `P`値が正確ではなく、限られた数のサンプルを使用して推定されているため、わずかな違反が発生する可能性があることに注意してください。"
   ]
  },
  {
   "cell_type": "code",
   "execution_count": 80,
   "metadata": {},
   "outputs": [],
   "source": [
    "def bell_test (P):\n",
    "    \n",
    "    sum_P = sum(P.values())\n",
    "    for hashes in P:\n",
    "        \n",
    "        bound = sum_P - P[hashes]\n",
    "        \n",
    "        print(\"The upper bound for P['\"+hashes+\"'] is \"+str(bound))\n",
    "        print(\"The value of P['\"+hashes+\"'] is \"+str(P[hashes]))\n",
    "        if P[hashes]<=bound:\n",
    "            print(\"The upper bound is obeyed :)\\n\")\n",
    "        else:\n",
    "            if P[hashes]-bound < 0.1:\n",
    "                print(\"This seems to have gone over the upper bound, but only by a little bit :S\\nProbably just rounding errors or statistical noise.\\n\")\n",
    "            else:\n",
    "                print(\"!!!!! This has gone well over the upper bound :O !!!!!\\n\")"
   ]
  },
  {
   "cell_type": "code",
   "execution_count": 81,
   "metadata": {},
   "outputs": [
    {
     "name": "stdout",
     "output_type": "stream",
     "text": [
      "The upper bound for P['VV'] is 1.0015869140625\n",
      "The value of P['VV'] is 0.2569580078125\n",
      "The upper bound is obeyed :)\n",
      "\n",
      "The upper bound for P['VH'] is 1.258544921875\n",
      "The value of P['VH'] is 0.0\n",
      "The upper bound is obeyed :)\n",
      "\n",
      "The upper bound for P['HV'] is 0.6331787109375\n",
      "The value of P['HV'] is 0.6253662109375\n",
      "The upper bound is obeyed :)\n",
      "\n",
      "The upper bound for P['HH'] is 0.88232421875\n",
      "The value of P['HH'] is 0.376220703125\n",
      "The upper bound is obeyed :)\n",
      "\n"
     ]
    }
   ],
   "source": [
    "bell_test(P)"
   ]
  },
  {
   "cell_type": "markdown",
   "metadata": {},
   "source": [
    "このノートブックで提供されている初期化関数とハッシュ関数を使用すると、`P（'HV'）`の値は上界とほぼ同じになります。 数値は統計的に推定されており、統計的なノイズのためにわずかに概算であるため、少し上を行くことさえあるかもしれません。 しかし、それが限界を大幅に超えることは決してありません。\n",
    "\n",
    "あなたが私を信じていないなら、あなた自身でそれを試してみてください。 変数の初期化方法とハッシュの計算方法を変更し、境界の1つが大幅に破られるようにします。"
   ]
  },
  {
   "cell_type": "markdown",
   "metadata": {},
   "source": [
    "## 量子変数のベルの実験\n",
    "ここで、変数AとBが量子変数になることを除いて、同じことをもう一度やり直します。 具体的には、それらは最も単純な種類の量子変数、つまり量子ビットになります。"
   ]
  },
  {
   "cell_type": "markdown",
   "metadata": {},
   "source": [
    "量子プログラムを作成するときは、使用する前にキュービットとビットを設定する必要があります。 これは、以下の関数によって実行されます。 2ビットのレジスタを定義し、それらを変数`A`および`B`として割り当てます。次に、出力を受信するために2ビットのレジスタを設定し、それらを`a`および`b`として割り当てます。\n",
    "\n",
    "最後に、これらのレジスタを使用して空の量子プログラムを設定します。 これは`qc`と呼ばれます。"
   ]
  },
  {
   "cell_type": "code",
   "execution_count": 82,
   "metadata": {},
   "outputs": [],
   "source": [
    "from qiskit import QuantumRegister, ClassicalRegister, QuantumCircuit\n",
    "\n",
    "def initialize_program ():\n",
    "    \n",
    "    qubit = QuantumRegister(2)\n",
    "    A = qubit[0]\n",
    "    B = qubit[1]\n",
    "    \n",
    "    bit = ClassicalRegister(2)\n",
    "    a = bit[0]\n",
    "    b = bit[1]\n",
    "    \n",
    "    qc = QuantumCircuit(qubit, bit)\n",
    "    \n",
    "    return A, B, a, b, qc"
   ]
  },
  {
   "cell_type": "markdown",
   "metadata": {},
   "source": [
    "変数を設定するための量子プログラムを書き始める前に、プログラムの最後に何が必要かを考えてみましょう。 ここで、量子ビットをビットに変換するさまざまなハッシュ関数を定義します。\n",
    "\n",
    "量子ビットからビットを抽出する最も簡単な方法は、`measure`ゲートを使用することです。 これは、これまで使用してきた視覚化における量子ビットのZ出力に対応します。 これを`V`タイプのハッシュとして使用しましょう。\n",
    "\n",
    "X出力に対応する出力の場合、直接アクセスする手段はありません。 ただし、最初に`h`を実行してトップ出力とZ出力を交換し、次に`measure`ゲートを使用することで、間接的に行うことができます。 これがHタイプのハッシュになります。\n",
    "\n",
    "この関数には、従来の関数よりも多くの入力があることに注意してください。 結果を書き込む`ビット`と、ゲートを書き込む量子プログラム`qc`を指定する必要があります。"
   ]
  },
  {
   "cell_type": "code",
   "execution_count": 83,
   "metadata": {},
   "outputs": [],
   "source": [
    "def hash2bit  ( variable, hash, bit, qc ):\n",
    "    \n",
    "    if hash=='H':\n",
    "        qc.h( variable )\n",
    "        \n",
    "    qc.measure( variable, bit )"
   ]
  },
  {
   "cell_type": "markdown",
   "metadata": {},
   "source": [
    "次に、変数AとBを設定します。このプログラムを作成するには、以下のグリッドを使用できます。 提案された演習に従うか、好きなことをすることができます。 準備ができたら、次に進みます。 `setup_variables（）関数`を含むセルは、グリッドで作成したプログラムを使用します。\n",
    "\n",
    "選択するということは、確率`P['HH']`、`P['HV']`、`P['VH']`、および`P['VV']`がグリッド上の円に明示的に対応することを意味することに注意してください。 たとえば、一番上の円は、2つのX出力が一致しない可能性がどの程度あるかを示しています。 これが白の場合、`P['HH'] = 1`、黒の場合、`P['HH'] = 0`です。\n",
    "\n",
    "### 練習問題\n",
    "* 両方の量子ビットのX出力が一致しない可能性が高く、他のすべての出力の組み合わせが一致する可能性が高くなるようにします。"
   ]
  },
  {
   "cell_type": "code",
   "execution_count": 84,
   "metadata": {
    "scrolled": false
   },
   "outputs": [
    {
     "data": {
      "application/vnd.jupyter.widget-view+json": {
       "model_id": "cf35bb80e1bb4636ba9e1dd3200f2b97",
       "version_major": 2,
       "version_minor": 0
      },
      "text/plain": [
       "Image(value=b'\\x89PNG\\r\\n\\x1a\\n\\x00\\x00\\x00\\rIHDR\\x00\\x00\\x01\\xb0\\x00\\x00\\x01\\xb0\\x08\\x06\\x00\\x00\\x00\\xc8N0*\\x…"
      ]
     },
     "metadata": {},
     "output_type": "display_data"
    },
    {
     "data": {
      "application/vnd.jupyter.widget-view+json": {
       "model_id": "0bddcd4e39634499b7df798e76c7ccff",
       "version_major": 2,
       "version_minor": 0
      },
      "text/plain": [
       "VBox(children=(ToggleButtons(options=('Choose gate', 'bloch', 'unbloch', 'x', 'z', 'h', 'cz', 'cx', 'ry(-pi/4)…"
      ]
     },
     "metadata": {},
     "output_type": "display_data"
    }
   ],
   "source": [
    "initialize = []\n",
    "success_condition = {'ZZ':+0.7071,'ZX':+0.7071,'XZ':+0.7071,'XX':-0.7071}\n",
    "allowed_gates = {'0': {'bloch':0, 'x':0, 'z':0, 'h':0, 'cx':0, 'ry(pi/4)': 0, 'ry(-pi/4)': 0}, '1': {'bloch':0, 'x':0, 'z':0, 'h':0, 'cx':0, 'ry(pi/4)': 0, 'ry(-pi/4)': 0}, 'both': {'cz':0, 'unbloch':0}}\n",
    "vi = [[], True, True]\n",
    "qubit_names = {'0':'A', '1':'B'}\n",
    "puzzle = hello_quantum.run_game(initialize, success_condition, allowed_gates, vi, qubit_names, mode='line')"
   ]
  },
  {
   "cell_type": "markdown",
   "metadata": {},
   "source": [
    "ここで、上記のプログラムを使用して量子変数を設定します。"
   ]
  },
  {
   "cell_type": "code",
   "execution_count": 85,
   "metadata": {},
   "outputs": [],
   "source": [
    "import numpy as np\n",
    "def setup_variables ( A, B, qc ):\n",
    "    \n",
    "    for line in puzzle.program:\n",
    "        eval(line)"
   ]
  },
  {
   "cell_type": "markdown",
   "metadata": {},
   "source": [
    "`P`の値は、以下の関数で計算されます。 これでは、このノートブックの他の部分のパズルと同様に、Qiskitを使用してジョブを実行し、可能な出力をそれぞれ提供したサンプルの数を示す結果を取得することでこれを実行します。 出力はビット文字列、`文字列`として提供され、Qiskitは右から左に番号を付けます。 これは、`bit[0]`に対応するaの値が右から1番目であることを意味します。\n",
    "\n",
    "    a = string[-1]\n",
    "\n",
    "`b`の値は、右から2番目のすぐ隣にあります。\n",
    "\n",
    "    b = string[-2]\n",
    "\n",
    "\n",
    "このビット文字列のサンプル数は、結果の辞書型`stats`によって`stats [string]`として提供されます。"
   ]
  },
  {
   "cell_type": "code",
   "execution_count": 86,
   "metadata": {},
   "outputs": [],
   "source": [
    "shots = 8192\n",
    "from qiskit import execute\n",
    "\n",
    "def calculate_P ( backend ):\n",
    "    \n",
    "    P = {}\n",
    "    program = {}\n",
    "    for hashes in ['VV','VH','HV','HH']:\n",
    "\n",
    "        A, B, a, b, program[hashes] = initialize_program ()\n",
    "\n",
    "        setup_variables( A, B, program[hashes] )\n",
    "\n",
    "        hash2bit ( A, hashes[0], a, program[hashes])\n",
    "        hash2bit ( B, hashes[1], b, program[hashes])\n",
    "            \n",
    "    # submit jobs\n",
    "    job = execute( list(program.values()), backend, shots=shots )\n",
    "\n",
    "    # get the results\n",
    "    for hashes in ['VV','VH','HV','HH']:\n",
    "        stats = job.result().get_counts(program[hashes])\n",
    "        \n",
    "        P[hashes] = 0\n",
    "        for string in stats.keys():\n",
    "            a = string[-1]\n",
    "            b = string[-2]\n",
    "            \n",
    "            if a!=b:\n",
    "                P[hashes] += stats[string] / shots\n",
    "\n",
    "    return P"
   ]
  },
  {
   "cell_type": "markdown",
   "metadata": {},
   "source": [
    "次に、実際に使用するデバイスを選択してセットアップします。 デフォルトでは、シミュレーターを使用します。 代わりに、バックエンドを適宜変更することで、実際のクラウドベースのデバイスを使用できます。"
   ]
  },
  {
   "cell_type": "code",
   "execution_count": 87,
   "metadata": {},
   "outputs": [],
   "source": [
    "from qiskit import Aer\n",
    "device = 'qasm_simulator'\n",
    "backend = Aer.get_backend(device)"
   ]
  },
  {
   "cell_type": "code",
   "execution_count": 88,
   "metadata": {},
   "outputs": [
    {
     "name": "stdout",
     "output_type": "stream",
     "text": [
      "{'VV': 0, 'VH': 0.4998779296875, 'HV': 0.5029296875, 'HH': 0.50732421875}\n"
     ]
    }
   ],
   "source": [
    "P = calculate_P( backend )\n",
    "print(P)"
   ]
  },
  {
   "cell_type": "code",
   "execution_count": 89,
   "metadata": {},
   "outputs": [
    {
     "name": "stdout",
     "output_type": "stream",
     "text": [
      "The upper bound for P['VV'] is 1.5101318359375\n",
      "The value of P['VV'] is 0\n",
      "The upper bound is obeyed :)\n",
      "\n",
      "The upper bound for P['VH'] is 1.01025390625\n",
      "The value of P['VH'] is 0.4998779296875\n",
      "The upper bound is obeyed :)\n",
      "\n",
      "The upper bound for P['HV'] is 1.0072021484375\n",
      "The value of P['HV'] is 0.5029296875\n",
      "The upper bound is obeyed :)\n",
      "\n",
      "The upper bound for P['HH'] is 1.0028076171875\n",
      "The value of P['HH'] is 0.50732421875\n",
      "The upper bound is obeyed :)\n",
      "\n"
     ]
    }
   ],
   "source": [
    "bell_test( P )"
   ]
  },
  {
   "cell_type": "markdown",
   "metadata": {
    "collapsed": true
   },
   "source": [
    "練習問題で状態の提案を準備した場合、`P['HH']`の上限に重大な違反があることがわかります。 では、ここで何が起こっているのでしょうか？ ベルの実験に基づいた論理の連鎖は、明らかに量子変数には適用されません。 しかし、なぜ？\n",
    "\n",
    "答えは、その論理には隠された仮定があるということです。 その理由を理解するために、ポイント（4）に戻りましょう。\n",
    "\n",
    "    hash2bit ( A, H ) = hash2bit ( A, V )        (4)\n",
    "    \n",
    "    \n",
    "ここでは、変数`A`の`H`タイプのハッシュから取得する値を`V`タイプのハッシュの値と比較します。\n",
    "\n",
    "古典的な変数の場合、これは完全に賢明です。両方のハッシュを計算して結果を比較することを妨げるものは何もありません。変数のハッシュを計算すると変数が変更されても、それは問題ではありません。事前にコピーするだけで、両方のハッシュを問題なく実行できます。\n",
    "\n",
    "同じことは量子変数には当てはまりません。ハッシュの結果は、実際に実行するまでわかりません。量子ビットが実際に与えるビット値を決定するのはその時だけです。そして、あるタイプのハッシュの値を決定すると、別のタイプのハッシュを使用した場合に何を決定したかを判断することはできません。[量子変数はコピーできない](https://en.wikipedia.org/wiki/No-cloning_theorem)ため、量子変数をコピーしてもこれを回避することはできません。つまり、`hash2bit（A、H）`と`hash2bit（A、V）`の値が同時に明確に定義されているコンテキストがないため、それらを比較することはできません。\n",
    "\n",
    "もう1つの隠れた仮定は、`hash2bit（A、hash）`は、変数`A`に選択されたハッシュのタイプにのみ依存し、変数`B`に選択されたハッシュのタイプには依存しないということです。関数。ただし、上限に違反したという事実は、各変数が他の変数に対して実行されているハッシュを認識していることを意味しているようです。したがって、両方がHタイプのハッシュを持っている場合、それらは共謀して非常に異なる動作を与えることができます。\n",
    "\n",
    "それでも、一方のキュービットでのハッシュの選択が他方の結果に影響を与えるとは言えません。その効果はそれよりも微妙です。たとえば、どの変数がどの変数に影響を与えているかを判断することはできません。ハッシュが実行される順序を変更したり、[効果的に同時に実行したりする](https://en.wikipedia.org/wiki/Loopholes_in_Bell_test_experiments#Communication,_or_locality)と、同じ結果が得られます。私たちが言えることは、結果は[文脈的](https://en.wikipedia.org/wiki/Quantum_contextuality)であるということです。ある変数からの結果を完全に理解するには、別の変数に対して何が行われたかを調べる必要がある場合があります。\n",
    "\n",
    "これはすべて、量子変数が常に私たちが慣れている論理に従うとは限らないことを示しています。それらは異なる規則、つまり量子力学の規則に従います。これにより、新しい異なる方法で計算を実行する方法を見つけることができます。    "
   ]
  },
  {
   "cell_type": "code",
   "execution_count": null,
   "metadata": {},
   "outputs": [],
   "source": []
  }
 ],
 "metadata": {
  "kernelspec": {
   "display_name": "Python 3",
   "language": "python",
   "name": "python3"
  },
  "language_info": {
   "codemirror_mode": {
    "name": "ipython",
    "version": 3
   },
   "file_extension": ".py",
   "mimetype": "text/x-python",
   "name": "python",
   "nbconvert_exporter": "python",
   "pygments_lexer": "ipython3",
   "version": "3.8.3"
  }
 },
 "nbformat": 4,
 "nbformat_minor": 2
}
