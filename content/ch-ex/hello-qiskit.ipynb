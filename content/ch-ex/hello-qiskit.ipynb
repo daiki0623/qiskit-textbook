{
 "cells": [
  {
   "cell_type": "markdown",
   "metadata": {
    "tags": [
     "remove_cell"
    ]
   },
   "source": [
    "# こんにちはQiskit"
   ]
  },
  {
   "cell_type": "markdown",
   "metadata": {},
   "source": [
    "単純なパズルは量子ビットと量子ゲートから始めましょう。\n",
    "\n",
    "\n",
    "# レベル 1:ビットから始めましょう。\n",
    "すべてのテキストブックと同様、このテキストはJupyter notebookで書かれています。\n",
    "しかし、テキストの大半部分とは異なり、実際に以下のコードを実行するべきでしょう。\n",
    "過去にJupyter notebookを使ったことのない人でも、大丈夫です。\n",
    "以下のセルと呼ばれるグレー枠のソースコードがわかるからです。"
   ]
  },
  {
   "cell_type": "code",
   "execution_count": 1,
   "metadata": {},
   "outputs": [
    {
     "name": "stdout",
     "output_type": "stream",
     "text": [
      "Hello! I'm a code cell\n"
     ]
    }
   ],
   "source": [
    "print(\"Hello! I'm a code cell\")"
   ]
  },
  {
   "cell_type": "markdown",
   "metadata": {},
   "source": [
    "セル上のコードを実行する方法は、機器に依存し、あなたが使った方法をインプットします。\n",
    "ほとんどの場合、あなたはセルをクリックし、**Shift-Enterキー**を押すでしょう。\n",
    "しかし、Qiskit textbookで実行していれば、あなたは上にある`Run`ボタンをクリックするだけでしょう。\n",
    "\n",
    "この後のセルコードを実行するために、以下のセルを実行する必要があるでしょう。\n",
    "この実行時間は数秒です。"
   ]
  },
  {
   "cell_type": "markdown",
   "metadata": {},
   "source": [
    "このnotebookのセルの残りは問題を解くためのパズルのセットアップのコードを含みます。\n",
    "そのパズルの正解を知るために、そのセルをただ実行しましょう。\n",
    "パズルを新たに始めるために、それにただ戻りましょう。"
   ]
  },
  {
   "cell_type": "code",
   "execution_count": 2,
   "metadata": {},
   "outputs": [
    {
     "name": "stdout",
     "output_type": "stream",
     "text": [
      "Set up started...\n",
      "Set up complete!\n"
     ]
    }
   ],
   "source": [
    "print('Set up started...')\n",
    "from qiskit_textbook.games import hello_quantum\n",
    "print('Set up complete!')"
   ]
  },
  {
   "cell_type": "markdown",
   "metadata": {},
   "source": [
    "## Puzzle 1\n",
    "\n",
    "### イントロダクション・導入\n",
    "量子コンピューターは*量子ビット*に基づいています。：ビットは量子力学のルールに従います。\n",
    "ところで、1ビットとは正確に何でしょうか？そして、どのようにビットは、コンピューターの中で使われているでしょうか？\n",
    "\n",
    "ビットの定義は２つの性質があります。\n",
    "これらは１と０、オンとオフまたは真と偽と言われているでしょう。ここで、大事なポイントは２つがあることです。\n",
    "ビットを熟知するために、１ビットから実行してみましょう。\n",
    "１ビットでできる一番簡単なことは、ビットの状態をそのままにしたり、ビットの値を反転させることです。\n",
    "\n",
    "私たちはこの単純な演算子に変わった名前を与えます。それはNOTゲートと呼ばれています。\n",
    "\n",
    "実行してみましょう。\n",
    "\n",
    "### 練習問題\n",
    "*  `NOT`ゲートを3回動かしてみましょう。"
   ]
  },
  {
   "cell_type": "code",
   "execution_count": 3,
   "metadata": {
    "scrolled": false
   },
   "outputs": [
    {
     "data": {
      "application/vnd.jupyter.widget-view+json": {
       "model_id": "522c01b54ca34dbbac7062bd1fe351a3",
       "version_major": 2,
       "version_minor": 0
      },
      "text/plain": [
       "Image(value=b'\\x89PNG\\r\\n\\x1a\\n\\x00\\x00\\x00\\rIHDR\\x00\\x00\\x01\\xb0\\x00\\x00\\x01\\xb0\\x08\\x06\\x00\\x00\\x00\\xc8N0*\\x…"
      ]
     },
     "metadata": {},
     "output_type": "display_data"
    },
    {
     "data": {
      "application/vnd.jupyter.widget-view+json": {
       "model_id": "54f5de656855463e864268a161da616f",
       "version_major": 2,
       "version_minor": 0
      },
      "text/plain": [
       "VBox(children=(ToggleButtons(options=('Choose gate', 'NOT'), value='Choose gate'), ToggleButtons(options=('',)…"
      ]
     },
     "metadata": {},
     "output_type": "display_data"
    }
   ],
   "source": [
    "initialize = []\n",
    "success_condition = {}\n",
    "allowed_gates = {'0': {'NOT': 3}, '1': {}, 'both': {}}\n",
    "vi = [[1], False, False]\n",
    "qubit_names = {'0':'the only bit', '1':None}\n",
    "puzzle = hello_quantum.run_game(initialize, success_condition, allowed_gates, vi, qubit_names)"
   ]
  },
  {
   "cell_type": "markdown",
   "metadata": {},
   "source": [
    "### アウトロ・終結\n",
    "ここでは、オン（白）かオフ（黒）のどちらかの円を使ってビットの状態を視覚化しました。　\n",
    "\n",
    "NOTゲートの結果は２つの状態のビットをオンやオフにしたりして、ビットの状態を反転することです。"
   ]
  },
  {
   "cell_type": "markdown",
   "metadata": {},
   "source": [
    "## パズル 2\n",
    "\n",
    "### イントロダクション\n",
    "2ビットを動かすことは1ビットよりも、興味深いことです。ここで、2ビットのうち、別のビットを動かしてみましょう。\n",
    "それは以前と同じものに見えるでしょう。しかし、それは別のビットだから、違った場所でNOTゲートのじょうtになるでしょう。\n",
    "\n",
    "### 練習問題\n",
    "*  他のビットを動かしてみましょう。"
   ]
  },
  {
   "cell_type": "code",
   "execution_count": 4,
   "metadata": {},
   "outputs": [
    {
     "data": {
      "application/vnd.jupyter.widget-view+json": {
       "model_id": "f346d3aebc894286b8d73daddf0aab54",
       "version_major": 2,
       "version_minor": 0
      },
      "text/plain": [
       "Image(value=b'\\x89PNG\\r\\n\\x1a\\n\\x00\\x00\\x00\\rIHDR\\x00\\x00\\x01\\xb0\\x00\\x00\\x01\\xb0\\x08\\x06\\x00\\x00\\x00\\xc8N0*\\x…"
      ]
     },
     "metadata": {},
     "output_type": "display_data"
    },
    {
     "data": {
      "application/vnd.jupyter.widget-view+json": {
       "model_id": "95a1443d2ad84309acd00b912488f510",
       "version_major": 2,
       "version_minor": 0
      },
      "text/plain": [
       "VBox(children=(ToggleButtons(options=('Choose gate', 'NOT'), value='Choose gate'), ToggleButtons(options=('',)…"
      ]
     },
     "metadata": {},
     "output_type": "display_data"
    }
   ],
   "source": [
    "initialize = []\n",
    "success_condition = {}\n",
    "allowed_gates = {'0': {}, '1': {'NOT': 0}, 'both': {}}\n",
    "vi = [[], False, False]\n",
    "qubit_names = {'0':'the bit on the left', '1':'the bit on the right'}\n",
    "puzzle = hello_quantum.run_game(initialize, success_condition, allowed_gates, vi, qubit_names)"
   ]
  },
  {
   "cell_type": "markdown",
   "metadata": {},
   "source": [
    "### アウトロ・終結\n",
    "`NOT`ゲートをマスターしたでしょう。：これはコンピューティングのブロックを構築する最も基本的なものです。"
   ]
  },
  {
   "cell_type": "markdown",
   "metadata": {},
   "source": [
    "### パズル 3\n",
    "\n",
    "### イントロダクション・導入\n",
    "用語「ゲート」は、複数の量子ビットを扱うことができるためのシンプルな道具を記述するために使います。\n",
    "`NOT`ゲートは最もシンプルな例です。\n",
    "しかし、ビットで興味深いことを行うには、ビットを単にオンやオフする必要があります。\n",
    "そのより研ぎ澄まされたゲートは`CNOT`ゲートと呼ばれ、「controlled-NOT」の略です。これはビットのペアで使われています。\n",
    "私たちは制御するという観点でビットの１つを選びます。\n",
    "これはCNOTゲートが、実際に何でもするかどうかを決定するようになります。その他のビットはターゲットです。\n",
    "簡単に言えば、`CNOT`はターゲットのビットに`NOT`を行いますが、制御ビットがオンの場合に限ります。\n",
    "最も良い方法はそれを実行しながら理解することです。\n",
    "\n",
    "### 練習問題\n",
    "* 右側のビットをオンにして、CNOTゲートを使ってみましょう。\n",
    "* **留意点**: ビットを選択するように言われたときに、どちらが対象になるビットかを選択していることになります。"
   ]
  },
  {
   "cell_type": "code",
   "execution_count": 9,
   "metadata": {},
   "outputs": [
    {
     "data": {
      "application/vnd.jupyter.widget-view+json": {
       "model_id": "ee1d2a14c16346c1b61fd403f91e4eb8",
       "version_major": 2,
       "version_minor": 0
      },
      "text/plain": [
       "Image(value=b'\\x89PNG\\r\\n\\x1a\\n\\x00\\x00\\x00\\rIHDR\\x00\\x00\\x01\\xb0\\x00\\x00\\x01\\xb0\\x08\\x06\\x00\\x00\\x00\\xc8N0*\\x…"
      ]
     },
     "metadata": {},
     "output_type": "display_data"
    },
    {
     "data": {
      "application/vnd.jupyter.widget-view+json": {
       "model_id": "9f5521cc64764556bab627899cb61cec",
       "version_major": 2,
       "version_minor": 0
      },
      "text/plain": [
       "VBox(children=(ToggleButtons(options=('Choose gate', 'CNOT'), value='Choose gate'), ToggleButtons(options=('',…"
      ]
     },
     "metadata": {},
     "output_type": "display_data"
    }
   ],
   "source": [
    "initialize = [['x', '0']]\n",
    "success_condition = {'IZ': -1.0}\n",
    "allowed_gates = {'0': {'CNOT': 0}, '1': {'CNOT': 0}, 'both': {}}\n",
    "vi = [[], False, False]\n",
    "qubit_names = {'0':'the bit on the left', '1':'the bit on the right'}\n",
    "puzzle = hello_quantum.run_game(initialize, success_condition, allowed_gates, vi, qubit_names)"
   ]
  },
  {
   "cell_type": "markdown",
   "metadata": {},
   "source": [
    "## パズル 4\n",
    "\n",
    "### イントロダクション・導入\n",
    "私たちが実行するどのプログラムもたくさんのゲートと量子ビットを構成されているでしょう。そのための一歩として、いくつかの`CNOT`ゲートを使う必要があるものを試してみましょう。\n",
    "\n",
    "### 練習問題\n",
    "* 左側のビットをオフにし、右側のビットをオンにするためにいくつかの`CNOT`ゲートを使ってみましょう。 "
   ]
  },
  {
   "cell_type": "code",
   "execution_count": 10,
   "metadata": {},
   "outputs": [
    {
     "data": {
      "application/vnd.jupyter.widget-view+json": {
       "model_id": "d685d08daac04c628a143cb6844b6d62",
       "version_major": 2,
       "version_minor": 0
      },
      "text/plain": [
       "Image(value=b'\\x89PNG\\r\\n\\x1a\\n\\x00\\x00\\x00\\rIHDR\\x00\\x00\\x01\\xb0\\x00\\x00\\x01\\xb0\\x08\\x06\\x00\\x00\\x00\\xc8N0*\\x…"
      ]
     },
     "metadata": {},
     "output_type": "display_data"
    },
    {
     "data": {
      "application/vnd.jupyter.widget-view+json": {
       "model_id": "2d7b5bd03a3d4074acd14038fbeedc38",
       "version_major": 2,
       "version_minor": 0
      },
      "text/plain": [
       "VBox(children=(ToggleButtons(options=('Choose gate', 'CNOT'), value='Choose gate'), ToggleButtons(options=('',…"
      ]
     },
     "metadata": {},
     "output_type": "display_data"
    }
   ],
   "source": [
    "initialize = [['x', '0']]\n",
    "success_condition = {'ZI': 1.0, 'IZ': -1.0}\n",
    "allowed_gates = {'0': {'CNOT': 0}, '1': {'CNOT': 0}, 'both': {}}\n",
    "vi = [[], False, False]\n",
    "qubit_names = {'0':'the bit on the left', '1':'the bit on the right'}\n",
    "puzzle = hello_quantum.run_game(initialize, success_condition, allowed_gates, vi, qubit_names)"
   ]
  },
  {
   "cell_type": "markdown",
   "metadata": {},
   "source": [
    "### アウトロ・終結\n",
    "素晴らしい！\n",
    "これらの種類の操作はすべてのコンピューティングのまとめです。もし多くのビットと制御された`CNOT`ゲートを持っていれば、\n",
    "自動で運転する車からテトリスまであらゆるものが構築することができるでしょう。"
   ]
  },
  {
   "cell_type": "markdown",
   "metadata": {},
   "source": [
    "## パズル 5\n",
    "\n",
    "### イントロダクション・導入\n",
    "たくさんの問題のボードで空のスペースがたくさんあることに、おそらく気が付くでしょう。\n",
    "なぜならこれはビットからより多くの情報を可視化するためであろう。\n",
    "たとえば、ビット値が他のいくつかのランダムな過程によって生成されたら、どうなるでしょうか？\n",
    "\n",
    "私たちはビット値を０か１かを示すために、黒と白の円を使ってきました。だから、等確率で０か１を示す任意のビットを与え、灰色の円を使うでしょう。\n",
    "\n",
    "ゲートがランダムに操作する方法を示すことができます。\n",
    "\n",
    "### 練習問題\n",
    "*     右側のビットにCNOTゲートを使ってランダムにビットを生成します。"
   ]
  },
  {
   "cell_type": "code",
   "execution_count": 10,
   "metadata": {},
   "outputs": [
    {
     "data": {
      "application/vnd.jupyter.widget-view+json": {
       "model_id": "c51ac25837e94a90bcb9447e4e2070eb",
       "version_major": 2,
       "version_minor": 0
      },
      "text/plain": [
       "Image(value=b'\\x89PNG\\r\\n\\x1a\\n\\x00\\x00\\x00\\rIHDR\\x00\\x00\\x01\\xb0\\x00\\x00\\x01\\xb0\\x08\\x06\\x00\\x00\\x00\\xc8N0*\\x…"
      ]
     },
     "metadata": {},
     "output_type": "display_data"
    },
    {
     "data": {
      "application/vnd.jupyter.widget-view+json": {
       "model_id": "a1515ddc25ab444e924797b63ada3691",
       "version_major": 2,
       "version_minor": 0
      },
      "text/plain": [
       "VBox(children=(ToggleButtons(options=('Choose gate', 'CNOT'), value='Choose gate'), ToggleButtons(options=('',…"
      ]
     },
     "metadata": {},
     "output_type": "display_data"
    }
   ],
   "source": [
    "initialize = [['h', '0']]\n",
    "success_condition = {'IZ': 0.0}\n",
    "allowed_gates = {'0': {'CNOT': 0}, '1': {'CNOT': 0}, 'both': {}}\n",
    "vi = [[], False, False]\n",
    "qubit_names = {'0':'the bit on the left', '1':'the bit on the right'}\n",
    "puzzle = hello_quantum.run_game(initialize, success_condition, allowed_gates, vi, qubit_names)"
   ]
  },
  {
   "cell_type": "markdown",
   "metadata": {},
   "source": [
    "### アウトロ・終結\n",
    "\n",
    "素晴らしいでしょう！\n",
    "\n",
    "ここで起こっていることを考えてみましょう。ランダムにビットをオンかオフのどちらか設定することによって、`CNOT`ゲートを使います。\n",
    "ビットがオフの場合、CNOTゲートは何もせず、右のビットはそのままである。\n",
    "左ビットがオンになっていた場合、CNOTゲートは右ビットにもNOTをしてスイッチを入れます。\n",
    "\n",
    "実際に、このプロセスは左ビットのランダムな値を右ビットにコピーします。そのため、両方の出力はランダムに見えますが、重要な特性があります。\n",
    "\n",
    "上の問題の最後に、2つのビットは2つの灰色の円で表現されています。これは両者がランダムであることを示しているが、両者が常に一致しているという事実については何もわからない。ビットが独立してランダムであったり，ランダムではあるが常に不一致であったりする場合にも，同じ2つの灰色の円が使われます．この違いを見分けるために，問題ボードに何かを追加する必要があります．"
   ]
  },
  {
   "cell_type": "markdown",
   "metadata": {},
   "source": [
    "## パズル 6\n",
    "\n",
    "### イントロダクション・導入\n",
    "問題の下には、新しい円があることがわかるでしょう。\n",
    "これまで見てきた円とは異なり、新しいビットを表すものではありません。その代わりに、2つのビットが一致するかどうかがわかります。\n",
    "大体一致した時、それはオフになるでしょう。不一致ならば、それはオンになるでしょう。\n",
    "もしその一致と不一致がランダムであれば、それはグレーになるでしょう。\n",
    "\n",
    "### 練習問題\n",
    "*   ２ビットがいつも一致しない状況を作り出しましょう。つまり、中心の円を白にする状況である。"
   ]
  },
  {
   "cell_type": "code",
   "execution_count": 11,
   "metadata": {
    "scrolled": false
   },
   "outputs": [
    {
     "data": {
      "application/vnd.jupyter.widget-view+json": {
       "model_id": "4d9547b8be8c4a0baa32083be1fd47bf",
       "version_major": 2,
       "version_minor": 0
      },
      "text/plain": [
       "Image(value=b'\\x89PNG\\r\\n\\x1a\\n\\x00\\x00\\x00\\rIHDR\\x00\\x00\\x01\\xb0\\x00\\x00\\x01\\xb0\\x08\\x06\\x00\\x00\\x00\\xc8N0*\\x…"
      ]
     },
     "metadata": {},
     "output_type": "display_data"
    },
    {
     "data": {
      "application/vnd.jupyter.widget-view+json": {
       "model_id": "9f5e903165924de29e1f5309f27b6740",
       "version_major": 2,
       "version_minor": 0
      },
      "text/plain": [
       "VBox(children=(ToggleButtons(options=('Choose gate', 'NOT', 'CNOT'), value='Choose gate'), ToggleButtons(optio…"
      ]
     },
     "metadata": {},
     "output_type": "display_data"
    }
   ],
   "source": [
    "initialize = [['h', '0']]\n",
    "success_condition = {'ZZ': -1.0}\n",
    "allowed_gates = {'0': {'NOT': 0, 'CNOT': 0}, '1': {'NOT': 0, 'CNOT': 0}, 'both': {}}\n",
    "vi = [[], False, True]\n",
    "qubit_names = {'0':'the bit on the left', '1':'the bit on the right'}\n",
    "puzzle = hello_quantum.run_game(initialize, success_condition, allowed_gates, vi, qubit_names)"
   ]
  },
  {
   "cell_type": "markdown",
   "metadata": {},
   "source": [
    "## パズル 7\n",
    "\n",
    "### イントロダクション・導入\n",
    "\n",
    "今、ビットについてのすべての知識を、とてもよく知る必要がある。次へ移る前に、もう１つ練習問題を解いてみましょう。\n",
    "\n",
    "### 練習問題\n",
    "*  右のビットをオンにしましょう。"
   ]
  },
  {
   "cell_type": "code",
   "execution_count": 6,
   "metadata": {},
   "outputs": [
    {
     "data": {
      "application/vnd.jupyter.widget-view+json": {
       "model_id": "bbc0986b5cf24bc18f1d24bf4200ac2c",
       "version_major": 2,
       "version_minor": 0
      },
      "text/plain": [
       "Image(value=b'\\x89PNG\\r\\n\\x1a\\n\\x00\\x00\\x00\\rIHDR\\x00\\x00\\x01\\xb0\\x00\\x00\\x01\\xb0\\x08\\x06\\x00\\x00\\x00\\xc8N0*\\x…"
      ]
     },
     "metadata": {},
     "output_type": "display_data"
    },
    {
     "data": {
      "application/vnd.jupyter.widget-view+json": {
       "model_id": "f282ac0829a5458f8ea9bc02c5ae5604",
       "version_major": 2,
       "version_minor": 0
      },
      "text/plain": [
       "VBox(children=(ToggleButtons(options=('Choose gate', 'NOT', 'CNOT'), value='Choose gate'), ToggleButtons(optio…"
      ]
     },
     "metadata": {},
     "output_type": "display_data"
    }
   ],
   "source": [
    "initialize = [['h', '1']]\n",
    "success_condition = {'IZ': -1.0}\n",
    "allowed_gates = {'0': {'NOT': 0, 'CNOT': 0}, '1': {'NOT': 0, 'CNOT': 0}, 'both': {}}\n",
    "vi = [[], False, True]\n",
    "qubit_names = {'0':'the bit on the left', '1':'the bit on the right'}\n",
    "puzzle = hello_quantum.run_game(initialize, success_condition, allowed_gates, vi, qubit_names)"
   ]
  },
  {
   "cell_type": "markdown",
   "metadata": {},
   "source": [
    "### アウトロ・終結\n",
    "\n",
    "これは、ビットが量子になるときに起こることです。量子ビットになるときが来ました。\t"
   ]
  },
  {
   "cell_type": "markdown",
   "metadata": {},
   "source": [
    "# レベル 2: 単純な量子ビットのゲート"
   ]
  },
  {
   "cell_type": "markdown",
   "metadata": {},
   "source": [
    "## パズル 1\n",
    "\n",
    "### イントロダクション・導入\n",
    "量子のしくみの講義をスタートする代わりに、ここで１量子ビットのものを扱ってみましょう。\n",
    "単純な量子ビットのゲート・`X`ゲートを試してみましょう。\n",
    "\n",
    "###  練習問題\n",
    "* `X`ゲートを3回使ってみて、何が起こるか確かめてみましょう。"
   ]
  },
  {
   "cell_type": "code",
   "execution_count": 7,
   "metadata": {
    "scrolled": false
   },
   "outputs": [
    {
     "data": {
      "application/vnd.jupyter.widget-view+json": {
       "model_id": "89d8c99af4e34fe98e0384e13979400d",
       "version_major": 2,
       "version_minor": 0
      },
      "text/plain": [
       "Image(value=b'\\x89PNG\\r\\n\\x1a\\n\\x00\\x00\\x00\\rIHDR\\x00\\x00\\x01\\xb0\\x00\\x00\\x01\\xb0\\x08\\x06\\x00\\x00\\x00\\xc8N0*\\x…"
      ]
     },
     "metadata": {},
     "output_type": "display_data"
    },
    {
     "data": {
      "application/vnd.jupyter.widget-view+json": {
       "model_id": "1c9c9d4dc9fb446f852586c8e6d6866f",
       "version_major": 2,
       "version_minor": 0
      },
      "text/plain": [
       "VBox(children=(ToggleButtons(options=('Choose gate', 'x'), value='Choose gate'), ToggleButtons(options=('',), …"
      ]
     },
     "metadata": {},
     "output_type": "display_data"
    }
   ],
   "source": [
    "initialize = [ [\"x\",\"0\"] ]\n",
    "success_condition = {\"ZI\":1.0}\n",
    "allowed_gates = { \"0\":{\"x\":3}, \"1\":{}, \"both\":{} }\n",
    "vi = [[1],True,True]\n",
    "qubit_names = {'0':'the only qubit', '1':None}\n",
    "puzzle = hello_quantum.run_game(initialize, success_condition, allowed_gates, vi, qubit_names)"
   ]
  },
  {
   "cell_type": "markdown",
   "metadata": {},
   "source": [
    "### アウトロ・終結\n",
    "このパズルはとてもよく知られているでしょう。何もしてないのに余計な円があった以外は、少しだけと全く同じでした。\n",
    "それ以外は、Xゲートは正確にはNOTゲートと実際には同じです。"
   ]
  },
  {
   "cell_type": "markdown",
   "metadata": {},
   "source": [
    "## パズル 2\n",
    "\n",
    "### イントロダクション・導入\n",
    "その最後の問題は２つの円があります。これらは異なったビットで出現しなかったです。代わりに、同じ量子ビットとして出現します。\n",
    "量子ビットはビットの量子バージョンです。それらはビットとして同じ性質を持っているが、特別な性質も持っています。\n",
    "ビットは２つの可能な値に制限されているのと同じように、量子ビットも同じです。\n",
    "量子ビットから結果を得ようとするとき、単に1ビットで０か１の値を得るでしょう。\n",
    "しかし、複数のこのビットから抜粋するメソッドが量子ビットにあります。その得られる結果は利用する方法に依存する。\n",
    "最後の問題の２つの円は同じ量子ビットからビットを得ることができる２つの異なる方法を示します。それらは`X`ゲートまたはZの測定と呼びます。その底の円はZ測定の結果を示し、そしてトップの円は`X`ゲートの結果を示します。\n",
    "その円の色はずっと同じであるでしょう。もしその円が黒ならば、対応する結果の値は`0`です。白は`1`という値を得られることを意味します。\n",
    "\n",
    "### 練習問題\n",
    "\n",
    "*  Zの結果をオフしてみましょう。"
   ]
  },
  {
   "cell_type": "code",
   "execution_count": 8,
   "metadata": {},
   "outputs": [
    {
     "data": {
      "application/vnd.jupyter.widget-view+json": {
       "model_id": "f3a6a8ee643846b68c4237a5820e5281",
       "version_major": 2,
       "version_minor": 0
      },
      "text/plain": [
       "Image(value=b'\\x89PNG\\r\\n\\x1a\\n\\x00\\x00\\x00\\rIHDR\\x00\\x00\\x01\\xb0\\x00\\x00\\x01\\xb0\\x08\\x06\\x00\\x00\\x00\\xc8N0*\\x…"
      ]
     },
     "metadata": {},
     "output_type": "display_data"
    },
    {
     "data": {
      "application/vnd.jupyter.widget-view+json": {
       "model_id": "d698773bcafa4d02ab9c60a321657497",
       "version_major": 2,
       "version_minor": 0
      },
      "text/plain": [
       "VBox(children=(ToggleButtons(options=('Choose gate', 'x'), value='Choose gate'), ToggleButtons(options=('',), …"
      ]
     },
     "metadata": {},
     "output_type": "display_data"
    }
   ],
   "source": [
    "initialize = [['x', '0']]\n",
    "success_condition = {'ZI': 1.0}\n",
    "allowed_gates = {'0': {'x': 0}, '1': {}, 'both': {}}\n",
    "vi = [[1], True, True]\n",
    "qubit_names = {'0':'the only qubit', '1':None}\n",
    "puzzle = hello_quantum.run_game(initialize, success_condition, allowed_gates, vi, qubit_names)"
   ]
  },
  {
   "cell_type": "markdown",
   "metadata": {},
   "source": [
    "### アウトロ・終結\n",
    "量子ビットからビットを抽出するプロセスを'測定'と呼びます。\n",
    "独立的にXとZの結果両方を抽出することは不可能です。どちらか１つを選ばなくてはなりません。"
   ]
  },
  {
   "cell_type": "markdown",
   "metadata": {},
   "source": [
    "\n",
    "## パズル 3\n",
    "\n",
    "### イントロダクション・導入\n",
    "このパズルでは、他の量子ビットを確かめることができるでしょう。再度、これは２つの円によって内部の働きを持つでしょう。\n",
    "この量子ビットでは、それらの円はパズルボードの右に置くでしょう。\n",
    "\n",
    "### 練習問題\n",
    "\n",
    "*  他の量子ビットのZの結果をオフしましょう。"
   ]
  },
  {
   "cell_type": "code",
   "execution_count": 9,
   "metadata": {},
   "outputs": [
    {
     "data": {
      "application/vnd.jupyter.widget-view+json": {
       "model_id": "1520a77eb4e54729939bfaf47d2e24e5",
       "version_major": 2,
       "version_minor": 0
      },
      "text/plain": [
       "Image(value=b'\\x89PNG\\r\\n\\x1a\\n\\x00\\x00\\x00\\rIHDR\\x00\\x00\\x01\\xb0\\x00\\x00\\x01\\xb0\\x08\\x06\\x00\\x00\\x00\\xc8N0*\\x…"
      ]
     },
     "metadata": {},
     "output_type": "display_data"
    },
    {
     "data": {
      "application/vnd.jupyter.widget-view+json": {
       "model_id": "796aab635cbb461aa1341a2e05df2345",
       "version_major": 2,
       "version_minor": 0
      },
      "text/plain": [
       "VBox(children=(ToggleButtons(options=('Choose gate', 'x'), value='Choose gate'), ToggleButtons(options=('',), …"
      ]
     },
     "metadata": {},
     "output_type": "display_data"
    }
   ],
   "source": [
    "initialize = [['x', '1']]\n",
    "success_condition = {'IZ': 1.0}\n",
    "allowed_gates = {'0': {}, '1': {'x': 0}, 'both': {}}\n",
    "vi = [[0], True, True]\n",
    "qubit_names = {'0':None, '1':'the other qubit'}\n",
    "puzzle = hello_quantum.run_game(initialize, success_condition, allowed_gates, vi, qubit_names)"
   ]
  },
  {
   "cell_type": "markdown",
   "metadata": {},
   "source": [
    "### アウトロ・終結\n",
    "\n",
    "今や、プログラムで使われている名前で、量子ビットと呼び始めるでしょう。：\n",
    "ある左のビットを`q[0]`として、そして右のもう１つのビットを`q[1]`としましょう。\n",
    "\n",
    "また、「Z」の結果と「X」の結果を広く使われないことに留意してください。いつもそれはZ測定の結果と言われるでしょう。\n",
    "しかし、これらのパズルに対して言葉が饒舌なビットです。"
   ]
  },
  {
   "cell_type": "markdown",
   "metadata": {},
   "source": [
    "## パズル 4\n",
    "\n",
    "### イントロダクション・導入\n",
    "新しいゲート`H`ゲートを試してみましょう。\n",
    "\n",
    "これは単純なビットではありえないことです。適用した量子ビットの2つの円を反転する効果を持ちます。\n",
    "もし、素晴らしいアニメーションのフォームを確かめたいならば、[Hello Quantum](https://helloquantum.mybluemix.net/)のアプリケーションを見てください。しかし、これを行っている間、3回繰り返す古いトリックをそれで見るでしょう。\n",
    "\n",
    "### 練習問題\n",
    "*  `H`ゲートを3回使うでしょう。"
   ]
  },
  {
   "cell_type": "code",
   "execution_count": 10,
   "metadata": {},
   "outputs": [
    {
     "data": {
      "application/vnd.jupyter.widget-view+json": {
       "model_id": "3d19778bce7545ce96e593d82b6ede27",
       "version_major": 2,
       "version_minor": 0
      },
      "text/plain": [
       "Image(value=b'\\x89PNG\\r\\n\\x1a\\n\\x00\\x00\\x00\\rIHDR\\x00\\x00\\x01\\xb0\\x00\\x00\\x01\\xb0\\x08\\x06\\x00\\x00\\x00\\xc8N0*\\x…"
      ]
     },
     "metadata": {},
     "output_type": "display_data"
    },
    {
     "data": {
      "application/vnd.jupyter.widget-view+json": {
       "model_id": "0d8279c8a6694cb3a6b8494b15314287",
       "version_major": 2,
       "version_minor": 0
      },
      "text/plain": [
       "VBox(children=(ToggleButtons(options=('Choose gate', 'h'), value='Choose gate'), ToggleButtons(options=('',), …"
      ]
     },
     "metadata": {},
     "output_type": "display_data"
    },
    {
     "name": "stdout",
     "output_type": "stream",
     "text": [
      "\n",
      "Your quantum program so far:\n",
      "\n",
      "    q = QuantumRegister(2)\n",
      "    b = ClassicalRegister(2)\n",
      "    qc = QuantumCircuit(q,b)\n",
      "\n"
     ]
    }
   ],
   "source": [
    "initialize = []\n",
    "success_condition = {'ZI': 0.0}\n",
    "allowed_gates = {'0': {'h': 3}, '1': {}, 'both': {}}\n",
    "vi = [[1], True, True]\n",
    "qubit_names = {'0':'q[0]', '1':'q[1]'}\n",
    "puzzle = hello_quantum.run_game(initialize, success_condition, allowed_gates, vi, qubit_names)"
   ]
  },
  {
   "cell_type": "markdown",
   "metadata": {},
   "source": [
    "### アウトロ・終結\n",
    "今、量子プログラムを作り始め、あなたはパズルの下にあるものがわかるでしょう。\n",
    "これらは本物の量子コンピューターを動かしている実際のQiskitのプログラムです。\n",
    "いわゆるこれはサーキットダイアグラムと呼ばれています、量子プログラミングのサーキットダイアグラムを確かめるために、\n",
    "以下のコードを実行させてみましょう。"
   ]
  },
  {
   "cell_type": "code",
   "execution_count": 11,
   "metadata": {},
   "outputs": [
    {
     "data": {
      "image/png": "[encoded data removed]",
      "text/plain": [
       "<Figure size 86.452x204.68 with 1 Axes>"
      ]
     },
     "execution_count": 11,
     "metadata": {},
     "output_type": "execute_result"
    }
   ],
   "source": [
    "puzzle.get_circuit().draw(output='mpl')"
   ]
  },
  {
   "cell_type": "markdown",
   "metadata": {},
   "source": [
    "## パズル 5\n",
    "\n",
    "### イントロダクション・導入\n",
    "Zの結果がすべてオフかオンであるとき、その`X`ゲートは単にその値にフリップします。しかし、最後のパズルを見た時のように、Zの結果がランダムであるとは何でしょうか？練習問題で、確かめてみましょう。\n",
    "\n",
    "### 練習問題\n",
    "*  全てオフにしたZの結果を得ましょう。知っているような`H`ゲートがたくさん使われているでしょう。\n",
    "しかし、3回正確には`X`ゲートが使われています。\n"
   ]
  },
  {
   "cell_type": "code",
   "execution_count": 12,
   "metadata": {},
   "outputs": [
    {
     "data": {
      "application/vnd.jupyter.widget-view+json": {
       "model_id": "63c288ad95214a1db0c49fc04f6c582a",
       "version_major": 2,
       "version_minor": 0
      },
      "text/plain": [
       "Image(value=b'\\x89PNG\\r\\n\\x1a\\n\\x00\\x00\\x00\\rIHDR\\x00\\x00\\x01\\xb0\\x00\\x00\\x01\\xb0\\x08\\x06\\x00\\x00\\x00\\xc8N0*\\x…"
      ]
     },
     "metadata": {},
     "output_type": "display_data"
    },
    {
     "data": {
      "application/vnd.jupyter.widget-view+json": {
       "model_id": "ac19e8356ef84843a36d9c74fda107c8",
       "version_major": 2,
       "version_minor": 0
      },
      "text/plain": [
       "VBox(children=(ToggleButtons(options=('Choose gate', 'x', 'h'), value='Choose gate'), ToggleButtons(options=('…"
      ]
     },
     "metadata": {},
     "output_type": "display_data"
    },
    {
     "name": "stdout",
     "output_type": "stream",
     "text": [
      "\n",
      "Your quantum program so far:\n",
      "\n",
      "    q = QuantumRegister(2)\n",
      "    b = ClassicalRegister(2)\n",
      "    qc = QuantumCircuit(q,b)\n",
      "\n"
     ]
    }
   ],
   "source": [
    "initialize = [['h', '1']]\n",
    "success_condition = {'IZ': 1.0}\n",
    "allowed_gates = {'0': {}, '1': {'x': 3, 'h': 0}, 'both': {}}\n",
    "vi = [[0], True, True]\n",
    "qubit_names = {'0':'q[0]', '1':'q[1]'}\n",
    "puzzle = hello_quantum.run_game(initialize, success_condition, allowed_gates, vi, qubit_names)"
   ]
  },
  {
   "cell_type": "code",
   "execution_count": 13,
   "metadata": {},
   "outputs": [
    {
     "data": {
      "image/png": "[encoded data removed]",
      "text/plain": [
       "<Figure size 86.452x204.68 with 1 Axes>"
      ]
     },
     "execution_count": 13,
     "metadata": {},
     "output_type": "execute_result"
    }
   ],
   "source": [
    "puzzle.get_circuit().draw(output='mpl')"
   ]
  },
  {
   "cell_type": "markdown",
   "metadata": {},
   "source": [
    "### アウトロ・終結\n",
    "たとえそのビットを反転させたとしても、ランダムな結果はランダムのままであるとわかります。\n"
   ]
  },
  {
   "cell_type": "markdown",
   "metadata": {},
   "source": [
    "## パズル 6\n",
    "\n",
    "### イントロダクション・導入\n",
    "`X`ゲートはZの結果を反転するとわかるでしょう。新しいゲートが必要だからでしょう。：それは`Z`ゲートです。\n",
    "\n",
    "### 練習問題\n",
    "*  Xの結果をオフしてみましょう。  "
   ]
  },
  {
   "cell_type": "code",
   "execution_count": 14,
   "metadata": {},
   "outputs": [
    {
     "data": {
      "application/vnd.jupyter.widget-view+json": {
       "model_id": "c5b1728cf2684c9fa0c33eee84c64195",
       "version_major": 2,
       "version_minor": 0
      },
      "text/plain": [
       "Image(value=b'\\x89PNG\\r\\n\\x1a\\n\\x00\\x00\\x00\\rIHDR\\x00\\x00\\x01\\xb0\\x00\\x00\\x01\\xb0\\x08\\x06\\x00\\x00\\x00\\xc8N0*\\x…"
      ]
     },
     "metadata": {},
     "output_type": "display_data"
    },
    {
     "data": {
      "application/vnd.jupyter.widget-view+json": {
       "model_id": "7a78c9fad833413ea1453fd5aaddf1c7",
       "version_major": 2,
       "version_minor": 0
      },
      "text/plain": [
       "VBox(children=(ToggleButtons(options=('Choose gate', 'z', 'h'), value='Choose gate'), ToggleButtons(options=('…"
      ]
     },
     "metadata": {},
     "output_type": "display_data"
    },
    {
     "name": "stdout",
     "output_type": "stream",
     "text": [
      "\n",
      "Your quantum program so far:\n",
      "\n",
      "    q = QuantumRegister(2)\n",
      "    b = ClassicalRegister(2)\n",
      "    qc = QuantumCircuit(q,b)\n",
      "\n"
     ]
    }
   ],
   "source": [
    "initialize = [['h', '0'], ['z', '0']]\n",
    "success_condition = {'XI': 1.0}\n",
    "allowed_gates = {'0': {'z': 0, 'h': 0}, '1': {}, 'both': {}}\n",
    "vi = [[1], True, True]\n",
    "qubit_names = {'0':'q[0]', '1':'q[1]'}\n",
    "puzzle = hello_quantum.run_game(initialize, success_condition, allowed_gates, vi, qubit_names)"
   ]
  },
  {
   "cell_type": "code",
   "execution_count": 15,
   "metadata": {},
   "outputs": [
    {
     "data": {
      "image/png": "[encoded data removed]",
      "text/plain": [
       "<Figure size 86.452x204.68 with 1 Axes>"
      ]
     },
     "execution_count": 15,
     "metadata": {},
     "output_type": "execute_result"
    }
   ],
   "source": [
    "puzzle.get_circuit().draw(output='mpl')"
   ]
  },
  {
   "cell_type": "markdown",
   "metadata": {},
   "source": [
    "### アウトロ・終結\n",
    "`X`ゲートはZの結果を交換し`Z`ゲートはXの結果を交換します。これは奇妙なものであるでしょう。\n",
    "しかし、より量子コンピューターについて学ぶ必要があります。それは知識をつけることにつながるでしょう。"
   ]
  },
  {
   "cell_type": "markdown",
   "metadata": {},
   "source": [
    "## パズル 7\n",
    "\n",
    "### イントロダクション・導入\n",
    "ゲートを組み合わせることにより、新しい結果を得ることができるでしょう。単純な例では、`Z`と`H`ゲートを組み合わせることにより、`X`ゲートと同じ機能をすることができるでしょう。\n",
    "\n",
    "### 練習問題\n",
    "*  `X`ゲートを使わずにZの結果をオンしましょう。"
   ]
  },
  {
   "cell_type": "code",
   "execution_count": 16,
   "metadata": {},
   "outputs": [
    {
     "data": {
      "application/vnd.jupyter.widget-view+json": {
       "model_id": "54565330cb6448aeb4a0fb33dc975764",
       "version_major": 2,
       "version_minor": 0
      },
      "text/plain": [
       "Image(value=b'\\x89PNG\\r\\n\\x1a\\n\\x00\\x00\\x00\\rIHDR\\x00\\x00\\x01\\xb0\\x00\\x00\\x01\\xb0\\x08\\x06\\x00\\x00\\x00\\xc8N0*\\x…"
      ]
     },
     "metadata": {},
     "output_type": "display_data"
    },
    {
     "data": {
      "application/vnd.jupyter.widget-view+json": {
       "model_id": "6edd2074b43842c88c95a0799e87fcb1",
       "version_major": 2,
       "version_minor": 0
      },
      "text/plain": [
       "VBox(children=(ToggleButtons(options=('Choose gate', 'z', 'h'), value='Choose gate'), ToggleButtons(options=('…"
      ]
     },
     "metadata": {},
     "output_type": "display_data"
    },
    {
     "name": "stdout",
     "output_type": "stream",
     "text": [
      "\n",
      "Your quantum program so far:\n",
      "\n",
      "    q = QuantumRegister(2)\n",
      "    b = ClassicalRegister(2)\n",
      "    qc = QuantumCircuit(q,b)\n",
      "\n"
     ]
    }
   ],
   "source": [
    "initialize = []\n",
    "success_condition = {'ZI': -1.0}\n",
    "allowed_gates = {'0': {'z': 0, 'h': 0}, '1': {}, 'both': {}}\n",
    "vi = [[1], True, True]\n",
    "qubit_names = {'0':'q[0]', '1':'q[1]'}\n",
    "puzzle = hello_quantum.run_game(initialize, success_condition, allowed_gates, vi, qubit_names)"
   ]
  },
  {
   "cell_type": "code",
   "execution_count": 17,
   "metadata": {},
   "outputs": [
    {
     "data": {
      "image/png": "[encoded data removed]",
      "text/plain": [
       "<Figure size 86.452x204.68 with 1 Axes>"
      ]
     },
     "execution_count": 17,
     "metadata": {},
     "output_type": "execute_result"
    }
   ],
   "source": [
    "puzzle.get_circuit().draw(output='mpl')"
   ]
  },
  {
   "cell_type": "markdown",
   "metadata": {},
   "source": [
    "## パズル 8\n",
    "\n",
    "### イントロダクション・導入\n",
    "Zの結果がすべてオンかオフの時に、Xの結果がいつもランダムであることに気が付いているかもしれません。\n",
    "なぜなら、これは量子ビット同時にそれぞれの種類の結果を確信できないからだからかもしれません。\n",
    "もし１つについて確信するときは、ほかのものもランダムに違いないものであります。\n",
    "\n",
    "もしこれがtrueでなければ、２ビットを蓄えるために、ZとXの結果を使うことができるでしょう。\n",
    "量子ビットが持っているものよりもこれはより記憶しやすいものです。\n",
    "複数の方法で出した結果を取り出した真実であるのにも関わらず、それにもかかわらず、\n",
    "1量子ビットを1ビット以上のものをしまっておくことは許可しないでしょう。\n",
    "\n",
    "### 練習問題\n",
    "*  Xの結果をオフにしてZの結果をランダムにしてみましょう。"
   ]
  },
  {
   "cell_type": "code",
   "execution_count": 18,
   "metadata": {},
   "outputs": [
    {
     "data": {
      "application/vnd.jupyter.widget-view+json": {
       "model_id": "3419fa0b44cb49d1940d18ffe6b7bfd0",
       "version_major": 2,
       "version_minor": 0
      },
      "text/plain": [
       "Image(value=b'\\x89PNG\\r\\n\\x1a\\n\\x00\\x00\\x00\\rIHDR\\x00\\x00\\x01\\xb0\\x00\\x00\\x01\\xb0\\x08\\x06\\x00\\x00\\x00\\xc8N0*\\x…"
      ]
     },
     "metadata": {},
     "output_type": "display_data"
    },
    {
     "data": {
      "application/vnd.jupyter.widget-view+json": {
       "model_id": "806cc4f6c09149b3907bd04ff46302b6",
       "version_major": 2,
       "version_minor": 0
      },
      "text/plain": [
       "VBox(children=(ToggleButtons(options=('Choose gate', 'z', 'h'), value='Choose gate'), ToggleButtons(options=('…"
      ]
     },
     "metadata": {},
     "output_type": "display_data"
    },
    {
     "name": "stdout",
     "output_type": "stream",
     "text": [
      "\n",
      "Your quantum program so far:\n",
      "\n",
      "    q = QuantumRegister(2)\n",
      "    b = ClassicalRegister(2)\n",
      "    qc = QuantumCircuit(q,b)\n",
      "\n"
     ]
    }
   ],
   "source": [
    "initialize = [['h', '0']]\n",
    "success_condition = {'IX': 1.0}\n",
    "allowed_gates = {'0': {}, '1': {'z': 0, 'h': 0}, 'both': {}}\n",
    "vi = [[0], True, True]\n",
    "qubit_names = {'0':'q[0]', '1':'q[1]'}\n",
    "puzzle = hello_quantum.run_game(initialize, success_condition, allowed_gates, vi, qubit_names)"
   ]
  },
  {
   "cell_type": "code",
   "execution_count": 19,
   "metadata": {
    "scrolled": true
   },
   "outputs": [
    {
     "data": {
      "image/png": "[encoded data removed]",
      "text/plain": [
       "<Figure size 86.452x204.68 with 1 Axes>"
      ]
     },
     "execution_count": 19,
     "metadata": {},
     "output_type": "execute_result"
    }
   ],
   "source": [
    "puzzle.get_circuit().draw(output='mpl')"
   ]
  },
  {
   "cell_type": "markdown",
   "metadata": {},
   "source": [
    "## パズル 9\n",
    "\n",
    "### イントロダクション・導入\n",
    "その制限された事実は２つの結果で共有することができます。例えば、両方の結果によって確証できないかもしれないが、\n",
    "それらが与えた結果についての確証を妥協するでしょう。\n",
    "\n",
    "灰色の異なった影を使うことのよってこれは可視化されるでしょう。\n",
    "より円が暗くなるにつれて、その結果は`0`になるかもしれません。\n",
    "より円が明るくなるにつれて、その結果は`1`になるかもしれません。\n",
    "\n",
    "### 練習問題\n",
    "* 明るい灰色の両方で`q[1]`の２つの円を作りましょう。\n",
    "これは、より高いものでしょう、しかし各自に結果が`1`として、出てくるものではないです。"
   ]
  },
  {
   "cell_type": "code",
   "execution_count": 20,
   "metadata": {},
   "outputs": [
    {
     "data": {
      "application/vnd.jupyter.widget-view+json": {
       "model_id": "9afc5e18d8f7486a90064f4c50ec6c0d",
       "version_major": 2,
       "version_minor": 0
      },
      "text/plain": [
       "Image(value=b'\\x89PNG\\r\\n\\x1a\\n\\x00\\x00\\x00\\rIHDR\\x00\\x00\\x01\\xb0\\x00\\x00\\x01\\xb0\\x08\\x06\\x00\\x00\\x00\\xc8N0*\\x…"
      ]
     },
     "metadata": {},
     "output_type": "display_data"
    },
    {
     "data": {
      "application/vnd.jupyter.widget-view+json": {
       "model_id": "169930a1cbfa4eb1a1e8ccc798a2aa44",
       "version_major": 2,
       "version_minor": 0
      },
      "text/plain": [
       "VBox(children=(ToggleButtons(options=('Choose gate', 'z', 'h'), value='Choose gate'), ToggleButtons(options=('…"
      ]
     },
     "metadata": {},
     "output_type": "display_data"
    },
    {
     "name": "stdout",
     "output_type": "stream",
     "text": [
      "\n",
      "Your quantum program so far:\n",
      "\n",
      "    q = QuantumRegister(2)\n",
      "    b = ClassicalRegister(2)\n",
      "    qc = QuantumCircuit(q,b)\n",
      "\n"
     ]
    }
   ],
   "source": [
    "\n",
    "initialize = [['ry(pi/4)', '1']]\n",
    "success_condition = {'IZ': -0.7071, 'IX': -0.7071}\n",
    "allowed_gates = {'0': {}, '1': {'z': 0, 'h': 0}, 'both': {}}\n",
    "vi = [[0], True, True]\n",
    "qubit_names = {'0':'q[0]', '1':'q[1]'}\n",
    "puzzle = hello_quantum.run_game(initialize, success_condition, allowed_gates, vi, qubit_names)"
   ]
  },
  {
   "cell_type": "code",
   "execution_count": 21,
   "metadata": {},
   "outputs": [
    {
     "data": {
      "image/png": "[encoded data removed]",
      "text/plain": [
       "<Figure size 86.452x204.68 with 1 Axes>"
      ]
     },
     "execution_count": 21,
     "metadata": {},
     "output_type": "execute_result"
    }
   ],
   "source": [
    "puzzle.get_circuit().draw(output='mpl')"
   ]
  },
  {
   "cell_type": "markdown",
   "metadata": {},
   "source": [
    "## パズル 10\n",
    "\n",
    "### イントロダクション・導入\n",
    "あなたが基本的なツールを知っていく中で、すぐに量子ビットの両方に取り組むことができるでしょう。\n",
    "\n",
    "### 練習問題\n",
    "*  Zの結果をランダムに作り出しましょう。"
   ]
  },
  {
   "cell_type": "code",
   "execution_count": 22,
   "metadata": {},
   "outputs": [
    {
     "data": {
      "application/vnd.jupyter.widget-view+json": {
       "model_id": "75b1a219ea5f41a38a120e174c004590",
       "version_major": 2,
       "version_minor": 0
      },
      "text/plain": [
       "Image(value=b'\\x89PNG\\r\\n\\x1a\\n\\x00\\x00\\x00\\rIHDR\\x00\\x00\\x01\\xb0\\x00\\x00\\x01\\xb0\\x08\\x06\\x00\\x00\\x00\\xc8N0*\\x…"
      ]
     },
     "metadata": {},
     "output_type": "display_data"
    },
    {
     "data": {
      "application/vnd.jupyter.widget-view+json": {
       "model_id": "5fba73a94aaf433ab5249bea62ab0824",
       "version_major": 2,
       "version_minor": 0
      },
      "text/plain": [
       "VBox(children=(ToggleButtons(options=('Choose gate', 'x', 'z', 'h'), value='Choose gate'), ToggleButtons(optio…"
      ]
     },
     "metadata": {},
     "output_type": "display_data"
    },
    {
     "name": "stdout",
     "output_type": "stream",
     "text": [
      "\n",
      "Your quantum program so far:\n",
      "\n",
      "    q = QuantumRegister(2)\n",
      "    b = ClassicalRegister(2)\n",
      "    qc = QuantumCircuit(q,b)\n",
      "\n"
     ]
    }
   ],
   "source": [
    "initialize = [['x', '1']]\n",
    "success_condition = {'ZI': 0.0, 'IZ': 0.0}\n",
    "allowed_gates = {'0': {'x': 0, 'z': 0, 'h': 0}, '1': {'x': 0, 'z': 0, 'h': 0}, 'both': {}}\n",
    "vi = [[], True, False]\n",
    "qubit_names = {'0':'q[0]', '1':'q[1]'}\n",
    "puzzle = hello_quantum.run_game(initialize, success_condition, allowed_gates, vi, qubit_names)"
   ]
  },
  {
   "cell_type": "code",
   "execution_count": 23,
   "metadata": {},
   "outputs": [
    {
     "data": {
      "image/png": "[encoded data removed]",
      "text/plain": [
       "<Figure size 86.452x204.68 with 1 Axes>"
      ]
     },
     "execution_count": 23,
     "metadata": {},
     "output_type": "execute_result"
    }
   ],
   "source": [
    "puzzle.get_circuit().draw(output='mpl')"
   ]
  },
  {
   "cell_type": "markdown",
   "metadata": {},
   "source": [
    "### アウトロ・終結\n",
    "\n",
    "ここでのそれぞれのZの結果はランダムに`0`か`1`の結果を出すものでしょう。しかし、これらの結果は関係しているでしょうか？\n",
    "完全に無関係でしょうか？\n",
    "ビットの時と同じように、いくつかの余分な円でこの情報を管理していきます。"
   ]
  },
  {
   "cell_type": "markdown",
   "metadata": {},
   "source": [
    "### パズル 11\n",
    "\n",
    "### イントロダクション・導入\n",
    "このパズルでは、４つの新しい円がわかるでしょう。すでにレベル１で見たものもあります。\n",
    "そこで、その2ビットの値が一致（黒）か不一致（白）かの追跡をするであろう。\n",
    "ここで、両方の量子ビットでZの結果が同じ仕事にいるでしょう。\n",
    "\n",
    "### 練習問題\n",
    "\n",
    "*  Zの結果が不一致の状況を作ってみましょう。"
   ]
  },
  {
   "cell_type": "code",
   "execution_count": 24,
   "metadata": {},
   "outputs": [
    {
     "data": {
      "application/vnd.jupyter.widget-view+json": {
       "model_id": "3009e0f5bdc0419bb09481b22db7d70b",
       "version_major": 2,
       "version_minor": 0
      },
      "text/plain": [
       "Image(value=b'\\x89PNG\\r\\n\\x1a\\n\\x00\\x00\\x00\\rIHDR\\x00\\x00\\x01\\xb0\\x00\\x00\\x01\\xb0\\x08\\x06\\x00\\x00\\x00\\xc8N0*\\x…"
      ]
     },
     "metadata": {},
     "output_type": "display_data"
    },
    {
     "data": {
      "application/vnd.jupyter.widget-view+json": {
       "model_id": "88b2356df80a479cb0d8de908622b9de",
       "version_major": 2,
       "version_minor": 0
      },
      "text/plain": [
       "VBox(children=(ToggleButtons(options=('Choose gate', 'x', 'z', 'h'), value='Choose gate'), ToggleButtons(optio…"
      ]
     },
     "metadata": {},
     "output_type": "display_data"
    },
    {
     "name": "stdout",
     "output_type": "stream",
     "text": [
      "\n",
      "Your quantum program so far:\n",
      "\n",
      "    q = QuantumRegister(2)\n",
      "    b = ClassicalRegister(2)\n",
      "    qc = QuantumCircuit(q,b)\n",
      "\n"
     ]
    }
   ],
   "source": [
    "initialize = [['h','0'],['h','1']]\n",
    "success_condition = {'ZZ': -1.0}\n",
    "allowed_gates = {'0': {'x': 0, 'z': 0, 'h': 0}, '1': {'x': 0, 'z': 0, 'h': 0}, 'both': {}}\n",
    "vi = [[], True, True]\n",
    "qubit_names = {'0':'q[0]', '1':'q[1]'}\n",
    "puzzle = hello_quantum.run_game(initialize, success_condition, allowed_gates, vi, qubit_names)"
   ]
  },
  {
   "cell_type": "code",
   "execution_count": 25,
   "metadata": {},
   "outputs": [
    {
     "data": {
      "image/png": "[encoded data removed]",
      "text/plain": [
       "<Figure size 86.452x204.68 with 1 Axes>"
      ]
     },
     "execution_count": 25,
     "metadata": {},
     "output_type": "execute_result"
    }
   ],
   "source": [
    "puzzle.get_circuit().draw(output='mpl')"
   ]
  },
  {
   "cell_type": "markdown",
   "metadata": {},
   "source": [
    "## パズル 12\n",
    "\n",
    "### イントロダクション・導入\n",
    "そのトップの新しい円は似ている仕事です。このケースでは、両方の量子ビットのXの結果で一致か不一致の可能性を追跡します。\n",
    "\n",
    "### 練習問題\n",
    "*  一致するようなXの結果を作り出してみましょう。"
   ]
  },
  {
   "cell_type": "code",
   "execution_count": 26,
   "metadata": {},
   "outputs": [
    {
     "data": {
      "application/vnd.jupyter.widget-view+json": {
       "model_id": "bda236f2a3a9441e93d00caa3f6a4407",
       "version_major": 2,
       "version_minor": 0
      },
      "text/plain": [
       "Image(value=b'\\x89PNG\\r\\n\\x1a\\n\\x00\\x00\\x00\\rIHDR\\x00\\x00\\x01\\xb0\\x00\\x00\\x01\\xb0\\x08\\x06\\x00\\x00\\x00\\xc8N0*\\x…"
      ]
     },
     "metadata": {},
     "output_type": "display_data"
    },
    {
     "data": {
      "application/vnd.jupyter.widget-view+json": {
       "model_id": "47ec0d1ae62f40778d630c095635fbae",
       "version_major": 2,
       "version_minor": 0
      },
      "text/plain": [
       "VBox(children=(ToggleButtons(options=('Choose gate', 'x', 'z', 'h'), value='Choose gate'), ToggleButtons(optio…"
      ]
     },
     "metadata": {},
     "output_type": "display_data"
    },
    {
     "name": "stdout",
     "output_type": "stream",
     "text": [
      "\n",
      "Your quantum program so far:\n",
      "\n",
      "    q = QuantumRegister(2)\n",
      "    b = ClassicalRegister(2)\n",
      "    qc = QuantumCircuit(q,b)\n",
      "\n"
     ]
    }
   ],
   "source": [
    "initialize = [['x','0']]\n",
    "success_condition = {'XX': 1.0}\n",
    "allowed_gates = {'0': {'x': 0, 'z': 0, 'h': 0}, '1': {'x': 0, 'z': 0, 'h': 0}, 'both': {}}\n",
    "vi = [[], True, True]\n",
    "qubit_names = {'0':'q[0]', '1':'q[1]'}\n",
    "puzzle = hello_quantum.run_game(initialize, success_condition, allowed_gates, vi, qubit_names)"
   ]
  },
  {
   "cell_type": "code",
   "execution_count": 27,
   "metadata": {},
   "outputs": [
    {
     "data": {
      "image/png": "[encoded data removed]",
      "text/plain": [
       "<Figure size 86.452x204.68 with 1 Axes>"
      ]
     },
     "execution_count": 27,
     "metadata": {},
     "output_type": "execute_result"
    }
   ],
   "source": [
    "puzzle.get_circuit().draw(output='mpl')"
   ]
  },
  {
   "cell_type": "markdown",
   "metadata": {},
   "source": [
    "### アウトロ・終結\n",
    "もしこの情報で出てきたものはまさに新しい円であることの理由を考えるならば、\n",
    "ある量子ビットのX出力から一行が伸びていて、もう一行が他の量子ビットのX出力から出ていることを考えてみてください。\n",
    "一番の円は2列が重なっているところにあります。これは、２つのX出力の間の一致が出現する理由です。"
   ]
  },
  {
   "cell_type": "markdown",
   "metadata": {},
   "source": [
    "### パズル13\n",
    "\n",
    "### イントロダクション・導入\n",
    "すでに説明するための２つの新しい円があります。１つは`q[0]`からのZ出力の列が`q[1]`からのX出力の列にある。これは`q[0]`のZ出力が`q[1]`からのX出力に一致しうるかどうかを示します。`q[0]`のX出力と`q[1]`出力においては、ほかのものは同じです。\n",
    "\n",
    "### 練習問題\n",
    "* `q[1]`のZ出力と不一致な`q[0]`のX出力を作ってみましょう。"
   ]
  },
  {
   "cell_type": "code",
   "execution_count": 28,
   "metadata": {},
   "outputs": [
    {
     "data": {
      "application/vnd.jupyter.widget-view+json": {
       "model_id": "6b8469117cb24df8b77b2e6468c8bd74",
       "version_major": 2,
       "version_minor": 0
      },
      "text/plain": [
       "Image(value=b'\\x89PNG\\r\\n\\x1a\\n\\x00\\x00\\x00\\rIHDR\\x00\\x00\\x01\\xb0\\x00\\x00\\x01\\xb0\\x08\\x06\\x00\\x00\\x00\\xc8N0*\\x…"
      ]
     },
     "metadata": {},
     "output_type": "display_data"
    },
    {
     "data": {
      "application/vnd.jupyter.widget-view+json": {
       "model_id": "9d9d32bf7e2e4227b102211c4ebd950e",
       "version_major": 2,
       "version_minor": 0
      },
      "text/plain": [
       "VBox(children=(ToggleButtons(options=('Choose gate', 'x', 'z', 'h'), value='Choose gate'), ToggleButtons(optio…"
      ]
     },
     "metadata": {},
     "output_type": "display_data"
    },
    {
     "name": "stdout",
     "output_type": "stream",
     "text": [
      "\n",
      "Your quantum program so far:\n",
      "\n",
      "    q = QuantumRegister(2)\n",
      "    b = ClassicalRegister(2)\n",
      "    qc = QuantumCircuit(q,b)\n",
      "\n"
     ]
    }
   ],
   "source": [
    "initialize = []\n",
    "success_condition = {'XZ': -1.0}\n",
    "allowed_gates = {'0': {'x': 0, 'z': 0, 'h': 0}, '1': {'x': 0, 'z': 0, 'h': 0}, 'both': {}}\n",
    "vi = [[], True, True]\n",
    "qubit_names = {'0':'q[0]', '1':'q[1]'}\n",
    "puzzle = hello_quantum.run_game(initialize, success_condition, allowed_gates, vi, qubit_names)"
   ]
  },
  {
   "cell_type": "code",
   "execution_count": 29,
   "metadata": {},
   "outputs": [
    {
     "data": {
      "image/png": "[encoded data removed]",
      "text/plain": [
       "<Figure size 86.452x204.68 with 1 Axes>"
      ]
     },
     "execution_count": 29,
     "metadata": {},
     "output_type": "execute_result"
    }
   ],
   "source": [
    "puzzle.get_circuit().draw(output='mpl')"
   ]
  },
  {
   "cell_type": "markdown",
   "metadata": {},
   "source": [
    "### パズル 14\n",
    "\n",
    "### イントロダクション・導入\n",
    "`X`と`Z`ゲートは新しい円に影響する方法に気が付きましょう。特に`X`ゲートは単純な`Z`ゲートに影響しません。しかしすべての列ではないです。\n",
    "ただ黒と白（または暗いものと明るいもの）の円とを反転するでしょう。また、その逆もあるでしょう。\n",
    "\n",
    "### 練習問題\n",
    "*  できるかぎりのZの出力をしてみましょう。"
   ]
  },
  {
   "cell_type": "code",
   "execution_count": 30,
   "metadata": {},
   "outputs": [
    {
     "data": {
      "application/vnd.jupyter.widget-view+json": {
       "model_id": "9d2c4b10b6604c11ace9990352fb9dc0",
       "version_major": 2,
       "version_minor": 0
      },
      "text/plain": [
       "Image(value=b'\\x89PNG\\r\\n\\x1a\\n\\x00\\x00\\x00\\rIHDR\\x00\\x00\\x01\\xb0\\x00\\x00\\x01\\xb0\\x08\\x06\\x00\\x00\\x00\\xc8N0*\\x…"
      ]
     },
     "metadata": {},
     "output_type": "display_data"
    },
    {
     "data": {
      "application/vnd.jupyter.widget-view+json": {
       "model_id": "55f122fc51ab4ac8bbfa3b7a92bf3bd2",
       "version_major": 2,
       "version_minor": 0
      },
      "text/plain": [
       "VBox(children=(ToggleButtons(options=('Choose gate', 'x'), value='Choose gate'), ToggleButtons(options=('',), …"
      ]
     },
     "metadata": {},
     "output_type": "display_data"
    },
    {
     "name": "stdout",
     "output_type": "stream",
     "text": [
      "\n",
      "Your quantum program so far:\n",
      "\n",
      "    q = QuantumRegister(2)\n",
      "    b = ClassicalRegister(2)\n",
      "    qc = QuantumCircuit(q,b)\n",
      "\n"
     ]
    }
   ],
   "source": [
    "initialize = [['ry(-pi/4)', '1'], ['ry(-pi/4)','0']]\n",
    "success_condition = {'ZI': -0.7071, 'IZ': -0.7071}\n",
    "allowed_gates = {'0': {'x': 0}, '1': {'x': 0}, 'both': {}}\n",
    "vi = [[], True, True]\n",
    "qubit_names = {'0':'q[0]', '1':'q[1]'}\n",
    "puzzle = hello_quantum.run_game(initialize, success_condition, allowed_gates, vi, qubit_names)"
   ]
  },
  {
   "cell_type": "code",
   "execution_count": 31,
   "metadata": {},
   "outputs": [
    {
     "data": {
      "image/png": "[encoded data removed]",
      "text/plain": [
       "<Figure size 86.452x204.68 with 1 Axes>"
      ]
     },
     "execution_count": 31,
     "metadata": {},
     "output_type": "execute_result"
    }
   ],
   "source": [
    "puzzle.get_circuit().draw(output='mpl')"
   ]
  },
  {
   "cell_type": "markdown",
   "metadata": {},
   "source": [
    "### アウトロ・終結\n",
    "次のパズルを見ていきながら、`Z`ゲートは同じような方法でX出力の列に影響します。"
   ]
  },
  {
   "cell_type": "markdown",
   "metadata": {},
   "source": [
    "## パズル 15\n",
    "\n",
    "### イントロダクション・導入\n",
    "以前、`H`ゲートは円のペアを反転する方法を示したでしょう。：同じ方法でそのペアに影響するまで、その円のペアは反転します。\n",
    "再度、素晴らしいアニメーションの[Hello Quantum](https://helloquantum.mybluemix.net/)アプリケーションを確かめてみてください。\n",
    "\n",
    "### 練習問題\n",
    "*  X出力をオフしてみましょう。"
   ]
  },
  {
   "cell_type": "code",
   "execution_count": 32,
   "metadata": {},
   "outputs": [
    {
     "data": {
      "application/vnd.jupyter.widget-view+json": {
       "model_id": "2213d21ccf2e40d2961416a04cf8b371",
       "version_major": 2,
       "version_minor": 0
      },
      "text/plain": [
       "Image(value=b'\\x89PNG\\r\\n\\x1a\\n\\x00\\x00\\x00\\rIHDR\\x00\\x00\\x01\\xb0\\x00\\x00\\x01\\xb0\\x08\\x06\\x00\\x00\\x00\\xc8N0*\\x…"
      ]
     },
     "metadata": {},
     "output_type": "display_data"
    },
    {
     "data": {
      "application/vnd.jupyter.widget-view+json": {
       "model_id": "c1f75586e88f41a3bb5434f814baaa79",
       "version_major": 2,
       "version_minor": 0
      },
      "text/plain": [
       "VBox(children=(ToggleButtons(options=('Choose gate', 'z', 'h'), value='Choose gate'), ToggleButtons(options=('…"
      ]
     },
     "metadata": {},
     "output_type": "display_data"
    },
    {
     "name": "stdout",
     "output_type": "stream",
     "text": [
      "\n",
      "Your quantum program so far:\n",
      "\n",
      "    q = QuantumRegister(2)\n",
      "    b = ClassicalRegister(2)\n",
      "    qc = QuantumCircuit(q,b)\n",
      "\n"
     ]
    }
   ],
   "source": [
    "initialize = [['x', '1'], ['x','0']]\n",
    "success_condition = {'XI':1, 'IX':1}\n",
    "allowed_gates = {'0': {'z': 0, 'h': 0}, '1': {'z': 0, 'h': 0}, 'both': {}}\n",
    "vi = [[], True, True]\n",
    "qubit_names = {'0':'q[0]', '1':'q[1]'}\n",
    "puzzle = hello_quantum.run_game(initialize, success_condition, allowed_gates, vi, qubit_names)"
   ]
  },
  {
   "cell_type": "code",
   "execution_count": 33,
   "metadata": {},
   "outputs": [
    {
     "data": {
      "image/png": "[encoded data removed]",
      "text/plain": [
       "<Figure size 86.452x204.68 with 1 Axes>"
      ]
     },
     "execution_count": 33,
     "metadata": {},
     "output_type": "execute_result"
    }
   ],
   "source": [
    "puzzle.get_circuit().draw(output='mpl')"
   ]
  },
  {
   "cell_type": "markdown",
   "metadata": {},
   "source": [
    "### 結果\n",
    "これで、2つの量子ビットがどのようなものか、そしてそれらを個別に操作する方法についての基本的なことは理解できたでしょう。\n",
    "しかし、2つの量子ビットゲートを使い始めると、本当の面白さが出てきます。"
   ]
  },
  {
   "cell_type": "markdown",
   "metadata": {},
   "source": [
    "# レベル 3: ２量子ビットのゲート"
   ]
  },
  {
   "cell_type": "markdown",
   "metadata": {},
   "source": [
    "### パズル 1\n",
    "\n",
    "### イントロダクション・導入\n",
    "ビットの練習問題では、`CNOT`ゲートを使いました。このような理由から、それを`CX`として、Qiskitプログラムに\n",
    "qubitsについては、`NOT`の量子バージョンである`X`を用いて、同様のゲートを持ちます。\n",
    "古典の`CNOT`ゲートのような`CX`ゲートは制御とターゲットを持ちます。\n",
    "それはZの出力結果が制御するためのもので、それはターゲットの量子ビットを`X`ゲートに対応するかどうかを決めるのに使うのに効果的でしょう。\n",
    "このゲートを適用すると、その選択した量子ビットはターゲットになります。それから、他の量子ビットは制御されるでしょう。\n",
    "\n",
    "###  練習問題\n",
    "\n",
    "* 　　q[1]のZの出力をオンするために、また、q[0]のZ出力をオフするために`CX`ゲートか２つものを使いましょう。"
   ]
  },
  {
   "cell_type": "code",
   "execution_count": 34,
   "metadata": {
    "scrolled": false
   },
   "outputs": [
    {
     "data": {
      "application/vnd.jupyter.widget-view+json": {
       "model_id": "be58827bcbe34586b2b3d561bbbc7402",
       "version_major": 2,
       "version_minor": 0
      },
      "text/plain": [
       "Image(value=b'\\x89PNG\\r\\n\\x1a\\n\\x00\\x00\\x00\\rIHDR\\x00\\x00\\x01\\xb0\\x00\\x00\\x01\\xb0\\x08\\x06\\x00\\x00\\x00\\xc8N0*\\x…"
      ]
     },
     "metadata": {},
     "output_type": "display_data"
    },
    {
     "data": {
      "application/vnd.jupyter.widget-view+json": {
       "model_id": "8331decde5734350ae0585ba1b8977db",
       "version_major": 2,
       "version_minor": 0
      },
      "text/plain": [
       "VBox(children=(ToggleButtons(options=('Choose gate', 'cx'), value='Choose gate'), ToggleButtons(options=('',),…"
      ]
     },
     "metadata": {},
     "output_type": "display_data"
    },
    {
     "name": "stdout",
     "output_type": "stream",
     "text": [
      "\n",
      "Your quantum program so far:\n",
      "\n",
      "    q = QuantumRegister(2)\n",
      "    b = ClassicalRegister(2)\n",
      "    qc = QuantumCircuit(q,b)\n",
      "\n"
     ]
    }
   ],
   "source": [
    "initialize = [['x', '0']]\n",
    "success_condition = {'ZI': 1.0, 'IZ': -1.0}\n",
    "allowed_gates = {'0': {'cx': 0}, '1': {'cx': 0}, 'both': {}}\n",
    "vi = [[], True, True]\n",
    "qubit_names = {'0':'q[0]', '1':'q[1]'}\n",
    "puzzle = hello_quantum.run_game(initialize, success_condition, allowed_gates, vi, qubit_names)"
   ]
  },
  {
   "cell_type": "code",
   "execution_count": 35,
   "metadata": {},
   "outputs": [
    {
     "data": {
      "image/png": "[encoded data removed]",
      "text/plain": [
       "<Figure size 86.452x204.68 with 1 Axes>"
      ]
     },
     "execution_count": 35,
     "metadata": {},
     "output_type": "execute_result"
    }
   ],
   "source": [
    "puzzle.get_circuit().draw(output='mpl')"
   ]
  },
  {
   "cell_type": "markdown",
   "metadata": {},
   "source": [
    "## Puzzle 2\n",
    "\n",
    "### イントロダクション・導入\n",
    "`CX`ゲートと同様に、それもまた`CZ`ゲートがあります。これは`X`ゲートの代わりにターゲットを潜在的に`Z`ゲートに対応することを除いて、\n",
    "同じです。\n",
    "\n",
    "###  練習問題\n",
    "*  q[0]のX出力をオンをして、q[1]のZ出力をオフします。"
   ]
  },
  {
   "cell_type": "code",
   "execution_count": 36,
   "metadata": {},
   "outputs": [
    {
     "data": {
      "application/vnd.jupyter.widget-view+json": {
       "model_id": "8b5a36304f484026a254a146454c29f2",
       "version_major": 2,
       "version_minor": 0
      },
      "text/plain": [
       "Image(value=b'\\x89PNG\\r\\n\\x1a\\n\\x00\\x00\\x00\\rIHDR\\x00\\x00\\x01\\xb0\\x00\\x00\\x01\\xb0\\x08\\x06\\x00\\x00\\x00\\xc8N0*\\x…"
      ]
     },
     "metadata": {},
     "output_type": "display_data"
    },
    {
     "data": {
      "application/vnd.jupyter.widget-view+json": {
       "model_id": "2ce412a013ef4f9fa73a0a6905db3193",
       "version_major": 2,
       "version_minor": 0
      },
      "text/plain": [
       "VBox(children=(ToggleButtons(options=('Choose gate', 'cz'), value='Choose gate'), ToggleButtons(options=('',),…"
      ]
     },
     "metadata": {},
     "output_type": "display_data"
    },
    {
     "name": "stdout",
     "output_type": "stream",
     "text": [
      "\n",
      "Your quantum program so far:\n",
      "\n",
      "    q = QuantumRegister(2)\n",
      "    b = ClassicalRegister(2)\n",
      "    qc = QuantumCircuit(q,b)\n",
      "\n"
     ]
    }
   ],
   "source": [
    "initialize = [['h', '0'],['x', '1']]\n",
    "success_condition = {'XI': -1.0, 'IZ': 1.0}\n",
    "allowed_gates = {'0': {'cz': 0}, '1': {}, 'both': {}}\n",
    "vi = [[], True, True]\n",
    "qubit_names = {'0':'q[0]', '1':'q[1]'}\n",
    "puzzle = hello_quantum.run_game(initialize, success_condition, allowed_gates, vi, qubit_names)"
   ]
  },
  {
   "cell_type": "code",
   "execution_count": 37,
   "metadata": {},
   "outputs": [
    {
     "data": {
      "image/png": "[encoded data removed]",
      "text/plain": [
       "<Figure size 86.452x204.68 with 1 Axes>"
      ]
     },
     "execution_count": 37,
     "metadata": {},
     "output_type": "execute_result"
    }
   ],
   "source": [
    "puzzle.get_circuit().draw(output='mpl')"
   ]
  },
  {
   "cell_type": "markdown",
   "metadata": {},
   "source": [
    "## パズル 2b\n",
    "\n",
    "### イントロダクション・導入\n",
    "その量子ゲートについての興味深いことは、しばしばそれらが行っていることを説明する複数の方法です。\n",
    "これらの説明はたまに完全に不完全であるかもしれませんが、それもまたほとんど正しいことです。\n",
    "例えば、`CZ`ゲートもまた、*ターゲット*のZ出力に依存して、*制御*量子ビットに対応したゲートとして記述されうるでしょう。\n",
    "前と全く同じ説明だが、量子ビットの役割が逆になっている。\n",
    "しかしながら、これはほとんどtrueです。\n",
    "\n",
    "###  練習問題\n",
    "* 最後の練習問題の同じものとして、量子ビットを取っておくでしょう。"
   ]
  },
  {
   "cell_type": "code",
   "execution_count": 38,
   "metadata": {},
   "outputs": [
    {
     "data": {
      "application/vnd.jupyter.widget-view+json": {
       "model_id": "6d99673019d04e9dbc849bef9ad437d5",
       "version_major": 2,
       "version_minor": 0
      },
      "text/plain": [
       "Image(value=b'\\x89PNG\\r\\n\\x1a\\n\\x00\\x00\\x00\\rIHDR\\x00\\x00\\x01\\xb0\\x00\\x00\\x01\\xb0\\x08\\x06\\x00\\x00\\x00\\xc8N0*\\x…"
      ]
     },
     "metadata": {},
     "output_type": "display_data"
    },
    {
     "data": {
      "application/vnd.jupyter.widget-view+json": {
       "model_id": "517536ef34f4490ca1f3cc78e9103ae6",
       "version_major": 2,
       "version_minor": 0
      },
      "text/plain": [
       "VBox(children=(ToggleButtons(options=('Choose gate', 'cz'), value='Choose gate'), ToggleButtons(options=('',),…"
      ]
     },
     "metadata": {},
     "output_type": "display_data"
    },
    {
     "name": "stdout",
     "output_type": "stream",
     "text": [
      "\n",
      "Your quantum program so far:\n",
      "\n",
      "    q = QuantumRegister(2)\n",
      "    b = ClassicalRegister(2)\n",
      "    qc = QuantumCircuit(q,b)\n",
      "\n"
     ]
    }
   ],
   "source": [
    "initialize = [['h', '1'],['x', '0']]\n",
    "success_condition = {'IX': -1.0, 'ZI': 1.0}\n",
    "allowed_gates = {'0': {}, '1': {'cz': 0}, 'both': {}}\n",
    "vi = [[], True, True]\n",
    "qubit_names = {'0':'q[0]', '1':'q[1]'}\n",
    "puzzle = hello_quantum.run_game(initialize, success_condition, allowed_gates, vi, qubit_names)"
   ]
  },
  {
   "cell_type": "code",
   "execution_count": 39,
   "metadata": {},
   "outputs": [
    {
     "data": {
      "image/png": "[encoded data removed]",
      "text/plain": [
       "<Figure size 86.452x204.68 with 1 Axes>"
      ]
     },
     "execution_count": 39,
     "metadata": {},
     "output_type": "execute_result"
    }
   ],
   "source": [
    "puzzle.get_circuit().draw(output='mpl')"
   ]
  },
  {
   "cell_type": "markdown",
   "metadata": {},
   "source": [
    "## パズル 3\n",
    "\n",
    "### イントロダクション・導入\n",
    "さて、全く異なる、しかし同じようにtrueである、`CZ`の別の説明をします。\n",
    "`H`ゲートのように、私たちは円を反転させる面ではそのことについて考えます。\n",
    "その`CZ`ゲートが以下のことに影響します。：\n",
    "    -トップの右の隣の円を`q[0]`のX出力を交換します。;\n",
    "    -トップの左の円について、`q[1]`のX出力で同じにします。;\n",
    "また、`CZ`はグリッドの上部にある円に何か不思議なことをしますが、それは後で解決される謎です。\n",
    "再度、the [Hello Quantum](https://helloquantum.mybluemix.net/)のアプリは素晴らしいアニメーションを見せてくれるでしょう。\n",
    "\n",
    "###  練習問題\n",
    "*  制御したそれぞれの量子ビットに2回`CZ`ゲートを実行しましょう。そして、何が起こるのかを確かめましょう。"
   ]
  },
  {
   "cell_type": "code",
   "execution_count": 40,
   "metadata": {
    "scrolled": false
   },
   "outputs": [
    {
     "data": {
      "application/vnd.jupyter.widget-view+json": {
       "model_id": "d2d3949c52b543fca54d931861642855",
       "version_major": 2,
       "version_minor": 0
      },
      "text/plain": [
       "Image(value=b'\\x89PNG\\r\\n\\x1a\\n\\x00\\x00\\x00\\rIHDR\\x00\\x00\\x01\\xb0\\x00\\x00\\x01\\xb0\\x08\\x06\\x00\\x00\\x00\\xc8N0*\\x…"
      ]
     },
     "metadata": {},
     "output_type": "display_data"
    },
    {
     "data": {
      "application/vnd.jupyter.widget-view+json": {
       "model_id": "4b4221ee33a64cf8a14daf4f842c660f",
       "version_major": 2,
       "version_minor": 0
      },
      "text/plain": [
       "VBox(children=(ToggleButtons(options=('Choose gate', 'cz'), value='Choose gate'), ToggleButtons(options=('',),…"
      ]
     },
     "metadata": {},
     "output_type": "display_data"
    },
    {
     "name": "stdout",
     "output_type": "stream",
     "text": [
      "\n",
      "Your quantum program so far:\n",
      "\n",
      "    q = QuantumRegister(2)\n",
      "    b = ClassicalRegister(2)\n",
      "    qc = QuantumCircuit(q,b)\n",
      "\n"
     ]
    }
   ],
   "source": [
    "initialize = [['h', '0'],['x', '1'],['h', '1']]\n",
    "success_condition = { }\n",
    "allowed_gates = {'0':{'cz': 2}, '1':{'cz': 2}, 'both': {}}\n",
    "vi = [[], True, True]\n",
    "qubit_names = {'0':'q[0]', '1':'q[1]'}\n",
    "puzzle = hello_quantum.run_game(initialize, success_condition, allowed_gates, vi, qubit_names)"
   ]
  },
  {
   "cell_type": "code",
   "execution_count": 41,
   "metadata": {},
   "outputs": [
    {
     "data": {
      "image/png": "[encoded data removed]",
      "text/plain": [
       "<Figure size 86.452x204.68 with 1 Axes>"
      ]
     },
     "execution_count": 41,
     "metadata": {},
     "output_type": "execute_result"
    }
   ],
   "source": [
    "puzzle.get_circuit().draw(output='mpl')"
   ]
  },
  {
   "cell_type": "markdown",
   "metadata": {},
   "source": [
    "###  アウトロ・終結\n",
    "ここまで、`CZ`ゲートについて何か役に立つことを学んできました。：\n",
    "制御のために選んだ量子ビットも問題はないです。`CZ`ゲートはどのケースも同じでしょう。\n",
    "このようなことが理由で、`CZ`ゲートで制御している量子ビットを選ぶことは、今でも要求されていないでしょう。"
   ]
  },
  {
   "cell_type": "markdown",
   "metadata": {},
   "source": [
    "## パズル 3b\n",
    "\n",
    "### イントロダクション・導入\n",
    "先ほど言及した通り、XとZの出力は量子ビットから出力を得る２つの方法を対応します。：XとZ測定です。\n",
    "これらの名前がヒントとなり、Y測定を3番目の方法としてみるでしょう。\n",
    "これらのパズルでは、現象をより単純にするために、ほとんどY測定について無視します。\n",
    "しかしながら、量子ビットの完全な記述では、Y出力がどのようなものであるかを追跡する必要があります。\n",
    "それぞれの量子ビットのYの出力は、ほかの円の列に加えることを意味します。\n",
    "その次の練習問題では、Yの出力の列が示されていることを除き、最後まで正確に同じです。\n",
    "これを使えば、最後のパズルで見たような不思議な効果は、まったく不思議ではありません。\n",
    "ご自分の目で確かめてみてください。\n",
    "\n",
    "###  練習問題\n",
    "*  `CZ`ゲートは2回実行しましょう。そして、そこで起こることを見てみましょう。"
   ]
  },
  {
   "cell_type": "code",
   "execution_count": 42,
   "metadata": {},
   "outputs": [
    {
     "data": {
      "application/vnd.jupyter.widget-view+json": {
       "model_id": "f01f6ed4651d4082a614bb8da99edf3b",
       "version_major": 2,
       "version_minor": 0
      },
      "text/plain": [
       "Image(value=b'\\x89PNG\\r\\n\\x1a\\n\\x00\\x00\\x00\\rIHDR\\x00\\x00\\x01\\xb0\\x00\\x00\\x01\\xb0\\x08\\x06\\x00\\x00\\x00\\xc8N0*\\x…"
      ]
     },
     "metadata": {},
     "output_type": "display_data"
    },
    {
     "data": {
      "application/vnd.jupyter.widget-view+json": {
       "model_id": "aa043207fae24a4bb83a728e917564bf",
       "version_major": 2,
       "version_minor": 0
      },
      "text/plain": [
       "VBox(children=(ToggleButtons(options=('Choose gate', 'cz'), value='Choose gate'), ToggleButtons(options=('',),…"
      ]
     },
     "metadata": {},
     "output_type": "display_data"
    },
    {
     "name": "stdout",
     "output_type": "stream",
     "text": [
      "\n",
      "Your quantum program so far:\n",
      "\n",
      "    q = QuantumRegister(2)\n",
      "    b = ClassicalRegister(2)\n",
      "    qc = QuantumCircuit(q,b)\n",
      "\n"
     ]
    }
   ],
   "source": [
    "initialize = [['h', '0'],['x', '1'],['h', '1']]\n",
    "success_condition = { }\n",
    "allowed_gates = {'0': {}, '1': {}, 'both': {'cz': 2}}\n",
    "vi = [[], True, True]\n",
    "qubit_names = {'0':'q[0]', '1':'q[1]'}\n",
    "puzzle = hello_quantum.run_game(initialize, success_condition, allowed_gates, vi, qubit_names, mode='y')"
   ]
  },
  {
   "cell_type": "code",
   "execution_count": 43,
   "metadata": {},
   "outputs": [
    {
     "data": {
      "image/png": "[encoded data removed]",
      "text/plain": [
       "<Figure size 86.452x204.68 with 1 Axes>"
      ]
     },
     "execution_count": 43,
     "metadata": {},
     "output_type": "execute_result"
    }
   ],
   "source": [
    "puzzle.get_circuit().draw(output='mpl')"
   ]
  },
  {
   "cell_type": "markdown",
   "metadata": {},
   "source": [
    "### アウトロ・終結\n",
    "ここで`CZ`ゲートによって、３番目の円の交換であることがわかります。そのトップの円（両方の量子ビットのXゲートのための相関関係を示すこと）は中間（両方の量子ビットのYの出力の相関関係を示すもの）の１つを交換します。\n",
    "その中間の列を見逃したとき、これは不思議なように思われます。これはただ、その量子ビットの記述は不完全であっただけです。\n",
    "それにも関わらず、Yの出力なしで、よりシンプルなグリッドを使うでしょう。\n",
    "もし、それらを加えるならば、`mode='y'`の議論を`hello_quantum.run_game`を使うでしょう。"
   ]
  },
  {
   "cell_type": "markdown",
   "metadata": {},
   "source": [
    "## パズル 4\n",
    "\n",
    "### イントロダクション・導入\n",
    "その前の練習問題で、`Z`ゲートと`X`ゲートから`H`ゲートを構築したでしょう。同じような方法で、`CZ`ゲートと`H`ゲートぁら`CX`ゲートを構築することができます。\n",
    "\n",
    "\n",
    "###  練習問題\n",
    "*  q[1]のZの出力をオンしましょう。"
   ]
  },
  {
   "cell_type": "code",
   "execution_count": 44,
   "metadata": {},
   "outputs": [
    {
     "data": {
      "application/vnd.jupyter.widget-view+json": {
       "model_id": "1c789792b68b412c98ed366a7de36a23",
       "version_major": 2,
       "version_minor": 0
      },
      "text/plain": [
       "Image(value=b'\\x89PNG\\r\\n\\x1a\\n\\x00\\x00\\x00\\rIHDR\\x00\\x00\\x01\\xb0\\x00\\x00\\x01\\xb0\\x08\\x06\\x00\\x00\\x00\\xc8N0*\\x…"
      ]
     },
     "metadata": {},
     "output_type": "display_data"
    },
    {
     "data": {
      "application/vnd.jupyter.widget-view+json": {
       "model_id": "a9b01024390e453c90f2707c80a7ce3d",
       "version_major": 2,
       "version_minor": 0
      },
      "text/plain": [
       "VBox(children=(ToggleButtons(options=('Choose gate', 'h', 'cz'), value='Choose gate'), ToggleButtons(options=(…"
      ]
     },
     "metadata": {},
     "output_type": "display_data"
    },
    {
     "name": "stdout",
     "output_type": "stream",
     "text": [
      "\n",
      "Your quantum program so far:\n",
      "\n",
      "    q = QuantumRegister(2)\n",
      "    b = ClassicalRegister(2)\n",
      "    qc = QuantumCircuit(q,b)\n",
      "\n"
     ]
    }
   ],
   "source": [
    "initialize = [['x', '0']]\n",
    "success_condition = {'IZ': -1.0}\n",
    "allowed_gates = {'0': {'h':0}, '1': {'h':0}, 'both': {'cz': 0}}\n",
    "vi = [[], True, True]\n",
    "qubit_names = {'0':'q[0]', '1':'q[1]'}\n",
    "puzzle = hello_quantum.run_game(initialize, success_condition, allowed_gates, vi, qubit_names)"
   ]
  },
  {
   "cell_type": "code",
   "execution_count": 45,
   "metadata": {},
   "outputs": [
    {
     "data": {
      "image/png": "[encoded data removed]",
      "text/plain": [
       "<Figure size 86.452x204.68 with 1 Axes>"
      ]
     },
     "execution_count": 45,
     "metadata": {},
     "output_type": "execute_result"
    }
   ],
   "source": [
    "puzzle.get_circuit().draw(output='mpl')"
   ]
  },
  {
   "cell_type": "markdown",
   "metadata": {},
   "source": [
    "### アウトロ・終結\n",
    "`CZ`ゲートと異なり、`CX`ゲートは対称的でないものです。もし、代わりに`q[0]`がターゲットの`CX`ゲートを構築したいならば、代わりに`q[0]`の`H`ゲートを構築しましょう。"
   ]
  },
  {
   "cell_type": "markdown",
   "metadata": {},
   "source": [
    "### パズル 5\n",
    "\n",
    "### イントロダクション・導入\n",
    "我々は`CZ`を「逆方向」に解釈することができました。つまり、ターゲットとなる量子ビットが制御の役割を果たし、\n",
    "逆にターゲットの量子ビットが制御の役割を果たすという代替の説明ができました。次に、`CX`についても同じように解釈してみましょう。\n",
    "`CX`ゲートと同じでしょう。しかしながら、そのゲートは対償的な結果を持つから、これは少しトリッキーでしょう。\n",
    "\n",
    "特に、そのことを考える代わりに、コントロールの Z 出力が何をしているかに応じてターゲットに `x`ゲート を行うと考えれば、ターゲットの X 出力が何をしているかに応じてコントロールに `z`ゲートを実行すると考えることができます。\n",
    "この練習問題では。ターゲットがコントロールしているようにみえて、実際にはコントロールがターゲットになっているのがわかるでしょう。\n",
    "\n",
    "###  練習問題\n",
    "* `q[0]`のX出力をオンしましょう。"
   ]
  },
  {
   "cell_type": "code",
   "execution_count": 46,
   "metadata": {},
   "outputs": [
    {
     "data": {
      "application/vnd.jupyter.widget-view+json": {
       "model_id": "fae4e29074a2430e946213b042d65517",
       "version_major": 2,
       "version_minor": 0
      },
      "text/plain": [
       "Image(value=b'\\x89PNG\\r\\n\\x1a\\n\\x00\\x00\\x00\\rIHDR\\x00\\x00\\x01\\xb0\\x00\\x00\\x01\\xb0\\x08\\x06\\x00\\x00\\x00\\xc8N0*\\x…"
      ]
     },
     "metadata": {},
     "output_type": "display_data"
    },
    {
     "data": {
      "application/vnd.jupyter.widget-view+json": {
       "model_id": "fd2b227747db432eb2afe78d4196ab78",
       "version_major": 2,
       "version_minor": 0
      },
      "text/plain": [
       "VBox(children=(ToggleButtons(options=('Choose gate', 'z', 'cx'), value='Choose gate'), ToggleButtons(options=(…"
      ]
     },
     "metadata": {},
     "output_type": "display_data"
    },
    {
     "name": "stdout",
     "output_type": "stream",
     "text": [
      "\n",
      "Your quantum program so far:\n",
      "\n",
      "    q = QuantumRegister(2)\n",
      "    b = ClassicalRegister(2)\n",
      "    qc = QuantumCircuit(q,b)\n",
      "\n"
     ]
    }
   ],
   "source": [
    "initialize = [['h', '0'],['h', '1']]\n",
    "success_condition = {'XI': -1.0, 'IX': -1.0}\n",
    "allowed_gates = {'0': {}, '1': {'z':0,'cx': 0}, 'both': {}}\n",
    "vi = [[], True, True]\n",
    "qubit_names = {'0':'q[0]', '1':'q[1]'}\n",
    "puzzle = hello_quantum.run_game(initialize, success_condition, allowed_gates, vi, qubit_names)"
   ]
  },
  {
   "cell_type": "code",
   "execution_count": 47,
   "metadata": {},
   "outputs": [
    {
     "data": {
      "image/png": "[encoded data removed]",
      "text/plain": [
       "<Figure size 86.452x204.68 with 1 Axes>"
      ]
     },
     "execution_count": 47,
     "metadata": {},
     "output_type": "execute_result"
    }
   ],
   "source": [
    "puzzle.get_circuit().draw(output='mpl')"
   ]
  },
  {
   "cell_type": "markdown",
   "metadata": {},
   "source": [
    "### アウトロ・終結\n",
    "どのように`CX`ゲートの動くかどうかについての２つの異なる話は矛盾しているように見えるかもしれないが、\n",
    "それらは同じように有効な記述です。\n",
    "量子ゲートの不思議で素晴らしい性質を示す素晴らしい例です。"
   ]
  },
  {
   "cell_type": "markdown",
   "metadata": {},
   "source": [
    "### パズル 6\n",
    "\n",
    "### イントロダクション・導入\n",
    "`CX`ゲートのこれらの２つの演算子を知っていて、とても役に立つものを実行できるでしょう。：1度戻ってみましょう。\n",
    "このパズルでは、ターゲットとした`q[1]`とともに`CX`ゲートを得るでしょう。しかし、`q[0]`をターゲットとして、１つのものを必要でしょう。\n",
    "いくつかの `h` ゲートの助けを借りて同じ効果を得る方法を見つけることができるかどうか見てみましょう。\n",
    "\n",
    "###  練習問題\n",
    "* `q[1]`のZ出力を維持しましょう。しかし、`q[0]`をZの出力をオフしましょう。"
   ]
  },
  {
   "cell_type": "code",
   "execution_count": 48,
   "metadata": {},
   "outputs": [
    {
     "data": {
      "application/vnd.jupyter.widget-view+json": {
       "model_id": "c8fb729c40a04b40b22ab48af3d4c9c6",
       "version_major": 2,
       "version_minor": 0
      },
      "text/plain": [
       "Image(value=b'\\x89PNG\\r\\n\\x1a\\n\\x00\\x00\\x00\\rIHDR\\x00\\x00\\x01\\xb0\\x00\\x00\\x01\\xb0\\x08\\x06\\x00\\x00\\x00\\xc8N0*\\x…"
      ]
     },
     "metadata": {},
     "output_type": "display_data"
    },
    {
     "data": {
      "application/vnd.jupyter.widget-view+json": {
       "model_id": "d6cb071b7ecb46ff84a2dd2581b65dad",
       "version_major": 2,
       "version_minor": 0
      },
      "text/plain": [
       "VBox(children=(ToggleButtons(options=('Choose gate', 'h', 'cx'), value='Choose gate'), ToggleButtons(options=(…"
      ]
     },
     "metadata": {},
     "output_type": "display_data"
    },
    {
     "name": "stdout",
     "output_type": "stream",
     "text": [
      "\n",
      "Your quantum program so far:\n",
      "\n",
      "    q = QuantumRegister(2)\n",
      "    b = ClassicalRegister(2)\n",
      "    qc = QuantumCircuit(q,b)\n",
      "\n"
     ]
    }
   ],
   "source": [
    "initialize = [('x','0'),('x','1')]\n",
    "success_condition = {'ZI': 1.0,'IZ': -1.0}\n",
    "allowed_gates = {'0': {'h':0}, '1': {'h':0,'cx':0}, 'both': {}}\n",
    "vi = [[], True, True]\n",
    "qubit_names = {'0':'q[0]', '1':'q[1]'}\n",
    "puzzle = hello_quantum.run_game(initialize, success_condition, allowed_gates, vi, qubit_names)"
   ]
  },
  {
   "cell_type": "code",
   "execution_count": 49,
   "metadata": {},
   "outputs": [
    {
     "data": {
      "image/png": "[encoded data removed]",
      "text/plain": [
       "<Figure size 86.452x204.68 with 1 Axes>"
      ]
     },
     "execution_count": 49,
     "metadata": {},
     "output_type": "execute_result"
    }
   ],
   "source": [
    "puzzle.get_circuit().draw(output='mpl')"
   ]
  },
  {
   "cell_type": "markdown",
   "metadata": {},
   "source": [
    "### アウトロ・終結\n",
    "もし、練習問題から何かを記憶するならば、おそらくそれはこのようなことであろう。\n",
    "本物の量子ビットのデバイスにとって、`CX`ゲートを実行できる方法を制限することは共通でしょう。\n",
    "また、それらの周囲を動かす力はとてもハンディです。"
   ]
  },
  {
   "cell_type": "markdown",
   "metadata": {},
   "source": [
    "### パズル  7\n",
    "\n",
    "### イントロダクション・導入\n",
    "他の有用な量子ゲートは`swap`ゲートです。これは名前から推測されることです。：２量子ビットの状態を交換します。\n",
    "Qiskitを通して、`swap`コマンドを単に呼び出すことを許可し、`CZ`ゲートや`CX`ゲートを自身で作り出すことはより興味深いことです。\n",
    "\n",
    "###  練習問題\n",
    "* ２量子ビットを交換しましょう。\n",
    "    -  q[0]にZの出力結果・白とXの出力結果灰色を作り出しましょう。\n",
    "    -  q[1]にZの出力結果・暗い灰色とXの出力結果・明るい灰色を作り出しましょう。"
   ]
  },
  {
   "cell_type": "code",
   "execution_count": 50,
   "metadata": {},
   "outputs": [
    {
     "data": {
      "application/vnd.jupyter.widget-view+json": {
       "model_id": "3dc225e7fbeb4c61b307f464be1ca081",
       "version_major": 2,
       "version_minor": 0
      },
      "text/plain": [
       "Image(value=b'\\x89PNG\\r\\n\\x1a\\n\\x00\\x00\\x00\\rIHDR\\x00\\x00\\x01\\xb0\\x00\\x00\\x01\\xb0\\x08\\x06\\x00\\x00\\x00\\xc8N0*\\x…"
      ]
     },
     "metadata": {},
     "output_type": "display_data"
    },
    {
     "data": {
      "application/vnd.jupyter.widget-view+json": {
       "model_id": "48b62ce8fcb64bfea5d58e53b2faf9f5",
       "version_major": 2,
       "version_minor": 0
      },
      "text/plain": [
       "VBox(children=(ToggleButtons(options=('Choose gate', 'h', 'cz'), value='Choose gate'), ToggleButtons(options=(…"
      ]
     },
     "metadata": {},
     "output_type": "display_data"
    },
    {
     "name": "stdout",
     "output_type": "stream",
     "text": [
      "\n",
      "Your quantum program so far:\n",
      "\n",
      "    q = QuantumRegister(2)\n",
      "    b = ClassicalRegister(2)\n",
      "    qc = QuantumCircuit(q,b)\n",
      "\n"
     ]
    }
   ],
   "source": [
    "initialize = [['ry(-pi/4)','0'],['ry(-pi/4)','0'],['ry(-pi/4)','0'],['x','0'],['x','1']]\n",
    "success_condition = {'ZI': -1.0,'XI':0,'IZ':0.7071,'IX':-0.7071}\n",
    "allowed_gates = {'0': {'h':0}, '1': {'h':0}, 'both': {'cz': 0}}\n",
    "vi = [[], True, True]\n",
    "qubit_names = {'0':'q[0]', '1':'q[1]'}\n",
    "puzzle = hello_quantum.run_game(initialize, success_condition, allowed_gates, vi, qubit_names)"
   ]
  },
  {
   "cell_type": "code",
   "execution_count": 51,
   "metadata": {},
   "outputs": [
    {
     "data": {
      "image/png": "[encoded data removed]",
      "text/plain": [
       "<Figure size 86.452x204.68 with 1 Axes>"
      ]
     },
     "execution_count": 51,
     "metadata": {},
     "output_type": "execute_result"
    }
   ],
   "source": [
    "puzzle.get_circuit().draw(output='mpl')"
   ]
  },
  {
   "cell_type": "markdown",
   "metadata": {},
   "source": [
    "### アウトロ・終結\n",
    "このパズルの解法が一般的な目的・`swap`であるとは限らないであろうことに留意してください。\n",
    "次の問題のために、それらの問題・swapゲートの実装の解法を比較してください。"
   ]
  },
  {
   "cell_type": "markdown",
   "metadata": {},
   "source": [
    "## パズル 8\n",
    "\n",
    "#### イントロダクション・導入\n",
    "これは他の`swap`ゲートを作りだすアイデアを基本としたパズルです。\n",
    "\n",
    "#### 練習問題\n",
    "* 2量子ビットを交換しましょう\n",
    "       * q[0]にXの出力結果・黒を作りましょう。\n",
    "       * q[1]にZの出力結果・白を作りましょう。\n",
    "* ３つの`CZ`ゲートを実行しましょう。"
   ]
  },
  {
   "cell_type": "code",
   "execution_count": 52,
   "metadata": {},
   "outputs": [
    {
     "data": {
      "application/vnd.jupyter.widget-view+json": {
       "model_id": "48e6ba259dcb4d79bb7632b8f4ea08ea",
       "version_major": 2,
       "version_minor": 0
      },
      "text/plain": [
       "Image(value=b'\\x89PNG\\r\\n\\x1a\\n\\x00\\x00\\x00\\rIHDR\\x00\\x00\\x01\\xb0\\x00\\x00\\x01\\xb0\\x08\\x06\\x00\\x00\\x00\\xc8N0*\\x…"
      ]
     },
     "metadata": {},
     "output_type": "display_data"
    },
    {
     "data": {
      "application/vnd.jupyter.widget-view+json": {
       "model_id": "960d0705a2ed4bcea224a19401de42ff",
       "version_major": 2,
       "version_minor": 0
      },
      "text/plain": [
       "VBox(children=(ToggleButtons(options=('Choose gate', 'h', 'cz'), value='Choose gate'), ToggleButtons(options=(…"
      ]
     },
     "metadata": {},
     "output_type": "display_data"
    },
    {
     "name": "stdout",
     "output_type": "stream",
     "text": [
      "\n",
      "Your quantum program so far:\n",
      "\n",
      "    q = QuantumRegister(2)\n",
      "    b = ClassicalRegister(2)\n",
      "    qc = QuantumCircuit(q,b)\n",
      "\n"
     ]
    }
   ],
   "source": [
    "initialize = [['x','0'],['h','1']]\n",
    "success_condition = {'XI':1,'IZ':-1}\n",
    "allowed_gates = {'0': {'h':0}, '1': {'h':0}, 'both': {'cz':3}}\n",
    "vi = [[], True, True]\n",
    "qubit_names = {'0':'q[0]', '1':'q[1]'}\n",
    "puzzle = hello_quantum.run_game(initialize, success_condition, allowed_gates, vi, qubit_names,shots=2000)"
   ]
  },
  {
   "cell_type": "code",
   "execution_count": 53,
   "metadata": {},
   "outputs": [
    {
     "data": {
      "image/png": "[encoded data removed]",
      "text/plain": [
       "<Figure size 86.452x204.68 with 1 Axes>"
      ]
     },
     "execution_count": 53,
     "metadata": {},
     "output_type": "execute_result"
    }
   ],
   "source": [
    "puzzle.get_circuit().draw(output='mpl')"
   ]
  },
  {
   "cell_type": "markdown",
   "metadata": {},
   "source": [
    "## パズル 9\n",
    "\n",
    "#### イントロダクション・導入\n",
    "ここで、ほかの`swap`ゲートを基本としたパズルを考えましょう。\n",
    "\n",
    "#### 練習問題\n",
    "* ２量子ビットを交換しましょう。：\n",
    "        * q[0]にZの出力結果をオンしましょう。\n",
    "        * q[1]にZの出力結果をオフしましょう。"
   ]
  },
  {
   "cell_type": "code",
   "execution_count": 54,
   "metadata": {
    "scrolled": false
   },
   "outputs": [
    {
     "data": {
      "application/vnd.jupyter.widget-view+json": {
       "model_id": "d6b4d61dfe18450eb60f52b7dffda19e",
       "version_major": 2,
       "version_minor": 0
      },
      "text/plain": [
       "Image(value=b'\\x89PNG\\r\\n\\x1a\\n\\x00\\x00\\x00\\rIHDR\\x00\\x00\\x01\\xb0\\x00\\x00\\x01\\xb0\\x08\\x06\\x00\\x00\\x00\\xc8N0*\\x…"
      ]
     },
     "metadata": {},
     "output_type": "display_data"
    },
    {
     "data": {
      "application/vnd.jupyter.widget-view+json": {
       "model_id": "1c1fc831d4904cbfb76a3fde13b04d96",
       "version_major": 2,
       "version_minor": 0
      },
      "text/plain": [
       "VBox(children=(ToggleButtons(options=('Choose gate', 'h', 'cz'), value='Choose gate'), ToggleButtons(options=(…"
      ]
     },
     "metadata": {},
     "output_type": "display_data"
    },
    {
     "name": "stdout",
     "output_type": "stream",
     "text": [
      "\n",
      "Your quantum program so far:\n",
      "\n",
      "    q = QuantumRegister(2)\n",
      "    b = ClassicalRegister(2)\n",
      "    qc = QuantumCircuit(q,b)\n",
      "\n"
     ]
    }
   ],
   "source": [
    "initialize = [['x','1']]\n",
    "success_condition = {'IZ':1.0,'ZI':-1.0}\n",
    "allowed_gates = {'0': {'h':0}, '1': {'h':0}, 'both': {'cz':0}}\n",
    "vi = [[], True, True]\n",
    "qubit_names = {'0':'q[0]', '1':'q[1]'}\n",
    "puzzle = hello_quantum.run_game(initialize, success_condition, allowed_gates, vi, qubit_names,shots=2000)"
   ]
  },
  {
   "cell_type": "code",
   "execution_count": 55,
   "metadata": {},
   "outputs": [
    {
     "data": {
      "image/png": "[encoded data removed]",
      "text/plain": [
       "<Figure size 86.452x204.68 with 1 Axes>"
      ]
     },
     "execution_count": 55,
     "metadata": {},
     "output_type": "execute_result"
    }
   ],
   "source": [
    "puzzle.get_circuit().draw(output='mpl')"
   ]
  },
  {
   "cell_type": "markdown",
   "metadata": {},
   "source": [
    "# レベル 4:クリフォードゲートを超すもの "
   ]
  },
  {
   "cell_type": "markdown",
   "metadata": {},
   "source": [
    "## パズル1a\n",
    "\n",
    "### イントロダクション・導入\n",
    "今まで見てきたゲート'クリフォードゲート'は量子コンピューターで情報を操作したり動かしたりするためにとても大事なものです。\n",
    "しかしながら、クリフォードゲート単独で使った標準的なコンピューターでより性能が優れているアルゴリズムを作り出すことはできないでしょう。\n",
    "新しいゲートが必要です。このパズルは、もう一度トライする機会を与えます。\n",
    "もしそれが働くことができるのであれば、単純に2～3回実行してみましょう。\n",
    "\n",
    "\n",
    "###  練習問題\n",
    "* q[0]に4回、`ry(pi/4)`を適応させてみましょう。"
   ]
  },
  {
   "cell_type": "code",
   "execution_count": 56,
   "metadata": {
    "scrolled": false
   },
   "outputs": [
    {
     "data": {
      "application/vnd.jupyter.widget-view+json": {
       "model_id": "74e86daf816c42d6bbeebdef94683815",
       "version_major": 2,
       "version_minor": 0
      },
      "text/plain": [
       "Image(value=b'\\x89PNG\\r\\n\\x1a\\n\\x00\\x00\\x00\\rIHDR\\x00\\x00\\x01\\xb0\\x00\\x00\\x01\\xb0\\x08\\x06\\x00\\x00\\x00\\xc8N0*\\x…"
      ]
     },
     "metadata": {},
     "output_type": "display_data"
    },
    {
     "data": {
      "application/vnd.jupyter.widget-view+json": {
       "model_id": "65327ce4da414c96806347ca03b70505",
       "version_major": 2,
       "version_minor": 0
      },
      "text/plain": [
       "VBox(children=(ToggleButtons(options=('Choose gate', 'ry(pi/4)'), value='Choose gate'), ToggleButtons(options=…"
      ]
     },
     "metadata": {},
     "output_type": "display_data"
    },
    {
     "name": "stdout",
     "output_type": "stream",
     "text": [
      "\n",
      "Your quantum program so far:\n",
      "\n",
      "    q = QuantumRegister(2)\n",
      "    b = ClassicalRegister(2)\n",
      "    qc = QuantumCircuit(q,b)\n",
      "\n"
     ]
    }
   ],
   "source": [
    "initialize = []\n",
    "success_condition = {}\n",
    "allowed_gates = {'0': {'ry(pi/4)': 4}, '1': {}, 'both': {}}\n",
    "vi = [[], True, True]\n",
    "qubit_names = {'0':'q[0]', '1':'q[1]'}\n",
    "puzzle = hello_quantum.run_game(initialize, success_condition, allowed_gates, vi, qubit_names)"
   ]
  },
  {
   "cell_type": "code",
   "execution_count": 57,
   "metadata": {},
   "outputs": [
    {
     "data": {
      "image/png": "[encoded data removed]",
      "text/plain": [
       "<Figure size 86.452x204.68 with 1 Axes>"
      ]
     },
     "execution_count": 57,
     "metadata": {},
     "output_type": "execute_result"
    }
   ],
   "source": [
    "puzzle.get_circuit().draw(output='mpl')"
   ]
  },
  {
   "cell_type": "markdown",
   "metadata": {},
   "source": [
    "###  アウトロ・終結\n",
    "もしそれが実行できたなら、それは素晴らしいことです！残りの問題は、その理解を手助けするために何か新しいことを試してみましょう！"
   ]
  },
  {
   "cell_type": "markdown",
   "metadata": {},
   "source": [
    "## パズル 1b\n",
    "\n",
    "### イントロダクション・導入\n",
    "その今までみたゲートをより理解を深めるするために、視覚化された量子ビットに異なる方法を用いてみましょう。\n",
    "ここで、この`0`を確かに与える出力結果は白の円より白の線が出現するでしょう。\n",
    "確かに`1`を与える出力結果は黒の円の代わりに黒の線でしょう。\\n\",\n",
    "ランダムな出力結果では、灰色の円の代わりに一部黒と白の線のものがわかるでしょう。\n",
    "\n",
    "この新しい視覚化に慣れていることを助ける古い練習問題を紹介しましょう。\n",
    "\n",
    "###  練習問題\n",
    "* ほとんど値が一致するXの出力結果を作って見ましょう。"
   ]
  },
  {
   "cell_type": "code",
   "execution_count": 58,
   "metadata": {},
   "outputs": [
    {
     "data": {
      "application/vnd.jupyter.widget-view+json": {
       "model_id": "59c18bdff1e749fda57f1a142807672e",
       "version_major": 2,
       "version_minor": 0
      },
      "text/plain": [
       "Image(value=b'\\x89PNG\\r\\n\\x1a\\n\\x00\\x00\\x00\\rIHDR\\x00\\x00\\x01\\xb0\\x00\\x00\\x01\\xb0\\x08\\x06\\x00\\x00\\x00\\xc8N0*\\x…"
      ]
     },
     "metadata": {},
     "output_type": "display_data"
    },
    {
     "data": {
      "application/vnd.jupyter.widget-view+json": {
       "model_id": "15b25ce51df84f51abb3bb569c2c3ca8",
       "version_major": 2,
       "version_minor": 0
      },
      "text/plain": [
       "VBox(children=(ToggleButtons(options=('Choose gate', 'x', 'z', 'h'), value='Choose gate'), ToggleButtons(optio…"
      ]
     },
     "metadata": {},
     "output_type": "display_data"
    },
    {
     "name": "stdout",
     "output_type": "stream",
     "text": [
      "\n",
      "Your quantum program so far:\n",
      "\n",
      "    q = QuantumRegister(2)\n",
      "    b = ClassicalRegister(2)\n",
      "    qc = QuantumCircuit(q,b)\n",
      "\n"
     ]
    }
   ],
   "source": [
    "initialize = [['x','0']]\n",
    "success_condition = {'XX': 1.0}\n",
    "allowed_gates = {'0': {'x': 0, 'z': 0, 'h': 0}, '1': {'x': 0, 'z': 0, 'h': 0}, 'both': {}}\n",
    "vi = [[], True, True]\n",
    "qubit_names = {'0':'q[0]', '1':'q[1]'}\n",
    "puzzle = hello_quantum.run_game(initialize, success_condition, allowed_gates, vi, qubit_names, mode='line')"
   ]
  },
  {
   "cell_type": "code",
   "execution_count": 59,
   "metadata": {},
   "outputs": [
    {
     "data": {
      "image/png": "[encoded data removed]",
      "text/plain": [
       "<Figure size 86.452x204.68 with 1 Axes>"
      ]
     },
     "execution_count": 59,
     "metadata": {},
     "output_type": "execute_result"
    }
   ],
   "source": [
    "puzzle.get_circuit().draw(output='mpl')"
   ]
  },
  {
   "cell_type": "markdown",
   "metadata": {},
   "source": [
    "## パズル 1c\n",
    "\n",
    "### イントロダクション・導入\n",
    "このパズルでは、新しいことを実行するでしょう。：それは`bloch`です。\n",
    "これは実際のゲートではなく、量子プログラムを見せるものではないであろう。\n",
    "代わりに、それぞれのトップにある量子ビットの2本の線を描くことにより、視覚的な変化をするものです。\n",
    "それはまたレベルを横切るポイントを示し、幸運にも`ry(pi/4)`の動き方を示すことができます。\n",
    "\n",
    "\n",
    "###  練習問題\n",
    "* `q[0]`の下の線をすべてオンにしてください。そうすると`bloch`ゲートを使うことができます。"
   ]
  },
  {
   "cell_type": "code",
   "execution_count": 60,
   "metadata": {
    "scrolled": false
   },
   "outputs": [
    {
     "data": {
      "application/vnd.jupyter.widget-view+json": {
       "model_id": "961767f7c5f34cb0884379eb99de574f",
       "version_major": 2,
       "version_minor": 0
      },
      "text/plain": [
       "Image(value=b'\\x89PNG\\r\\n\\x1a\\n\\x00\\x00\\x00\\rIHDR\\x00\\x00\\x01\\xb0\\x00\\x00\\x01\\xb0\\x08\\x06\\x00\\x00\\x00\\xc8N0*\\x…"
      ]
     },
     "metadata": {},
     "output_type": "display_data"
    },
    {
     "data": {
      "application/vnd.jupyter.widget-view+json": {
       "model_id": "567def51b8544788b27d2e7b063c05f5",
       "version_major": 2,
       "version_minor": 0
      },
      "text/plain": [
       "VBox(children=(ToggleButtons(options=('Choose gate', 'bloch', 'unbloch', 'ry(pi/4)'), value='Choose gate'), To…"
      ]
     },
     "metadata": {},
     "output_type": "display_data"
    },
    {
     "name": "stdout",
     "output_type": "stream",
     "text": [
      "\n",
      "Your quantum program so far:\n",
      "\n",
      "    q = QuantumRegister(2)\n",
      "    b = ClassicalRegister(2)\n",
      "    qc = QuantumCircuit(q,b)\n",
      "\n"
     ]
    }
   ],
   "source": [
    "initialize = []\n",
    "success_condition = {'ZI': -1.0}\n",
    "allowed_gates = {'0': {'bloch':1, 'ry(pi/4)': 0}, '1':{}, 'both': {'unbloch':0}}\n",
    "vi = [[], True, True]\n",
    "qubit_names = {'0':'q[0]', '1':'q[1]'}\n",
    "puzzle = hello_quantum.run_game(initialize, success_condition, allowed_gates, vi, qubit_names, mode='line')"
   ]
  },
  {
   "cell_type": "code",
   "execution_count": 61,
   "metadata": {},
   "outputs": [
    {
     "data": {
      "image/png": "[encoded data removed]",
      "text/plain": [
       "<Figure size 86.452x204.68 with 1 Axes>"
      ]
     },
     "execution_count": 61,
     "metadata": {},
     "output_type": "execute_result"
    }
   ],
   "source": [
    "puzzle.get_circuit().draw(output='mpl')"
   ]
  },
  {
   "cell_type": "markdown",
   "metadata": {},
   "source": [
    "###  アウトロ・終結\n",
    "もし以下のポイントに従えば、`ry(pi/4)`の結果は$\\\\pi/4$ラジアン(45度)回転するものであることに留意すべきでしょう。\n",
    "その線のレベルはまた、マッチするように変化する。その他の方向の回転を除いて、`ry(-pi/4)`ゲートは同じであろう。\n",
    "おそらく気が付いているしょうが、`bloch`を使うことはそれぞれの量子ビットに2本の線を結びつけません。\n",
    "それは、全体の列を結びつけます。"
   ]
  },
  {
   "cell_type": "markdown",
   "metadata": {},
   "source": [
    "## パズル 2\n",
    "\n",
    "### イントロダクション・導入\n",
    "さあ、ほかの量子ビットでこれらのゲートを使いましょう。\n",
    "\n",
    "###  練習問題\n",
    "* 下の線を完全にオンにしましょう。 "
   ]
  },
  {
   "cell_type": "code",
   "execution_count": 62,
   "metadata": {
    "scrolled": false
   },
   "outputs": [
    {
     "data": {
      "application/vnd.jupyter.widget-view+json": {
       "model_id": "c8a501b48f22432da5d72e0443fc84e0",
       "version_major": 2,
       "version_minor": 0
      },
      "text/plain": [
       "Image(value=b'\\x89PNG\\r\\n\\x1a\\n\\x00\\x00\\x00\\rIHDR\\x00\\x00\\x01\\xb0\\x00\\x00\\x01\\xb0\\x08\\x06\\x00\\x00\\x00\\xc8N0*\\x…"
      ]
     },
     "metadata": {},
     "output_type": "display_data"
    },
    {
     "data": {
      "application/vnd.jupyter.widget-view+json": {
       "model_id": "3f64941fec954bdc9ec230da1c9fdefe",
       "version_major": 2,
       "version_minor": 0
      },
      "text/plain": [
       "VBox(children=(ToggleButtons(options=('Choose gate', 'bloch', 'unbloch', 'ry(-pi/4)', 'ry(pi/4)'), value='Choo…"
      ]
     },
     "metadata": {},
     "output_type": "display_data"
    },
    {
     "name": "stdout",
     "output_type": "stream",
     "text": [
      "\n",
      "Your quantum program so far:\n",
      "\n",
      "    q = QuantumRegister(2)\n",
      "    b = ClassicalRegister(2)\n",
      "    qc = QuantumCircuit(q,b)\n",
      "\n"
     ]
    }
   ],
   "source": [
    "initialize = [['h','0'],['h','1']]\n",
    "success_condition = {'ZI': -1.0,'IZ': -1.0}\n",
    "allowed_gates = {'0': {'bloch':0, 'ry(pi/4)': 0, 'ry(-pi/4)': 0}, '1': {'bloch':0, 'ry(pi/4)': 0, 'ry(-pi/4)': 0}, 'both': {'unbloch':0}}\n",
    "vi = [[], True, True]\n",
    "qubit_names = {'0':'q[0]', '1':'q[1]'}\n",
    "puzzle = hello_quantum.run_game(initialize, success_condition, allowed_gates, vi, qubit_names, mode='line')"
   ]
  },
  {
   "cell_type": "code",
   "execution_count": 63,
   "metadata": {},
   "outputs": [
    {
     "data": {
      "image/png": "[encoded data removed]",
      "text/plain": [
       "<Figure size 86.452x204.68 with 1 Axes>"
      ]
     },
     "execution_count": 63,
     "metadata": {},
     "output_type": "execute_result"
    }
   ],
   "source": [
    "puzzle.get_circuit().draw(output='mpl')"
   ]
  },
  {
   "cell_type": "markdown",
   "metadata": {},
   "source": [
    "## パズル 3\n",
    "\n",
    "### イントロダクション・導入\n",
    "ここには単に`CX`、`CZ`やいくつかの`H`ゲートで解くことができるパズルがあります。不可解なことに、`CX`や`H`ゲートを持っていないとき、\n",
    "どのように`CZ`や`ry`をその機能で使うことができるかを働かせる必要があるでしょう。\n",
    "\n",
    "###  練習問題\n",
    "* Zの出力結果が一致するようにしましょう。"
   ]
  },
  {
   "cell_type": "code",
   "execution_count": 64,
   "metadata": {},
   "outputs": [
    {
     "data": {
      "application/vnd.jupyter.widget-view+json": {
       "model_id": "a193065db6dc4b37ae689d6985a71c59",
       "version_major": 2,
       "version_minor": 0
      },
      "text/plain": [
       "Image(value=b'\\x89PNG\\r\\n\\x1a\\n\\x00\\x00\\x00\\rIHDR\\x00\\x00\\x01\\xb0\\x00\\x00\\x01\\xb0\\x08\\x06\\x00\\x00\\x00\\xc8N0*\\x…"
      ]
     },
     "metadata": {},
     "output_type": "display_data"
    },
    {
     "data": {
      "application/vnd.jupyter.widget-view+json": {
       "model_id": "e54509aca94e42f0b3604a5052dbec0e",
       "version_major": 2,
       "version_minor": 0
      },
      "text/plain": [
       "VBox(children=(ToggleButtons(options=('Choose gate', 'bloch', 'unbloch', 'cz', 'ry(-pi/4)', 'ry(pi/4)'), value…"
      ]
     },
     "metadata": {},
     "output_type": "display_data"
    },
    {
     "name": "stdout",
     "output_type": "stream",
     "text": [
      "\n",
      "Your quantum program so far:\n",
      "\n",
      "    q = QuantumRegister(2)\n",
      "    b = ClassicalRegister(2)\n",
      "    qc = QuantumCircuit(q,b)\n",
      "\n"
     ]
    }
   ],
   "source": [
    "initialize = [['h','0']]\n",
    "success_condition = {'ZZ': 1.0}\n",
    "allowed_gates = {'0': {}, '1': {'bloch':0, 'ry(pi/4)': 0, 'ry(-pi/4)': 0}, 'both': {'unbloch':0,'cz':0}}\n",
    "vi = [[], True, True]\n",
    "qubit_names = {'0':'q[0]', '1':'q[1]'}\n",
    "puzzle = hello_quantum.run_game(initialize, success_condition, allowed_gates, vi, qubit_names, mode='line')"
   ]
  },
  {
   "cell_type": "code",
   "execution_count": 65,
   "metadata": {},
   "outputs": [
    {
     "data": {
      "image/png": "[encoded data removed]",
      "text/plain": [
       "<Figure size 86.452x204.68 with 1 Axes>"
      ]
     },
     "execution_count": 65,
     "metadata": {},
     "output_type": "execute_result"
    }
   ],
   "source": [
    "puzzle.get_circuit().draw(output='mpl')"
   ]
  },
  {
   "cell_type": "markdown",
   "metadata": {},
   "source": [
    "## パズル 4\n",
    "\n",
    "### イントロダクション・導入\n",
    "反対方向に動かすために、効果的に`ry`を_reflect_することができる`X`や`Z`を使いましょう。\n",
    "\n",
    "###  練習問題\n",
    "* Z出力を完全にオフにして、それぞれに 1 つの `ry(pi/4)` だけを配置します。"
   ]
  },
  {
   "cell_type": "code",
   "execution_count": 66,
   "metadata": {},
   "outputs": [
    {
     "data": {
      "application/vnd.jupyter.widget-view+json": {
       "model_id": "867ab627e5b54864861251ba063a0dcc",
       "version_major": 2,
       "version_minor": 0
      },
      "text/plain": [
       "Image(value=b'\\x89PNG\\r\\n\\x1a\\n\\x00\\x00\\x00\\rIHDR\\x00\\x00\\x01\\xb0\\x00\\x00\\x01\\xb0\\x08\\x06\\x00\\x00\\x00\\xc8N0*\\x…"
      ]
     },
     "metadata": {},
     "output_type": "display_data"
    },
    {
     "data": {
      "application/vnd.jupyter.widget-view+json": {
       "model_id": "de933ce6a644464e9da27055dac9b01e",
       "version_major": 2,
       "version_minor": 0
      },
      "text/plain": [
       "VBox(children=(ToggleButtons(options=('Choose gate', 'bloch', 'unbloch', 'x', 'z', 'ry(pi/4)'), value='Choose …"
      ]
     },
     "metadata": {},
     "output_type": "display_data"
    },
    {
     "name": "stdout",
     "output_type": "stream",
     "text": [
      "\n",
      "Your quantum program so far:\n",
      "\n",
      "    q = QuantumRegister(2)\n",
      "    b = ClassicalRegister(2)\n",
      "    qc = QuantumCircuit(q,b)\n",
      "\n"
     ]
    }
   ],
   "source": [
    "initialize = [['ry(pi/4)','0'],['ry(pi/4)','1']]\n",
    "success_condition = {'ZI': 1.0,'IZ': 1.0}\n",
    "allowed_gates = {'0': {'bloch':0, 'z':0, 'ry(pi/4)': 1}, '1': {'bloch':0, 'x':0, 'ry(pi/4)': 1}, 'both': {'unbloch':0}}\n",
    "vi = [[], True, True]\n",
    "qubit_names = {'0':'q[0]', '1':'q[1]'}\n",
    "puzzle = hello_quantum.run_game(initialize, success_condition, allowed_gates, vi, qubit_names, mode='line')"
   ]
  },
  {
   "cell_type": "code",
   "execution_count": 67,
   "metadata": {},
   "outputs": [
    {
     "data": {
      "image/png": "[encoded data removed]",
      "text/plain": [
       "<Figure size 86.452x204.68 with 1 Axes>"
      ]
     },
     "execution_count": 67,
     "metadata": {},
     "output_type": "execute_result"
    }
   ],
   "source": [
    "puzzle.get_circuit().draw(output='mpl')"
   ]
  },
  {
   "cell_type": "markdown",
   "metadata": {},
   "source": [
    "## パズル 5\n",
    "\n",
    "### イントロダクション・導入\n",
    "`ry`では、`CZ`や`CX`よりもより興味深い条件付きのゲートを作り出すことができます。\n",
    "例えば、制御された`H`ゲートを作り出すことができます。\n",
    "\n",
    "###  練習問題\n",
    "* その量子ビットで正確に１つだけ`ry(pi/4)`と`ry(-pi/4)`を使い、q[1]でZの出力結果をオフにしましょう。"
   ]
  },
  {
   "cell_type": "code",
   "execution_count": 68,
   "metadata": {},
   "outputs": [
    {
     "data": {
      "application/vnd.jupyter.widget-view+json": {
       "model_id": "9781a9e3eabb4cf38b8a8cc0f020b6da",
       "version_major": 2,
       "version_minor": 0
      },
      "text/plain": [
       "Image(value=b'\\x89PNG\\r\\n\\x1a\\n\\x00\\x00\\x00\\rIHDR\\x00\\x00\\x01\\xb0\\x00\\x00\\x01\\xb0\\x08\\x06\\x00\\x00\\x00\\xc8N0*\\x…"
      ]
     },
     "metadata": {},
     "output_type": "display_data"
    },
    {
     "data": {
      "application/vnd.jupyter.widget-view+json": {
       "model_id": "daec6126fd2b41f79cdaec3f8a0df05a",
       "version_major": 2,
       "version_minor": 0
      },
      "text/plain": [
       "VBox(children=(ToggleButtons(options=('Choose gate', 'bloch', 'unbloch', 'cx', 'ry(-pi/4)', 'ry(pi/4)'), value…"
      ]
     },
     "metadata": {},
     "output_type": "display_data"
    },
    {
     "name": "stdout",
     "output_type": "stream",
     "text": [
      "\n",
      "Your quantum program so far:\n",
      "\n",
      "    q = QuantumRegister(2)\n",
      "    b = ClassicalRegister(2)\n",
      "    qc = QuantumCircuit(q,b)\n",
      "\n"
     ]
    }
   ],
   "source": [
    "initialize = [['x','0'],['h','1']]\n",
    "success_condition = {'IZ': 1.0}\n",
    "allowed_gates = {'0': {}, '1': {'bloch':0, 'cx':0, 'ry(pi/4)': 1, 'ry(-pi/4)': 1}, 'both': {'unbloch':0}}\n",
    "vi = [[], True, True]\n",
    "qubit_names = {'0':'q[0]', '1':'q[1]'}\n",
    "puzzle = hello_quantum.run_game(initialize, success_condition, allowed_gates, vi, qubit_names, mode='line')"
   ]
  },
  {
   "cell_type": "code",
   "execution_count": 69,
   "metadata": {},
   "outputs": [
    {
     "data": {
      "image/png": "[encoded data removed]",
      "text/plain": [
       "<Figure size 86.452x204.68 with 1 Axes>"
      ]
     },
     "execution_count": 69,
     "metadata": {},
     "output_type": "execute_result"
    }
   ],
   "source": [
    "puzzle.get_circuit().draw(output='mpl')"
   ]
  },
  {
   "cell_type": "markdown",
   "metadata": {},
   "source": [
    "# ボーナスレベル: Sandbox\n",
    "完全にパワフルな量子プログラムを構築するために、十分な基本的な量子ゲートを知っているでしょう。\n",
    "ファイナルレベルの状況を得るでしょう。しかしそれより以前は、ここはボーナスレベルの組でしょう。\n",
    "最初に、新しいスキルに挑戦するためのサンドボックス：全てのゲートが有効になっているゲートがあり、その付近で遊ぶことができます。\n",
    "ここに、クリフォードゲートではないゲートを助けるために、線を基本とした視覚化されたものがあります。"
   ]
  },
  {
   "cell_type": "code",
   "execution_count": 70,
   "metadata": {},
   "outputs": [
    {
     "data": {
      "application/vnd.jupyter.widget-view+json": {
       "model_id": "80265af41a4d455f8dce79c51d26c72e",
       "version_major": 2,
       "version_minor": 0
      },
      "text/plain": [
       "Image(value=b'\\x89PNG\\r\\n\\x1a\\n\\x00\\x00\\x00\\rIHDR\\x00\\x00\\x01\\xb0\\x00\\x00\\x01\\xb0\\x08\\x06\\x00\\x00\\x00\\xc8N0*\\x…"
      ]
     },
     "metadata": {},
     "output_type": "display_data"
    },
    {
     "data": {
      "application/vnd.jupyter.widget-view+json": {
       "model_id": "06894f0cb1fc4aefb78739816af81bf7",
       "version_major": 2,
       "version_minor": 0
      },
      "text/plain": [
       "VBox(children=(ToggleButtons(options=('Choose gate', 'bloch', 'unbloch', 'x', 'z', 'h', 'cz', 'cx', 'ry(-pi/4)…"
      ]
     },
     "metadata": {},
     "output_type": "display_data"
    },
    {
     "name": "stdout",
     "output_type": "stream",
     "text": [
      "\n",
      "Your quantum program so far:\n",
      "\n",
      "    q = QuantumRegister(2)\n",
      "    b = ClassicalRegister(2)\n",
      "    qc = QuantumCircuit(q,b)\n",
      "\n"
     ]
    }
   ],
   "source": [
    "initialize = []\n",
    "success_condition = {'IZ': 1.0,'IX': 1.0}\n",
    "allowed_gates = {'0': {'bloch':0, 'x':0, 'z':0, 'h':0, 'cx':0, 'ry(pi/4)': 0, 'ry(-pi/4)': 0}, '1': {'bloch':0, 'x':0, 'z':0, 'h':0, 'cx':0, 'ry(pi/4)': 0, 'ry(-pi/4)': 0}, 'both': {'cz':0, 'unbloch':0}}\n",
    "vi = [[], True, True]\n",
    "qubit_names = {'0':'q[0]', '1':'q[1]'}\n",
    "line_sandbox = hello_quantum.run_game(initialize, success_condition, allowed_gates, vi, qubit_names, mode='line')"
   ]
  },
  {
   "cell_type": "code",
   "execution_count": 71,
   "metadata": {},
   "outputs": [
    {
     "data": {
      "image/png": "[encoded data removed]",
      "text/plain": [
       "<Figure size 86.452x204.68 with 1 Axes>"
      ]
     },
     "execution_count": 71,
     "metadata": {},
     "output_type": "execute_result"
    }
   ],
   "source": [
    "line_sandbox.get_circuit().draw(output='mpl')"
   ]
  },
  {
   "cell_type": "markdown",
   "metadata": {},
   "source": [
    "ここにはｙ測定の出力結果を記述する中間の線のグリッドがあります。\n",
    "これではクリフォードゲートではない新しいものをまた確かめることができます。：`rx(pi/4)` と`rx(-pi/4)`"
   ]
  },
  {
   "cell_type": "code",
   "execution_count": 72,
   "metadata": {},
   "outputs": [
    {
     "data": {
      "application/vnd.jupyter.widget-view+json": {
       "model_id": "a526934744454a258f03dd5fb9875c3a",
       "version_major": 2,
       "version_minor": 0
      },
      "text/plain": [
       "Image(value=b'\\x89PNG\\r\\n\\x1a\\n\\x00\\x00\\x00\\rIHDR\\x00\\x00\\x01\\xb0\\x00\\x00\\x01\\xb0\\x08\\x06\\x00\\x00\\x00\\xc8N0*\\x…"
      ]
     },
     "metadata": {},
     "output_type": "display_data"
    },
    {
     "data": {
      "application/vnd.jupyter.widget-view+json": {
       "model_id": "d3c49dad78c5445ea1e7907984ffa274",
       "version_major": 2,
       "version_minor": 0
      },
      "text/plain": [
       "VBox(children=(ToggleButtons(options=('Choose gate', 'x', 'z', 'h', 'cz', 'cx', 'ry(-pi/4)', 'rx(pi/4)', 'rx(-…"
      ]
     },
     "metadata": {},
     "output_type": "display_data"
    },
    {
     "name": "stdout",
     "output_type": "stream",
     "text": [
      "\n",
      "Your quantum program so far:\n",
      "\n",
      "    q = QuantumRegister(2)\n",
      "    b = ClassicalRegister(2)\n",
      "    qc = QuantumCircuit(q,b)\n",
      "\n"
     ]
    }
   ],
   "source": [
    "initialize = []\n",
    "success_condition = {'IZ': 1.0,'IX': 1.0}\n",
    "allowed_gates = {'0': {'x':0, 'z':0, 'h':0, 'cx':0, 'ry(pi/4)': 0, 'rx(pi/4)': 0, 'ry(-pi/4)': 0, 'rx(-pi/4)': 0}, '1': {'x':0, 'z':0, 'h':0, 'cx':0, 'ry(pi/4)': 0, 'rx(pi/4)': 0, 'ry(-pi/4)': 0, 'rx(-pi/4)': 0}, 'both': {'cz':0}}\n",
    "vi = [[], True, True]\n",
    "qubit_names = {'0':'q[0]', '1':'q[1]'}\n",
    "y_sandbox = hello_quantum.run_game(initialize, success_condition, allowed_gates, vi, qubit_names, mode='y')"
   ]
  },
  {
   "cell_type": "code",
   "execution_count": 73,
   "metadata": {},
   "outputs": [
    {
     "data": {
      "image/png": "[encoded data removed]",
      "text/plain": [
       "<Figure size 86.452x204.68 with 1 Axes>"
      ]
     },
     "execution_count": 73,
     "metadata": {},
     "output_type": "execute_result"
    }
   ],
   "source": [
    "y_sandbox.get_circuit().draw(output='mpl')"
   ]
  },
  {
   "cell_type": "markdown",
   "metadata": {},
   "source": [
    "# ボーナスレベル:自分でパズルをつくってみましょう。\n",
    "\n",
    "何問かのパズルを示すのと同様に、私たちは私たち自身でパズルを作り、共有する機会をもうけましょう。\n",
    "Quantum Experienceを使うことで、簡単にあなたのノートを完全にあなた自身のパズルにすることができます。\n",
    "'New Notebook'のボタン [参照ページ](https://quantum-computing.ibm.com/jupyter)をクリックすることにより始めてください。\n",
    "それから、importsのリストに以下の線を加えてください。\n",
    "```\n",
    "from qiskit_textbook.games import hello_quantum\n",
    "```\n",
    "\n",
    "これはパズルを作るためにあなたが必要なツールを示唆します。特に、あなたはそれ自身のcall・以下のフォームを使う`run_game`の機能を作り出す必要があります。\n",
    "```\n",
    "puzzle = hello_quantum.run_game(initialize, success_condition, allowed_gates, vi, qubit_names, mode=None)\n",
    "```\n",
    "\n",
    "これの全ての要素は以下で説明されます。\n",
    "\n",
    "`puzzle`\n",
    "* これはあなたが作ったパズルを構成するオブジェクトです。\n",
    "* プレイヤーによって作られたその量子サーキットは`puzzle.get_circuit()`を使いアクセスすることができます。\n",
    "\n",
    "`initialize`\n",
    "* 初期状態を準備するために、パズルが始まる前にあるゲートのリストが対応します。\n",
    "* これがもし空であれば、そのデフォルトの量子ビットの初期状態は使われています。そのZ出力結果が`0`であると決まっているでしょう。\n",
    "* `'0'`や`'1'`の量子ビットに対応する１つの量子ビットのゲートは`'x'`、`'y'`、 `'z'`、 `'h'` と `'ry(pi/4)'`です。\n",
    "* 2量子ビットは`'cz'`と`'cx'`を支援するでしょう。これらにとっては、たった１つターゲットの量子ビットです。\n",
    "* Example: `initialize = [['x', '0'],['cx', '1']]`.\n",
    "\n",
    "`success_condition`\n",
    "* パウリの排他的原理は成功（一致）を宣言するためのパズルのために得たものであると示唆します。\n",
    "* 以下のフォームで円の名前はその辞書のキーを表現されます。：\n",
    "    * `'ZI'`は左の量子ビットのZの出力結果とXの出力結果のための`'XI'`を示します。\n",
    "    * `'IZ'`と`'IX'`は単に右の量子ビットの結果です。\n",
    "    * `'ZX'`は左の量子ビットのZの出力結果と右のXの出力結果間の相関関係の円を示します。\n",
    "    * 上記以外にも様々です。\n",
    "    \n",
    "* 辞書の値はこれらの円がそのパズルを完全に解くことができたに違いないという値です。\n",
    "    * 黒の1.0 \n",
    "    * 白の-1.0 \n",
    "    * 灰色の0.0 \n",
    "    * 上記以外にも様々です。\n",
    "* その状態で含める必要のある円だけはリスト化される必要があります。\n",
    "* 例： `success_condition = {'IZ': 1.0}`.\n",
    "\n",
    "`allowed_gates`\n",
    "\n",
    "* それぞれの量子ビットでは、どの演算子がこのパズルに有効であるかを特定します。\n",
    "* `'cz'`と`'unbloch'`のように特定されるために必要がない演算子では、`'0'`か`'1'`の量子ビットの代わりに`'both'`の演算子をアサインします。\n",
    "* ゲートは整数型の値として辞書に表現します。\n",
    "    * 整数が0以外の場合は、パズルが完全に解けるようにするためにゲートを使用しなければならない正確な回数を指定します。\n",
    "    * それが0ならば、そのプレイヤーは何度もゲートを使うことができるでしょう。\n",
    " * 例: `allowed_gates = {'0': {'h':0}, '1': {'h':0}, 'both': {'cz': 1}}`.\n",
    "\n",
    "`vi`\n",
    "\n",
    "*\n",
    "3つの要素として可視化される情報があります。：`vi=[hidden,qubit,corr]`\n",
    "これらは以下のことを特定します。\n",
    "    * `hidden`: どの量子ビットが隠れているか（両方のリストが空になっていない）\n",
    "    * `qubit`:各ビットのために示されている両方の円かどうか（量子ビットパズルの`true`と量子ビットパズルの`False`を使います）\n",
    "    * `corr`: 円の相関（中間の４つの円）が示されているかどうか\n",
    "* Example: `vi = [[], True, True]`.\n",
    "\n",
    "`qubit_names`\n",
    "\n",
    "* 2量子ビットは内部的にいつも`'0'`または`'1'`と呼ばれています。しかし、プレイヤーによっては、異なった呼び方で示されるでしょう。\n",
    "* Example: `qubit_names = {'0':'qubit 0', '1':'qubit 1'}`\n",
    "\n",
    "`mode`\n",
    "\n",
    "* オプションの引数で、Y出力の行を含めるか、ラインベースの可視化を使用するかを選択できます。\n",
    "* `mode=None`を使うことや、モードの引数をまったく含まないことはデフォルトのモードを示します。\n",
    "* `mode='y'`はY出力の列を含みます。 \n",
    "* `mode='line'`はラインベースの視覚化を示します。\n",
    "\n",
    "ここに与えられた例によって定義されたパズルは以下のセルにより実行することができます。"
   ]
  },
  {
   "cell_type": "code",
   "execution_count": 74,
   "metadata": {},
   "outputs": [
    {
     "data": {
      "application/vnd.jupyter.widget-view+json": {
       "model_id": "5f524e64935641a19a869e3cd4024aba",
       "version_major": 2,
       "version_minor": 0
      },
      "text/plain": [
       "Image(value=b'\\x89PNG\\r\\n\\x1a\\n\\x00\\x00\\x00\\rIHDR\\x00\\x00\\x01\\xb0\\x00\\x00\\x01\\xb0\\x08\\x06\\x00\\x00\\x00\\xc8N0*\\x…"
      ]
     },
     "metadata": {},
     "output_type": "display_data"
    },
    {
     "data": {
      "application/vnd.jupyter.widget-view+json": {
       "model_id": "07d89d86cd144be8bfac6cd03ff99a9f",
       "version_major": 2,
       "version_minor": 0
      },
      "text/plain": [
       "VBox(children=(ToggleButtons(options=('Choose gate', 'h', 'cz'), value='Choose gate'), ToggleButtons(options=(…"
      ]
     },
     "metadata": {},
     "output_type": "display_data"
    }
   ],
   "source": [
    "initialize = [['x', '0'],['cx', '1']]\n",
    "success_condition = {'IZ': 1.0}\n",
    "allowed_gates = {'0': {'h':0}, '1': {'h':0}, 'both': {'cz': 1}}\n",
    "vi = [[], True, True]\n",
    "qubit_names = {'0':'qubit 0', '1':'qubit 1'}\n",
    "mode = None\n",
    "puzzle = hello_quantum.run_game(initialize, success_condition, allowed_gates, vi, qubit_names, mode=mode)"
   ]
  },
  {
   "cell_type": "markdown",
   "metadata": {},
   "source": [
    "彼らが目的を果たすべきことをプレイヤーに伝えていることを覚えているでしょう。\n",
    "このノートブックのパズルにとって、そのターゲットの状態はテキストに記述されています。\n",
    "しかし、以下のようにしてプレイヤーへのショートメッセージを含め、ターゲットの状態のイメージを代わりに作り出すことができます。\n",
    "再度これは上に提示された例のパラメーターを使います。"
   ]
  },
  {
   "cell_type": "code",
   "execution_count": 75,
   "metadata": {},
   "outputs": [
    {
     "data": {
      "image/png": "[encoded data removed]",
      "text/plain": [
       "<Figure size 432x432 with 1 Axes>"
      ]
     },
     "metadata": {},
     "output_type": "display_data"
    }
   ],
   "source": [
    "message = '\\nRules:\\n    Use exactly one cz gate.'\n",
    "grid = hello_quantum.pauli_grid(mode=mode)\n",
    "grid.update_grid(rho=success_condition, hidden=vi[0], qubit=vi[1], corr=vi[2], message=message)"
   ]
  },
  {
   "cell_type": "markdown",
   "metadata": {},
   "source": [
    "その一致する必要のある円だけが示されることに留意してください。\n",
    "ほかの人とあなたのパズルを共有するために、あなたが作ったノートブックをセーブして、彼らにそれを単純に送ってください。\n",
    "[IBM Quantum Experience](https://quantum-computing.ibm.com/jupyter)の'Import'ボタンを使い、Quantum Experienceを開くことによりそれをプレイすることができます。"
   ]
  },
  {
   "cell_type": "markdown",
   "metadata": {},
   "source": [
    "# レベル 5: 量子変数の一意性の証明"
   ]
  },
  {
   "cell_type": "markdown",
   "metadata": {},
   "source": [
    "## 古典変数を用いたベルのテスト\n",
    "\n",
    "ここでは、どのように量子変数（量子ビットを元としたもの）が普通のもの（ビットを元としたもの）と異なるかを調べてみましょう。\n",
    "私たちは`A`と`B`という変数のペアを作り出すことによりこれを行うでしょう。\n",
    "私たちはこれらがとりうる状態や彼らが初期化する方法を表現しないでしょう。\n",
    "または、たくさんの可能性があります。\n",
    "\n",
    "* いくつかの変数を取るかもしれません。例えば以下の通りです。\n",
    "    * 整数型　\n",
    "    * リスト型\n",
    "    * 辞書型\n",
    "    * ...\n",
    "* いくつかのプロセスの種類により初期化されるでしょう。例えば、以下の通りです。\n",
    "    * 空の状態\n",
    "    * 値の集合を満たすもの\n",
    "    * ランダムなプロセスにより生み出されるもの\n",
    "        * 独立的に`A`と`B`に適用されるもの\n",
    "        * `A`と`B`を同時に適用し、それらのランダムさの相関で許可されるもの\n",
    "\n",
    "もしその変数がランダムなプロセスにより初期化される場合、彼らがプログラムが実行するときはいつも異なった値をとることを意味しています。\n",
    "これは完全に一致しています。私たちが従う必要のある１つのルールはランダムさを生み出すプロセスはすべての実行で同じであることです。\n",
    "私たちは、これらの変数をセットアップするために以下の関数を使います。\n",
    "これは、浮動小数点数のランダムな相関が部分的に定義される`A`と`B`を持ちます。\n",
    "しかし、あなたは欲しいものは何でもそれに変えることができます。"
   ]
  },
  {
   "cell_type": "code",
   "execution_count": 76,
   "metadata": {},
   "outputs": [],
   "source": [
    "import random\n",
    "def setup_variables ():\n",
    "    \n",
    "    ### Replace this section with anything you want ###\n",
    "    \n",
    "    r = random.random()\n",
    "    \n",
    "    A = r*(2/3)\n",
    "    B = r*(1/3)\n",
    "    \n",
    "    ### End of section ###\n",
    "    \n",
    "    return A, B"
   ]
  },
  {
   "cell_type": "markdown",
   "metadata": {},
   "source": [
    "次の仕事は寄せ集めた関数を定義することです。\n",
    "これはただインプットとして変数のうちの1つをとる必要があり、結果としての値のビットをとります。\n",
    "\n",
    "この関数もまた、hashした2つの異なったタイプのものを行うことができるに違いない。\n",
    "また、変数を論議したり、異なった方法でビットを出すことができる必要があります。\n",
    "それ故、私たちはまた、関数に使いたいハッシュの種類を伝える必要があります。\n",
    "\n",
    "その問題の残りの首尾一貫性を整えるために、その２つの可能なハッシュのタイプは`H`と`V`と呼ばれるべきかもしれません。\n",
    "それもまた、結果はただ1ビットの文字列の型に違いない。：`'0'`か`'1'`のどちらかです。\n",
    "\n",
    "公平で任意の与えられた例から、そのビットは`A`と`B`を比較することにより任意の値へ生成されていました。\n",
    "その値以下であれば、その出力は`'1'`で、その値以上であれば、`'0'`である。\n",
    "そのhashの型は値の使い方を決定します。"
   ]
  },
  {
   "cell_type": "code",
   "execution_count": 77,
   "metadata": {},
   "outputs": [],
   "source": [
    "def hash2bit ( variable, hash ):\n",
    "    \n",
    "    ### Replace this section with anything you want ###\n",
    "    \n",
    "    if hash=='V':\n",
    "        bit = (variable<0.5)\n",
    "    elif hash=='H':\n",
    "        bit = (variable<0.25)\n",
    "        \n",
    "    bit = str(int(bit)) # Turn True or False into '1' and '0'\n",
    "    \n",
    "    ### End of section ###\n",
    "        \n",
    "    return bit"
   ]
  },
  {
   "cell_type": "markdown",
   "metadata": {},
   "source": [
    "一度これらが定義されると、計測したい４つの量があります。： `P['HH']`、`P['HV']`、`P['VH']`、`P['VV']`\n",
    "\n",
    "`P['HV']` を例として焦点を当てましょう。\n",
    "\n",
    "これは`A`の`'H'`タイプのhash値に由来するビットの値が`B`の`'V'`タイプのhash値と異なる確率があります。\n",
    "私たちは何度もサンプリングしたり、合致しない値のビットを比較する例の分数を決定することにより、その確率を見積もるでしょう。\n",
    "\n",
    "他の可能性は精通するように定義されています。：\n",
    "`P['HH']`は`A`と`B`の両方で`H`タイプのハッシュ値を比較します。\n",
    "`P['VV']`は両方で`V`タイプのハッシュ値を比較します。\n",
    "そして、`P['VH']` は、`A` の `V` 型ハッシュと `B` の `H` 型ハッシュを比較します。\n",
    "\n",
    "これらの確率は，以下の関数で計算され，辞書内の `P` のすべての値を返します．\n",
    "そのパラメーター`shots`は私たちが使用しているサンプル数です。"
   ]
  },
  {
   "cell_type": "code",
   "execution_count": 78,
   "metadata": {},
   "outputs": [],
   "source": [
    "shots = 8192\n",
    "def calculate_P ( ):\n",
    "    \n",
    "    P = {}\n",
    "    for hashes in ['VV','VH','HV','HH']:\n",
    "        \n",
    "        # calculate each P[hashes] by sampling over `shots` samples\n",
    "        P[hashes] = 0\n",
    "        for shot in range(shots):\n",
    "\n",
    "            A, B = setup_variables()\n",
    "\n",
    "            a = hash2bit ( A, hashes[0] ) # hash type for variable `A` is the first character of `hashes`\n",
    "            b = hash2bit ( B, hashes[1] ) # hash type for variable `B` is the second character of `hashes`\n",
    "\n",
    "            P[hashes] += (a!=b) / shots\n",
    " \n",
    "    return P"
   ]
  },
  {
   "cell_type": "markdown",
   "metadata": {},
   "source": [
    "では、実際に変数をハッシュし選択する方法でこれらの値を計算してみましょう。"
   ]
  },
  {
   "cell_type": "code",
   "execution_count": 79,
   "metadata": {},
   "outputs": [
    {
     "name": "stdout",
     "output_type": "stream",
     "text": [
      "{'VV': 0.2569580078125, 'VH': 0.0, 'HV': 0.6253662109375, 'HH': 0.376220703125}\n"
     ]
    }
   ],
   "source": [
    "P = calculate_P()\n",
    "print(P)"
   ]
  },
  {
   "cell_type": "markdown",
   "metadata": {},
   "source": [
    "これらの値は、限られたショット数しか使用していないため、1回の実行で若干変動します。\n",
    "それらを視覚的に変えるために、私たちは変数を初期化する方法やそのhash関数を定義する方法を変える必要があります。\n",
    "たとえこれらの関数を定義する方法はなんでも、値`P`が常に従う制限があります。\n",
    "\n",
    "たとえば、`P['HV']`、`P['VH']` と`P['VV']`の値が全て`0.0`のときを考えてみましょう。\n",
    "これが可能である唯一の方法は`P['HH']=0.0`であることです。\n",
    "\n",
    "その理由を確認するために、まず、`P['HV']=0.0` が `hash2bit(A, H)` と `hash2bit(B, V)` がどの実行でも変わらないことを示していることに注目します。\n",
    "\n",
    "これは、いつもそれが値が同じであることを予測することができることを意味します。\n",
    "\n",
    "    hash2bit(A, H) = hash2bit(B, V)        (1)\n",
    "    \n",
    "`P['VV']=0.0` と `P['VH']=0.0`から単純に(2)と(3)を得ることができます。\n",
    "\n",
    "    hash2bit(A, V) = hash2bit(B, V)        (2)\n",
    "    \n",
    "    hash2bit(A, V) = hash2bit(B, H)        (3)\n",
    "    \n",
    "(1)と(2)を同時に表現することは(4)を示します。\n",
    "\n",
    "    hash2bit(A, H) = hash2bit(A, V)        (4)\n",
    "    \n",
    "(3)と(4)を結びつけることは(5)を与えます。\n",
    "\n",
    "    hash2bit(A, H) = hash2bit(B, H)        (5)\n",
    "\n",
    "そして、これらの値がいつも同じならば、私たちはそれらが違う実行であることが理解できないでしょう。\n",
    "これは私たちがまさに証明しようとしたことである。： `P['HH']=0.0`\n",
    "\n",
    "一般的には、`P['HH']`の値の上限を設定するための`P['HV']`と`P['VH']` と`P['VV']`の 値を使うことができます。\n",
    "\n",
    "[CHSH inequality](https://en.wikipedia.org/wiki/CHSH_inequality)を適応することにより、以下のことがわかります。\n",
    "$\\,\\,\\,\\,\\,\\,\\,$ `P['HH']` $\\, \\leq \\,$ `P['HV'] + P['VH'] + P['VV']`\n",
    "\n",
    "これは`P['HH']`の特別な属性ではないです。\n",
    "それは他に全てのものについても当てはまります。:これらの確率のそれぞれが他のものの合計よりも大きくなることはありません。\n",
    "\n",
    "この論理性を保持するかどうかをテストするために、その確率がこれらの不均衡にどの程度従うかを確かめるでしょう。\n",
    "\n",
    "`P` の値が正確ではなく、限られたサンプル数を用いて推定されたものであるという事実のために、\n",
    "わずかな違反が発生する可能性があることに注意してください。"
   ]
  },
  {
   "cell_type": "code",
   "execution_count": 80,
   "metadata": {},
   "outputs": [],
   "source": [
    "def bell_test (P):\n",
    "    \n",
    "    sum_P = sum(P.values())\n",
    "    for hashes in P:\n",
    "        \n",
    "        bound = sum_P - P[hashes]\n",
    "        \n",
    "        print(\"The upper bound for P['\"+hashes+\"'] is \"+str(bound))\n",
    "        print(\"The value of P['\"+hashes+\"'] is \"+str(P[hashes]))\n",
    "        if P[hashes]<=bound:\n",
    "            print(\"The upper bound is obeyed :)\\n\")\n",
    "        else:\n",
    "            if P[hashes]-bound < 0.1:\n",
    "                print(\"This seems to have gone over the upper bound, but only by a little bit :S\\nProbably just rounding errors or statistical noise.\\n\")\n",
    "            else:\n",
    "                print(\"!!!!! This has gone well over the upper bound :O !!!!!\\n\")"
   ]
  },
  {
   "cell_type": "code",
   "execution_count": 81,
   "metadata": {},
   "outputs": [
    {
     "name": "stdout",
     "output_type": "stream",
     "text": [
      "The upper bound for P['VV'] is 1.0015869140625\n",
      "The value of P['VV'] is 0.2569580078125\n",
      "The upper bound is obeyed :)\n",
      "\n",
      "The upper bound for P['VH'] is 1.258544921875\n",
      "The value of P['VH'] is 0.0\n",
      "The upper bound is obeyed :)\n",
      "\n",
      "The upper bound for P['HV'] is 0.6331787109375\n",
      "The value of P['HV'] is 0.6253662109375\n",
      "The upper bound is obeyed :)\n",
      "\n",
      "The upper bound for P['HH'] is 0.88232421875\n",
      "The value of P['HH'] is 0.376220703125\n",
      "The upper bound is obeyed :)\n",
      "\n"
     ]
    }
   ],
   "source": [
    "bell_test(P)"
   ]
  },
  {
   "cell_type": "markdown",
   "metadata": {},
   "source": [
    "このノートブックで与えられるhash関数と初期化で、`P('HV')`の値は上界とほとんど等しいでしょう。\n",
    "統計的に推定された数字なので、統計的なノイズの影響で若干の近似値になっていますので、少しオーバーしてしまうこともあるかもしれません。\n",
    "しかし、下界の値を大幅に上回ることはないでしょう。\n",
    "もしあなたがそれを信じられないならば、自分で試してみてください。\n",
    "変数の初期化の方法やhash関数の計算方法を変えてみてください。そして境界の値のいずれかが大きく破られるようにしてみてください。"
   ]
  },
  {
   "cell_type": "markdown",
   "metadata": {},
   "source": [
    "## 量子変数を用いたベルのテスト\n",
    "\n",
    "ここでは、AとBが量子の変数であることを除き、今までと全ての同じことを行おうとしています。\n",
    "特に、それらは量子変数の種類の中で最もシンプルでしょう。：「量子ビット」と呼びます。"
   ]
  },
  {
   "cell_type": "markdown",
   "metadata": {},
   "source": [
    "量子プログラミングを書く時、それらを使う前に、私たちは量子ビットと古典ビットを設定しなくてはいけません。\n",
    "\n",
    "これは以下の関数によって実行されます。それは２ビットのレジスタを定義し、`A`と`B`の変数としてそれらを割当てます。\n",
    "それから、結果を受け取るための２ビットをセットアップするでしょう、そして`a`と`b`としてそれらを割り当てます。\n",
    "最終的に、それは空の量子プログラムを設定するために、これらのレジスタを使います。\n",
    "これは`qc`と呼ばれています。"
   ]
  },
  {
   "cell_type": "code",
   "execution_count": 82,
   "metadata": {},
   "outputs": [],
   "source": [
    "from qiskit import QuantumRegister, ClassicalRegister, QuantumCircuit\n",
    "\n",
    "def initialize_program ():\n",
    "    \n",
    "    qubit = QuantumRegister(2)\n",
    "    A = qubit[0]\n",
    "    B = qubit[1]\n",
    "    \n",
    "    bit = ClassicalRegister(2)\n",
    "    a = bit[0]\n",
    "    b = bit[1]\n",
    "    \n",
    "    qc = QuantumCircuit(qubit, bit)\n",
    "    \n",
    "    return A, B, a, b, qc"
   ]
  },
  {
   "cell_type": "markdown",
   "metadata": {},
   "source": [
    "私たちの変数をセットアップするために量子プログラムを書き始める前に、プログラムの最後に何が起こる必要があるのかを考えてみましょう。\n",
    "ここは、量子ビットをビットに変換する、異なったhash関数を定義する場所でしょう。\n",
    "\n",
    "量子ビットからビットへ抽出する最もシンプルな方法は`measure`ゲートを通して行われます。\n",
    "これは私たちが使う視覚化した量子ビットのZ出力結果に対応します。`V`タイプのhashとしてこれを使いましょう。\n",
    "\n",
    "Xの出力結果に対応する出力結果のために、アクセスのダイレクトな手段はない。\n",
    "しかしながら、そのトップやZの出力結果を交換するために`h`(アダマール)を最初に行い、そして`measure`ゲートを使うことにより、\n",
    "私たちは間接的にそれを行うことができます。\n",
    "これは`H`タイプのhashでしょう。\n",
    "\n",
    "この関数は古典ビットに相当するより多くのインプットを持つことに留意しましょう。\n",
    "\n",
    "結果を書くための `bit` と、ゲートを書くための量子プログラム `qc` を伝えなければならない。"
   ]
  },
  {
   "cell_type": "code",
   "execution_count": 83,
   "metadata": {},
   "outputs": [],
   "source": [
    "def hash2bit  ( variable, hash, bit, qc ):\n",
    "    \n",
    "    if hash=='H':\n",
    "        qc.h( variable )\n",
    "        \n",
    "    qc.measure( variable, bit )"
   ]
  },
  {
   "cell_type": "markdown",
   "metadata": {},
   "source": [
    "とうとう、`A`と`B`の変数をセットアップする時間が来ました。このプログラムを書くために、以下の格子を使うことができます。\n",
    "あなたは好きなものを全て行うか、提案された練習問題をフォローするかどちらかのことをすることができます。\n",
    "\n",
    "いったん準備したら、それは実行するでしょう。\n",
    "そのセルに含まれているもの・`setup_variables()`関数はその格子に書かれているプログラムを使うでしょう。\n",
    "\n",
    "円と格子は明確に対応する `P['HH']`、`P['HV']`、`P['VH']` と`P['VV']`の確率の手段の選択肢に留意しましょう。\n",
    "\n",
    "例えば、最もトップの円はどのくらいXの出力結果が不一致であるかを教えてくれます。\n",
    "もしこれが白ならば、`P['HH']=1`であり、もしそれが黒ならば、`P['HH']=0`です。\n",
    "\n",
    "### 練習問題\n",
    "*　量子ビットの両方のXの出力結果はおそらく不一致であり、一方で、全ての出力結果の組み合わせはほとんど一致するでしょう。"
   ]
  },
  {
   "cell_type": "code",
   "execution_count": 84,
   "metadata": {
    "scrolled": false
   },
   "outputs": [
    {
     "data": {
      "application/vnd.jupyter.widget-view+json": {
       "model_id": "cf35bb80e1bb4636ba9e1dd3200f2b97",
       "version_major": 2,
       "version_minor": 0
      },
      "text/plain": [
       "Image(value=b'\\x89PNG\\r\\n\\x1a\\n\\x00\\x00\\x00\\rIHDR\\x00\\x00\\x01\\xb0\\x00\\x00\\x01\\xb0\\x08\\x06\\x00\\x00\\x00\\xc8N0*\\x…"
      ]
     },
     "metadata": {},
     "output_type": "display_data"
    },
    {
     "data": {
      "application/vnd.jupyter.widget-view+json": {
       "model_id": "0bddcd4e39634499b7df798e76c7ccff",
       "version_major": 2,
       "version_minor": 0
      },
      "text/plain": [
       "VBox(children=(ToggleButtons(options=('Choose gate', 'bloch', 'unbloch', 'x', 'z', 'h', 'cz', 'cx', 'ry(-pi/4)…"
      ]
     },
     "metadata": {},
     "output_type": "display_data"
    }
   ],
   "source": [
    "initialize = []\n",
    "success_condition = {'ZZ':+0.7071,'ZX':+0.7071,'XZ':+0.7071,'XX':-0.7071}\n",
    "allowed_gates = {'0': {'bloch':0, 'x':0, 'z':0, 'h':0, 'cx':0, 'ry(pi/4)': 0, 'ry(-pi/4)': 0}, '1': {'bloch':0, 'x':0, 'z':0, 'h':0, 'cx':0, 'ry(pi/4)': 0, 'ry(-pi/4)': 0}, 'both': {'cz':0, 'unbloch':0}}\n",
    "vi = [[], True, True]\n",
    "qubit_names = {'0':'A', '1':'B'}\n",
    "puzzle = hello_quantum.run_game(initialize, success_condition, allowed_gates, vi, qubit_names, mode='line')"
   ]
  },
  {
   "cell_type": "markdown",
   "metadata": {},
   "source": [
    "上記に書かれたプログラムは量子の変数をセットアップするために使われるでしょう。"
   ]
  },
  {
   "cell_type": "code",
   "execution_count": 85,
   "metadata": {},
   "outputs": [],
   "source": [
    "import numpy as np\n",
    "def setup_variables ( A, B, qc ):\n",
    "    \n",
    "    for line in puzzle.program:\n",
    "        eval(line)"
   ]
  },
  {
   "cell_type": "markdown",
   "metadata": {},
   "source": [
    "`P`の値は以下の関数で計算されます。\n",
    "このノートの残りの部分のパズルと同様に、Qiskitを使ってジョブを実行して、可能な出力を与えたサンプルの数がわかる結果を得ています。\n",
    "\n",
    "その出力結果はQiskitが右から左へ番号をつけるstringビット`string`として与えられます。\n",
    "これは`bit[0]`に対応する`a`の値が最も右にあることを意味します。\n",
    "\n",
    "    a = string[-1]\n",
    "    \n",
    "そして、`b`の値は右から２番目のものの次にあります。。\n",
    "\n",
    "    b = string[-2]\n",
    "\n",
    "このビット文字列のサンプル数は、結果の辞書 `stats` から `stats[string]` として与えられます。"
   ]
  },
  {
   "cell_type": "code",
   "execution_count": 86,
   "metadata": {},
   "outputs": [],
   "source": [
    "shots = 8192\n",
    "from qiskit import execute\n",
    "\n",
    "def calculate_P ( backend ):\n",
    "    \n",
    "    P = {}\n",
    "    program = {}\n",
    "    for hashes in ['VV','VH','HV','HH']:\n",
    "\n",
    "        A, B, a, b, program[hashes] = initialize_program ()\n",
    "\n",
    "        setup_variables( A, B, program[hashes] )\n",
    "\n",
    "        hash2bit ( A, hashes[0], a, program[hashes])\n",
    "        hash2bit ( B, hashes[1], b, program[hashes])\n",
    "            \n",
    "    # submit jobs\n",
    "    job = execute( list(program.values()), backend, shots=shots )\n",
    "\n",
    "    # get the results\n",
    "    for hashes in ['VV','VH','HV','HH']:\n",
    "        stats = job.result().get_counts(program[hashes])\n",
    "        \n",
    "        P[hashes] = 0\n",
    "        for string in stats.keys():\n",
    "            a = string[-1]\n",
    "            b = string[-2]\n",
    "            \n",
    "            if a!=b:\n",
    "                P[hashes] += stats[string] / shots\n",
    "\n",
    "    return P"
   ]
  },
  {
   "cell_type": "markdown",
   "metadata": {},
   "source": [
    "今、私たちの使っているデバイスを実際にセットアップして、選ぶ時間です。\n",
    "デフォルトでは、シミュレーターを使うでしょう。\n",
    "あなたは適宜バックエンドを変えることにより、クラウドをベースの本当のデバイスを代わりに使うことができるでしょう。"
   ]
  },
  {
   "cell_type": "code",
   "execution_count": 87,
   "metadata": {},
   "outputs": [],
   "source": [
    "from qiskit import Aer\n",
    "device = 'qasm_simulator'\n",
    "backend = Aer.get_backend(device)"
   ]
  },
  {
   "cell_type": "code",
   "execution_count": 88,
   "metadata": {},
   "outputs": [
    {
     "name": "stdout",
     "output_type": "stream",
     "text": [
      "{'VV': 0, 'VH': 0.4998779296875, 'HV': 0.5029296875, 'HH': 0.50732421875}\n"
     ]
    }
   ],
   "source": [
    "P = calculate_P( backend )\n",
    "print(P)"
   ]
  },
  {
   "cell_type": "code",
   "execution_count": 89,
   "metadata": {},
   "outputs": [
    {
     "name": "stdout",
     "output_type": "stream",
     "text": [
      "The upper bound for P['VV'] is 1.5101318359375\n",
      "The value of P['VV'] is 0\n",
      "The upper bound is obeyed :)\n",
      "\n",
      "The upper bound for P['VH'] is 1.01025390625\n",
      "The value of P['VH'] is 0.4998779296875\n",
      "The upper bound is obeyed :)\n",
      "\n",
      "The upper bound for P['HV'] is 1.0072021484375\n",
      "The value of P['HV'] is 0.5029296875\n",
      "The upper bound is obeyed :)\n",
      "\n",
      "The upper bound for P['HH'] is 1.0028076171875\n",
      "The value of P['HH'] is 0.50732421875\n",
      "The upper bound is obeyed :)\n",
      "\n"
     ]
    }
   ],
   "source": [
    "bell_test( P )"
   ]
  },
  {
   "cell_type": "markdown",
   "metadata": {
    "collapsed": true
   },
   "source": [
    "もしあなたが練習問題によって状態の示唆を準備したら、あなたは`P['HH']`の上限値の大幅な違反を発見したことになるでしょう。\n",
    "ここでは何が起こっているのでしょうか？\n",
    "明らかにベルのテストに基づいたロジックのチェーンは量子変数に適用しないです。\n",
    "しかし、何故でしょうか？\n",
    " \n",
    "その答えはロジックの隠された仮説にあります。理由を理解するためには、(4)のポイントを再び考えてみましょう。\n",
    "\n",
    "    hash2bit ( A, H ) = hash2bit ( A, V )        (4)\n",
    "    \n",
    "ここでは、`A`の変数のhashの`H`タイプから得ることができる値と`V`タイプのhashを比べてみましょう。   \n",
    "\n",
    "古典の変数では、これは完全に自明です。\n",
    "両方のhashを計算し、結果を比較することを止めるものは何もありません。\n",
    "たとえ変数のhashを計算するものが変数に変わったとしても、それは問題ではありません。\n",
    "それよりも前に、私たちが必要とするすべてのことはそれをコピーし、その後何も問題がなく両方のhashを実行することができることです。\n",
    "\n",
    "その同じことは量子の変数でも真ではない。私たちがそれらを実際に行うまで、そのhashの結果は知られていないです。\n",
    "量子ビットが実際にどのビット値を与えるかを決定するのはその時だけです。\n",
    "そして、一度それが1種類のhashの値を決めてしまうと、他のタイプのhashを使っていたら何を決めていたのかが分からなくなってしまいます。\n",
    "\n",
    "私たちは量子変数のどちらもコピーすることによってこれを得ることができません。\n",
    "なぜなら、量子の変数は[コピー禁止](https://en.wikipedia.org/wiki/No-cloning_theorem)だからです。 \n",
    "これは`hash2bit(A,H)` and `hash2bit(A,V)`が同時期によりよく定義されているテキストがないことを意味し、それらを比較することは不可能です。\n",
    "\n",
    "他の隠された仮説は`hash2bit(A,hash)` が変数`A`によって選択されるhashのタイプであることと\n",
    "` B`の変数によって選択されたもう１つのhashタイプではないことに依存します。\n",
    "これは、`hash2bit()`関数を設定した方法と正確に同じなので、完全に理にかなっています。\n",
    "しかしながら、もっと上界が違反していた事柄そのものがそれぞれの変数が他の変数に対して、\n",
    "どのようなhashが他に行われているかを知ることを示唆するように見えます。\n",
    "そして、それらは両方が `H` 型のハッシュを持っているときに非常に異なる動作を与えるために共謀することができます。\n",
    "\n",
    "そのようなことから、量子ビットのhashの選択は他の結果に影響すると言えないでしょう。\n",
    "その結果はそれよりもより複雑です。\n",
    "\n",
    "例えば、どの変数がどれに影響を与えるかを決めることは不可能です。:\n",
    "あなたはそのhashが実行された順番や[同時期にそれらを効率的に扱うこと](https://en.wikipedia.org/wiki/Loopholes_in_Bell_test_experiments#Communication,_or_locality)を変えることができます。\n",
    "そして、同じ結果を得ることができるでしょう。\n",
    "ここで言うことができることは結果が [量子文脈性](https://en.wikipedia.org/wiki/Quantum_contextuality)であることです。:\n",
    "１つに変数から結果を完全に理解するために、他に行われていることを見ることをたまに要求することです。\n",
    "すべてのこのことは、量子変数がいつも私たちの使っている論理をフォローするとは限らないことを示すでしょう。\n",
    "彼らは異なるルール、量子力学のルールに従っており、それによって新しい、異なる方法で計算を行う方法を見つけることができます。"
   ]
  }
 ],
 "metadata": {
  "kernelspec": {
   "display_name": "Python 3",
   "language": "python",
   "name": "python3"
  },
  "language_info": {
   "codemirror_mode": {
    "name": "ipython",
    "version": 3
   },
   "file_extension": ".py",
   "mimetype": "text/x-python",
   "name": "python",
   "nbconvert_exporter": "python",
   "pygments_lexer": "ipython3",
   "version": "3.8.5"
  }
 },
 "nbformat": 4,
 "nbformat_minor": 2
}
